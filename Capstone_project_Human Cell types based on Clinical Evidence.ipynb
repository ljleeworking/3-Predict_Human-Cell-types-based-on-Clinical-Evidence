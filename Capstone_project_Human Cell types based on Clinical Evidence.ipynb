{
 "cells": [
  {
   "cell_type": "markdown",
   "metadata": {},
   "source": [
    "# Predicting Human Cell types based on Clinical Evidence\n",
    "Kaggle competition - Personalized Medicine: Redefining Cancer Treatment\n",
    "https://www.kaggle.com/c/msk-redefining-cancer-treatment\n",
    "\n",
    "Work by:\n",
    "Lee Lin Jie (LJ Lee)\n",
    "- PhD in Life Sciences\n",
    "- Aspiring Data Scientist\n",
    "Email: ljleeworking@gmail.com"
   ]
  },
  {
   "cell_type": "markdown",
   "metadata": {},
   "source": [
    "# Introduction\n",
    "#### Use genes, genetic mutation/variation and Clinical literature text to predict human cell types\n",
    "\n",
    "Genes mutation and variation cause tumour and cancer growth.\n",
    "![](image/Capture.PNG)"
    "\n",
    "#### Why predict Cell types and study Genetic Mutations? \n",
    "Use case:\n",
    "- Identify genes and mutations relate to tumor \n",
    "- Classify mutation/variation (Cancer or not)\n",
    "- Personalized medicine\n",
    "- Early illness intervention\n",
    "![](image/Capture2.PNG)"
   ]
  },
  {
   "cell_type": "markdown",
   "metadata": {},
   "source": [
    "# Part 1-Data cleaning and EDA"
   ]
  },
  {
   "cell_type": "code",
   "execution_count": 1,
   "metadata": {},
   "outputs": [],
   "source": [
    "import pandas as pd\n",
    "import numpy as np\n",
    "import warnings\n",
    "warnings.filterwarnings(\"ignore\")\n",
    "\n",
    "# load the csv files\n",
    "train_df = pd.read_csv(\"./training_df.csv\") \n",
    "test_df = pd.read_csv('./testing_df.csv') "
   ]
  },
  {
   "cell_type": "code",
   "execution_count": 2,
   "metadata": {},
   "outputs": [
    {
     "name": "stdout",
     "output_type": "stream",
     "text": [
      "(986, 3)\n",
      "<class 'pandas.core.frame.DataFrame'>\n",
      "RangeIndex: 986 entries, 0 to 985\n",
      "Data columns (total 3 columns):\n",
      "Text         986 non-null object\n",
      "Gene         986 non-null object\n",
      "Variation    986 non-null object\n",
      "dtypes: object(3)\n",
      "memory usage: 23.2+ KB\n",
      "None\n",
      "                                                Text    Gene  \\\n",
      "0  The incidence of breast cancer is increasing i...   CHEK2   \n",
      "1  An unselected series of 310 colorectal carcino...   AXIN2   \n",
      "2  Mycosis fungoides and SÃ©zary syndrome are pri...    WNT4   \n",
      "3   Regulated progression through the cell cycle ...  SUCLA2   \n",
      "4  Pilocytic astrocytoma (PA) is emerging as a tu...    BRAF   \n",
      "\n",
      "              Variation  \n",
      "0                 H371Y  \n",
      "1  Truncating Mutations  \n",
      "2                 E216G  \n",
      "3                 G118R  \n",
      "4             T599insTT  \n"
     ]
    }
   ],
   "source": [
    "# Check the test dataset\n",
    "print(test_df.shape)\n",
    "print(test_df.info())\n",
    "# no null values\n",
    "print(test_df.head())"
   ]
  },
  {
   "cell_type": "code",
   "execution_count": 3,
   "metadata": {},
   "outputs": [
    {
     "name": "stdout",
     "output_type": "stream",
     "text": [
      "Text 874\n",
      "Gene 279\n",
      "Variation 945\n",
      "(986, 3)\n"
     ]
    }
   ],
   "source": [
    "# check for the unique values of each column in test data\n",
    "for item in test_df:\n",
    "    print(item, test_df[item].nunique())\n",
    "print(test_df.shape)"
   ]
  },
  {
   "cell_type": "code",
   "execution_count": 4,
   "metadata": {},
   "outputs": [
    {
     "name": "stdout",
     "output_type": "stream",
     "text": [
      "(3688, 4)\n",
      "<class 'pandas.core.frame.DataFrame'>\n",
      "RangeIndex: 3688 entries, 0 to 3687\n",
      "Data columns (total 4 columns):\n",
      "Text         3682 non-null object\n",
      "Gene         3688 non-null object\n",
      "Variation    3688 non-null object\n",
      "Class        3688 non-null int64\n",
      "dtypes: int64(1), object(3)\n",
      "memory usage: 115.3+ KB\n",
      "None\n",
      "                                                Text    Gene  \\\n",
      "0  Cyclin-dependent kinases (CDKs) regulate a var...  FAM58A   \n",
      "1   Abstract Background  Non-small cell lung canc...     CBL   \n",
      "2   Abstract Background  Non-small cell lung canc...     CBL   \n",
      "3  Recent evidence has demonstrated that acquired...     CBL   \n",
      "4  Oncogenic mutations in the monomeric Casitas B...     CBL   \n",
      "\n",
      "              Variation  Class  \n",
      "0  Truncating Mutations      1  \n",
      "1                 W802*      2  \n",
      "2                 Q249E      2  \n",
      "3                 N454D      3  \n",
      "4                 L399V      4  \n"
     ]
    }
   ],
   "source": [
    "# Check the train dataset\n",
    "print(train_df.shape)\n",
    "print(train_df.info())\n",
    "# Some null values in the text column\n",
    "print(train_df.head())"
   ]
  },
  {
   "cell_type": "code",
   "execution_count": 5,
   "metadata": {},
   "outputs": [
    {
     "data": {
      "text/html": [
       "<div>\n",
       "<style scoped>\n",
       "    .dataframe tbody tr th:only-of-type {\n",
       "        vertical-align: middle;\n",
       "    }\n",
       "\n",
       "    .dataframe tbody tr th {\n",
       "        vertical-align: top;\n",
       "    }\n",
       "\n",
       "    .dataframe thead th {\n",
       "        text-align: right;\n",
       "    }\n",
       "</style>\n",
       "<table border=\"1\" class=\"dataframe\">\n",
       "  <thead>\n",
       "    <tr style=\"text-align: right;\">\n",
       "      <th></th>\n",
       "      <th>Text</th>\n",
       "      <th>Gene</th>\n",
       "      <th>Variation</th>\n",
       "      <th>Class</th>\n",
       "    </tr>\n",
       "  </thead>\n",
       "  <tbody>\n",
       "    <tr>\n",
       "      <th>1109</th>\n",
       "      <td>NaN</td>\n",
       "      <td>FANCA</td>\n",
       "      <td>S1088F</td>\n",
       "      <td>1</td>\n",
       "    </tr>\n",
       "    <tr>\n",
       "      <th>1277</th>\n",
       "      <td>NaN</td>\n",
       "      <td>ARID5B</td>\n",
       "      <td>Truncating Mutations</td>\n",
       "      <td>1</td>\n",
       "    </tr>\n",
       "    <tr>\n",
       "      <th>1407</th>\n",
       "      <td>NaN</td>\n",
       "      <td>FGFR3</td>\n",
       "      <td>K508M</td>\n",
       "      <td>6</td>\n",
       "    </tr>\n",
       "    <tr>\n",
       "      <th>1639</th>\n",
       "      <td>NaN</td>\n",
       "      <td>FLT1</td>\n",
       "      <td>Amplification</td>\n",
       "      <td>6</td>\n",
       "    </tr>\n",
       "    <tr>\n",
       "      <th>2755</th>\n",
       "      <td>NaN</td>\n",
       "      <td>BRAF</td>\n",
       "      <td>G596C</td>\n",
       "      <td>7</td>\n",
       "    </tr>\n",
       "    <tr>\n",
       "      <th>3387</th>\n",
       "      <td>NaN</td>\n",
       "      <td>AURKB</td>\n",
       "      <td>Amplification</td>\n",
       "      <td>2</td>\n",
       "    </tr>\n",
       "  </tbody>\n",
       "</table>\n",
       "</div>"
      ],
      "text/plain": [
       "     Text    Gene             Variation  Class\n",
       "1109  NaN   FANCA                S1088F      1\n",
       "1277  NaN  ARID5B  Truncating Mutations      1\n",
       "1407  NaN   FGFR3                 K508M      6\n",
       "1639  NaN    FLT1         Amplification      6\n",
       "2755  NaN    BRAF                 G596C      7\n",
       "3387  NaN   AURKB         Amplification      2"
      ]
     },
     "execution_count": 5,
     "metadata": {},
     "output_type": "execute_result"
    }
   ],
   "source": [
    "# check for the null value\n",
    "train_df[train_df['Text'].isnull()]\n",
    "# the null text seems random and a few only, so drop them is fine."
   ]
  },
  {
   "cell_type": "code",
   "execution_count": 6,
   "metadata": {},
   "outputs": [
    {
     "name": "stdout",
     "output_type": "stream",
     "text": [
      "(3688, 4)\n",
      "(3682, 4)\n"
     ]
    }
   ],
   "source": [
    "# Drop the null text rows\n",
    "print(train_df.shape)\n",
    "train_df.dropna(inplace=True)\n",
    "print(train_df.shape)"
   ]
  },
  {
   "cell_type": "code",
   "execution_count": 7,
   "metadata": {},
   "outputs": [
    {
     "name": "stdout",
     "output_type": "stream",
     "text": [
      "Text 2089\n",
      "Gene 267\n",
      "Variation 3305\n",
      "Class 9\n",
      "(3682, 4)\n"
     ]
    }
   ],
   "source": [
    "# check for the unique values of each column in train data\n",
    "for item in train_df:\n",
    "    print(item, train_df[item].nunique())\n",
    "print(train_df.shape)\n",
    "# Variation has mostly different values"
   ]
  },
  {
   "cell_type": "code",
   "execution_count": 8,
   "metadata": {},
   "outputs": [
    {
     "name": "stdout",
     "output_type": "stream",
     "text": [
      "7    1053\n",
      "4     750\n",
      "1     660\n",
      "2     497\n",
      "6     295\n",
      "5     267\n",
      "3      96\n",
      "9      43\n",
      "8      21\n",
      "dtype: int64\n"
     ]
    },
    {
     "data": {
      "text/plain": [
       "Text(0, 0.5, 'Count')"
      ]
     },
     "execution_count": 8,
     "metadata": {},
     "output_type": "execute_result"
    }
   ],
   "source": [
    "import matplotlib.pyplot as plt\n",
    "\n",
    "# check human cell class column\n",
    "CountStatus = pd.value_counts(train_df['Class'].values, sort=True)\n",
    "print(CountStatus)\n",
    "\n",
    "CountStatus.plot.bar()\n",
    "plt.yticks(size=14)\n",
    "plt.xticks(rotation=0, size=14)\n",
    "plt.title('Number of Classes', size=20)\n",
    "plt.xlabel('Class', size=18)\n",
    "plt.ylabel('Count', size=18)\n",
    "# Multi-class and class imbalance"
   ]
  },
  {
   "cell_type": "code",
   "execution_count": 9,
   "metadata": {},
   "outputs": [
    {
     "data": {
      "image/png": "iVBORw0KGgoAAAANSUhEUgAAA34AAAPICAYAAACGuil8AAAABHNCSVQICAgIfAhkiAAAAAlwSFlzAAALEgAACxIB0t1+/AAAADl0RVh0U29mdHdhcmUAbWF0cGxvdGxpYiB2ZXJzaW9uIDMuMC4yLCBodHRwOi8vbWF0cGxvdGxpYi5vcmcvOIA7rQAAIABJREFUeJzs3Xe4JGWZ9/HvD0YEBEVlQFbAQRcxCzpGVBR0xYDgKwYMi4qL64qrYsIIhnVxzau7uiwoqKiYFTHAEhURHYJIUgQBEYQxIBgJ3u8fVQeaQ5+ZE7v6FN/PdfXVXU+l++mufrrurqeqUlVIkiRJkvprja4DkCRJkiQtLBM/SZIkSeo5Ez9JkiRJ6jkTP0mSJEnqORM/SZIkSeo5Ez9JkiRJ6jkTP0mSNFSSC5Nc2HUckqS5M/GTpBFLcvck70tyapLfJrm2fT45yXuSPLDrGAVJKslxXcchSdJ8MPGTpBFJY1/gHOCVQAGHAf8BfAr4M/AyYEWSl3YWqCRJ6p0lXQcgSbcgbwH2A34B7FZVJ06eIMlGwCuA2402NEmS1Gce8ZOkEUhyV+BNwDXAE4YlfQBVdUVVvYHmKODkZayb5PVJTk/yxyR/SHJSkt2GTPvotqvifkm2TnJEkiuT/CnJ8UkePkWcS5L8S5LvJ7mqnf60JHslmdFvRpI7JPm3JGe2y/l9kh8l2T/JbSZNu2WSTyT5ZZJrklzaDm85ZLkHt3Vbtqp6Tyo/ri1fkuQNSc5L8tckv0jyriRrDUz7/CTVDm7XzlfDljtFvSfWdesk70jy83Zd5yfZd3Bdk+a7R1u3X7TTX57k00m2WsV7cNckL0tyRpI/T7drapJNk/xn+z78pe1q/IMkb57GvLdL8pokxyS5pP28Vib5WpKHTjHPI5Mc3k7/1yS/arexfSdNt3Hb3fkn7TZ+Zfv64PY7JEmaJY/4SdJovICmzf10VZ21uomr6rrB4SQbAMcA2wCnAh+j+fPu8cCnk9y7qt40ZFHLgdcCJwEHApsDTwOOTrJ1Vf1kYB23Ag5vl/kT4NPAX4DHAB8CHgI8bzqVTbIFcCxwF+AU4CNtvHen6eb6UeCP7bQPAv4PWB/4GnA2cA/gOcDOSXaoqhXTWe80fBp4JPBN4CrgiTTvz0Y0nxHA6cBbgX2Bi4CDB+Y/bgbr+hzwIOALwLXAzjRHfJcneUpVTSSXJNkR+BIw8Rn8DNgU+H/Ak5I8pqpOHbKOD7b1OQL4BnD96oJKshz4NnAH4IR2vesC92rje/tqFnFP4N/aeY8AfkezXT0FeEKSnarqW5PqdgTN+/014Jftuu8J/AvNe02SdYETgbsBR7XvQ2i2oZ1p3scLVlc/SdIUqsqHDx8+fCzwgyZpK2CPWc5/cDv/ayeVrw18C/gbsPVA+aPb6Qt4/qR5XtyW//ek8v3a8g8Baw6Urwkc1I7beZrxnthO//oh4zYE1m5fh+acxwKeM2m6Z7bl5wJrDHkvlg1Z9kS995tUflxbfgpwh4Hy29AkWdcDd5o0TwHHzeKzmljXT4HbT/qsTmrHPW+g/PY0ydOvgXtNWta9gT8Ap06xPfwS2GIGsa0F/Lyd99lDxm82afhC4MJJZbcDNhwy76bApcA5k8q/2K7v/sO2hYHXO7XTvX+KuNefzXfHhw8fPnw0D7t6StJo3Kl9/uXkEUmWtV0yBx+vGBh/R+C5wIqqukkX0Kr6C/A6mgTq2UPWe2JVHTyp7GPAdcCDB9axBrAX8CvglVV1w5Gj9vWraJOz1VU0zVVJH05z5Oxdk8dX1a/buGmnuwdwUlUdOmm6w4DvAlsBj1jdeqfpdVX124F1/BE4lOZo5PJ5WseEt1fV7wbW9Rfg9e3gCwem+0dgA2Dfqjp7cAHVHB3+X2CbJPcaso7/qKqfzyCmnYBlwNeq6tOTR1bVL1a3gKr6fVX9ekj5JTRH5e6RZPMhs/55yDw3W84U011TVVevLjZJ0tTs6ilJo5H2uYaMW0bTrXDQRcAH2tcPojnqNtU5Zrdqn+85ZNzNukhW1bVJLqc50jTh7sAdgfOANyWZPBs0O+TD1jHZxHle366qv61m2ge0z8dMMf4YmqRvG5quhXM1rMvoRLJz+yHj5uL4IWXfoUm6txkoe1j7fP8pPt+7t8/3pOkGO+gHM4xp4rP55gznu4kk2wIvp4l9I5ojcoPuDFzcvj6UpsvqyUkOo+kCfGKbKA46nuaPkX2SPICm6+qJwOmDf0RIkmbHxE+SRuMymiNbd548oqqOo00MkyyhOR9s0B3b5we1j6msN6TsyimmvY4mmZy8ji25eRK6unVMtkH7fLOjm0NMXL30sinGT5RvMMX4GamqYe/HxPmUaw4ZNxeXD1n/9Ul+Q5MsTZh47/9pNcsb9t7/aoYxzeSzGSrJU2mO7P2F5ly882nO1/wbTVfb7YBbT0xfVV9K8mSao8YvpOlqTJJTaLoCH9VOd1V7cZi30pwv+Ph2Eb9O8t/AO6pq8ndDkjRNJn6SNBon0lwkZQearpYz8fv2+f1Vtfe8RnXzdXy5qv7fHJc1kVzdLMldxXrvNMX4TSZNB02CAcN/w+YlQZwnG3PjUS8AkqxJk+hdNVA8Ubf7V9UZM1zHsCPIqzKTz2Yqb6e5Ou3yqjpncESS/6FJ/G6iqo4Ajmiv5voQ4MnAS4CvJ9lmootrexRwjzSHnO8FbA+8lOZWKGsAq73qqCRpOM/xk6TROJjmyNKuSabTXXLQD2iSnUfOd1ADzqVJCh7aXt1zLr7fPj8+q78FxGnt86OnGD9RPnhFy4nz5jYbMv18nqf3N+Z2FPBmCRDNZ7iEG+sNN75fC/n5Tl7XE+awjL8Hzh6S9K3Bas7FrKo/VtUx7R8Y76TpInqzWKpxVlV9CHhcW7zLHGKWpFs8Ez9JGoGqOh94B82O7jczxX30GHLEqqquoDlPanmSN7fdQW8iyd3aWyjMNr7raK7muQnwn0nWGbKOTaa4wMjkZZ0CfA/YmubCM5OXc8cka7eDJ9LcOuIRSXadNN2uwKNoro753YFRE+e1/dOk6e9Lc97ZfPkNw5PL6XpzkhvOG2zr/O/t4McHpvs4TdK9b5IHM0mSNZI8eg5xDDqc5kqdT8nw+z9O50jghcCWSf5uYL7QdBG+2faRZIdh2xPNEVGAP7XT3SdD7s04eTpJ0uzY1VOSRudtNOfyvRk4sT3H6QfAb2kSvmXAY9tpJ1/IZC+a8+/eBjwvyXdpziH7O5qLfjwI2I3mUv2z9Xbg/sA/AzslOYbmXLCN2nVvC7yRm19gZJjn0tzW4J1Jnta+Trucf6A53/HCqqoku9OcK3ZYkq/SHH3ciuYIz9XAP066SMxXaS5Cs1uSTYGTae4jt3M77hmzrP9kRwPPSnI4zW0grgNOqKrpXmTmHOCsJIP38bsbzT3tPjkxUVX9pk1yvwx8P8nRwFk0Rxw3p7mAyh1pbgcxJ1V1TZKnA0fS3P/xxTRHAdem2Y52YPX7Bu+nuQ/jaUm+2NZtW5qk73CaK4cOei+wrL25/IU03UQfSNON8yLgs+10jwXel+R7NNvAFTS3iNiZ5r1496wqLUkCTPwkaWSqqoD9knyGJrl6DM0tGG5Dk+CcT3Oj80/WpJt1txe+2A7Ys53naTQ765fTJEGvpEme5hLftUl2oUnank9zHtZ6wEqahPLNNEcep7Osn7dXZnwtTQK3F83FQC6kSQSuGJj25PYm7m+i2fnfieaedp+huSXCTyYt+y9JdgDeQ9MN8EHAmTTvy2+Zv8Tv5TTn0O1Ac6P3NWguPDLdxO8ZNO/Zc2gS9F/S3Ctx/3ZbuEFVHZ3kfsCraS5q8kiaBOlSmiubfnGOdRlc14okWwP70HSzfDjN9vczVn1hn4n5/yfJX4FXALvTXO31O8ALaLbLyYnfO4Gn0nTDfSxNEndxW/6BgVtefJvmSraPokn2bktzcZ+jgPdV1fdmWWVJEpBJvz2SJGkO2iNb21XV0HtiSJLUBc/xkyRJkqSeM/GTJEmSpJ4z8ZMkSZKknvMcP0mSJEnqOY/4SZIkSVLPmfhJkiRJUs+Z+EmSJElSz5n4SZIkSVLPmfhJkiRJUs+Z+EmSJElSz5n4SZIkSVLPmfhJkiRJUs+Z+EmSJElSz5n4SZIkSVLPmfhJkiRJUs+Z+EmSJElSz5n4SZIkSVLPmfhJkiRJUs+Z+EmSJElSz5n4SZIkSVLPmfhJkiRJUs+Z+EmSJElSz5n4SZIkSVLPmfhJkiRJUs+Z+EmSJElSz5n4SZIkSVLPmfhJkiRJUs+Z+EmSJElSz5n4SZIkSVLPmfhJkiRJUs+Z+EmSJElSz5n4SZIkSVLPmfhJkiRJUs+Z+EmSJElSz5n4SZIkSVLPmfhJkiRJUs+Z+EmSJElSz5n4SZIkSVLPmfhJkiRJUs+Z+EmSJElSz5n4SZIkSVLPmfhJkiRJUs+Z+EmSJElSz5n4SZIkSVLPmfhJkiRJUs+Z+EmSJElSz5n4SZIkSVLPmfhJkiRJUs+Z+EmSJElSz5n4SZIkSVLPmfhJkiRJUs+Z+EmSJElSz5n4SZIkSVLPmfhJkiRJUs+Z+EmSJElSz5n4SZIkSVLPmfhJkiRJUs+Z+EmSJElSz5n4SZIkSVLPmfhJkiRJUs+Z+EmSJElSz5n4SZIkSVLPmfhJkiRJUs+Z+EmSJElSz5n4SZIkSVLPmfhJkiRJUs+Z+EmSJElSz5n4SZIkSVLPmfhJkiRJUs+Z+EmSJElSz5n4SZIkSVLPmfhJkiRJUs+Z+EmSJElSz5n4SZIkSVLPmfhJkiRJUs+Z+EmSJElSz5n4qTNJ9kvyqa7jkKTJbJ8kjSPbJs2FiZ8WXJJnJ1mR5A9JLkvyzSSPGMF692rX+9ckBy/0+iQtPl20T0luneSgJBcluTrJaUmesJDrlLS4dLjv9Kl2fVcl+WmSFy30OjU6S7oOQP2WZG9gH+CfgW8D1wA7AjsDf1zg1V8KvAN4PLDOAq9L0iLTYfu0BPgFsB1wMfBE4HNJ7ltVFy7geiUtAh3vO/07sEdV/TXJPYDjkpxWVacs8Ho1Ah7x04JJcjvgbcBLq+pLVfXHqrq2qg6vqtcMmf7zSX6V5PdJTkhy74FxT0xydvvv+C+TvLot3zDJ15NcmeS3Sb6TZA2Adp1fAX4zoipLWiS6bJ/ade1XVRdW1d+q6uvAz4EHjqr+ksbTGOw7nVVVf20XUe3jbgtecY2EiZ8W0sOAtYEvT3P6bwJbAhsBpwKHDow7CHhxVa0P3Ac4pi1/FXAJsBTYGHgDTSMlSasyNu1Tko2BuwNnzbgWkvqm87YpyX8n+RNwLnAZ8I3ZVkbjxcRPC+mOwK+r6rrpTFxVH6uqq9t/mvYD7t/+8wVwLXCvJLetqt9V1akD5ZsAd2n/EftOVZn4SVqdsWifktyKZkftkKo6dx7qJWlx67xtqqp/AdYHHgl8CZg4AqhFzsRPC+k3wIZJVnsuaZI1k+yf5PwkVwEXtqM2bJ+fRnMezEVJjk/ysLb83cDPgCOTXJBkn/mtgqSe6rx9artWfZLm/J295lwjSX3QedsEUFXXV9V3gU2Bl8ytShoXJn5aSCcBfwF2mca0z6Y5afmxwO2AZW15AKrqh1W1M01Xhq8An2vLr66qV1XVXYGdgL2T7DCflZDUS522T0lC0w1rY+BpVXXtPNVL0uI2bvtOS/Acv94w8dOCqarfA28B/ivJLknWTXKrJE9I8h+TJl+fpivBb4B1gXdOjEiyVpLnJLldu3N0FXB9O+7JSf6+3YmaKJ8YtyTJ2sCawJpJ1p7OP2iS+q/r9gn4CHBPYKeq+vMCVlXSItJl25RkoyTPSrJeezTx8cBu3HhuoBY5Ez8tqKp6H7A38CZgJc0lzPei+edp0CeAi4BfAmcD3580/nnAhW1Xhn8GntuWbwn8H/AHmn/J/ruqjmvHvQn4M80lkZ/bvn7TPFVN0iLXVfuU5C7Ai4GtgV+luU/XH5I8Z56rKGkR6nDfqWi6dV4C/A54D/CKqvrqPFZPHYrXwZAkSZKkfvOInyRJkiT1nImfJEmSJPWciZ8kSZIk9ZyJnyRJkiT13KK+tP2GG25Yy5Yt6zoMSfPolFNO+XVVLe06jrmyfZL6pw/tk22T1D/TbZsWdeK3bNkyVqxY0XUYkuZRkou6jmE+2D5J/dOH9sm2Seqf6bZNdvWUJEmSpJ4z8ZMkSZKknlvUXT0lab4luRC4GrgeuK6qlie5A3AYsAy4EHhGVf2uqxglSZJmyiN+knRzj6mqratqeTu8D3B0VW0JHN0OS5IkLRomfpK0ejsDh7SvDwF26TAWSZKkGTPxk6SbKuDIJKck2bMt27iqLgNonzcaNmOSPZOsSLJi5cqVIwpXkiRp9TzHT5JuatuqujTJRsBRSc6d7oxVdQBwAMDy5ctroQKUJEmaKY/4SdKAqrq0fb4C+DLwYODyJJsAtM9XdBehJEnSzJn4SVIryW2SrD/xGvgH4Ezga8Du7WS7A1/tJkJJkqTZsaunJN1oY+DLSaBpHz9dVd9K8kPgc0n2AC4Gnt5hjJIkSTPWu8Tvga/5RNchrNIp7/7HrkOQNIWqugC4/5Dy3wA7zHX549w+Tbdtuvht913gSGZv87f8uOsQpEWpD22TpNWzq6ckSZIk9ZyJnyRJkiT1nImfJEmSJPWciZ8kSZIk9ZyJnyRJkiT1nImfJEmSJPWciZ8kSZIk9ZyJnyRJkiT1nImfJEmSJPWciZ8kSZIk9ZyJnyRJkiT1nImfJEnSmEvysSRXJDlzyLhXJ6kkG3YRm6TFwcRPkiRp/B0M7Di5MMlmwOOAi0cdkKTFxcRPkiRpzFXVCcBvh4x6P/BaoEYbkaTFxsRPkiRpEUryFOCXVfWj1Uy3Z5IVSVasXLlyRNFJGjcmfpIkSYtMknWBNwJvWd20VXVAVS2vquVLly5d+OAkjSUTP0mSpMXnbsAWwI+SXAhsCpya5E6dRiVpbC3pOgBJkiTNTFX9GNhoYrhN/pZX1a87C0rSWPOInyRJ0phL8hngJGCrJJck2aPrmCQtLh7xkyRJGnNVtdtqxi8bUSiSFimP+EmSJElSz5n4SZIkSVLPmfhJkiRJUs+Z+EmSJElSz5n4SZIkSVLPdZL4JXllkrOSnJnkM0nWTrJFkpOTnJfksCRrdRGbJEmSJPXNyBO/JHcG/pXmJqP3AdYEngW8C3h/VW0J/A7w/jSSJEmSNA+66uq5BFgnyRJgXeAyYHvgC+34Q4BdOopNkiRJknpl5IlfVf0SeA9wMU3C93vgFODKqrqunewS4M6jjk2SJEmS+mjJqFeY5PbAzsAWwJXA54EnDJm0pph/T2BPgM0333yBopQkSdJicfHb7tt1CKu0+Vt+3HUIUiddPR8L/LyqVlbVtcCXgIcDG7RdPwE2BS4dNnNVHVBVy6tq+dKlS0cTsSRJkiQtYl0kfhcDD02ybpIAOwBnA8cCu7bT7A58tYPYJEmSJKl3ujjH72Sai7icCvy4jeEA4HXA3kl+BtwROGjUsUmSJElSH438HD+AqtoX2HdS8QXAgzsIR5IkSZJ6ravbOUiSJEmSRsTET5IkSZJ6zsRPkiRJknrOxE+SJEmSes7ET5ImSbJmktOSfL0d3iLJyUnOS3JYkrW6jlGSJGkmTPwk6eZeDpwzMPwu4P1VtSXwO2CPTqKSJEmaJRM/SRqQZFPgScCB7XCA7WnuPwpwCLBLN9FJkiTNjomfJN3UB4DXAn9rh+8IXFlV17XDlwB3HjZjkj2TrEiyYuXKlQsfqaRbhCQfS3JFkjMHyt6d5NwkZyT5cpINuoxR0vgz8ZOkVpInA1dU1SmDxUMmrWHzV9UBVbW8qpYvXbp0QWKUdIt0MLDjpLKjgPtU1f2AnwKvH3VQkhaXJV0HIEljZFvgKUmeCKwN3JbmCOAGSZa0R/02BS7tMEZJtzBVdUKSZZPKjhwY/D6w6yhjkrT4eMRPklpV9fqq2rSqlgHPAo6pqucAx3LjTtXuwFc7ClGShnkh8M2ug5A03kz8JGn1XgfsneRnNOf8HdRxPJIEQJI3AtcBh65iGs8/lmRXT0kapqqOA45rX18APLjLeCRpsiS7A08GdqiqoeceQ3P+MXAAwPLly6ecTlK/mfhJkiQtMkl2pOmNsF1V/anreCSNP7t6SpIkjbEknwFOArZKckmSPYAPA+sDRyU5PclHOw1S0tjziJ8kSdIYq6rdhhR7rrGkGfGInyRJkiT1nImfJEmSJPWciZ8kSZIk9Zzn+I2hi992365DWKXN3/LjrkOQJEmSNAMe8ZMkSZKknjPxkyRJkqSeM/GTJEmSpJ4z8ZMkSZKknjPxkyRJkqSeM/GTJEmSpJ4z8ZMkSZKknjPxkyRJkqSeM/GTJEmSpJ4z8ZMkSZKknjPxkyRJkqSeM/GTJEmSpJ4z8ZMkSZKknjPxkyRJkqSeM/GTJEmSpJ4z8ZMkSZKknjPxkyRJkqSeM/GTJEmSpJ4z8ZMkSRpzST6W5IokZw6U3SHJUUnOa59v32WMksbbkq4DkCRplLb90LZdhzClE192YtchaHwdDHwY+MRA2T7A0VW1f5J92uHXdRCbpEXAI36SJEljrqpOAH47qXhn4JD29SHALiMNStKi0skRvyQbAAcC9wEKeCHwE+AwYBlwIfCMqvpdF/FJkiQtAhtX1WUAVXVZko2GTZRkT2BPgM0333yE4Wkmxrk3AtgjoQ+6OuL3QeBbVXUP4P7AOdzYXWFL4Oh2WJIkSXNQVQdU1fKqWr506dKuw5HUkZEnfkluCzwKOAigqq6pqiuxu4IkSdJMXJ5kE4D2+YqO45E0xro44ndXYCXw8SSnJTkwyW2Y1F0BmLK7QpIVSVasXLlydFFLkiSNl68Bu7evdwe+2mEsksZcF4nfEuABwEeqahvgj8ygW6fdFSRJ0i1Nks8AJwFbJbkkyR7A/sDjkpwHPK4dlqShuri4yyXAJVV1cjv8BZrE7/Ikm7QnJ9tdQZIkqVVVu00xaoeRBiJp0Rr5Eb+q+hXwiyRbtUU7AGdjdwVJkiRJWhBd3cD9ZcChSdYCLgBeQJOEfq7tunAx8PSOYpMkSZKkXukk8auq04HlQ0bZXUGSJEmS5llX9/GTpLGTZO0kP0jyoyRnJXlrW75FkpOTnJfksLa3giRJ0qJh4idJN/orsH1V3R/YGtgxyUOBdwHvr6otgd8Be3QYoyRJ0oyZ+ElSqxp/aAdv1T4K2J7mCsQAhwC7dBCeJEnSrJn4SdKAJGsmOZ3mljJHAecDV1bVde0klwB3nmLePZOsSLJi5cqVowlYkiRpGkz8JGlAVV1fVVsDmwIPBu45bLIp5j2gqpZX1fKlS5cuZJiSJEkzYuInSUNU1ZXAccBDgQ2STFwFeVPg0q7ikiRJmo2u7uMnSWMnyVLg2qq6Msk6wGNpLuxyLLAr8Flgd+Cr3UUpSdL4Ov5R23UdwpS2O+H4rkPolImfJN1oE+CQJGvS9Ij4XFV9PcnZwGeTvAM4DTioyyAlSZJmysRPklpVdQawzZDyC2jO95MkSVqUPMdPkiRJknrOxE+SJEmSem5OiV+SbadTJkmjZNskaVzZPknqylyP+H1ommWSNEq2TZLGle2TpE7M6uIuSR4GPBxYmmTvgVG3Bdacj8AkaaZsmySNK9snSV2b7VU91wLWa+dff6D8Kpp7XUlSF2ybJI0r2ydJnZpV4ldVxwPHJzm4qi6a55gkaVZsmySNK9snSV2b6338bp3kAGDZ4LKqavs5LleS5sK2SdK4sn2S1Im5Jn6fBz4KHAhcP/dwJGle2DZJGle2T5I6MdfE77qq+si8RCJJ88e2SdK4mtf2KckrgRcBBfwYeEFV/WW+li+pP+Z6O4fDk/xLkk2S3GHiMS+RSdLs2TZJGlfz1j4luTPwr8DyqroPzdVBnzWfwUrqj7ke8du9fX7NQFkBd53jciVpLmybJI2r+W6flgDrJLkWWBe4dA6xSeqxOSV+VbXFfAUiSfPFtknSuJrP9qmqfpnkPcDFwJ+BI6vqyMnTJdkT2BNg8803n6/VS1pk5pT4JfnHYeVV9Ym5LFeS5sK2SX13/KO26zqEVdruhOO7DmFszWf7lOT2wM7AFsCVwOeTPLeqPjVp2QcABwAsX768Zhy0pF6Ya1fPBw28XhvYATgVcOdKUpdsmySNq/lsnx4L/LyqVgIk+RLwcOBTq5xL0i3SXLt6vmxwOMntgE/OKSJJmiPbJknjap7bp4uBhyZZl6ar5w7AirlFKKmv5npVz8n+BGw5z8uUpLmybZI0rmbdPlXVycAXaI4Y/phmv+6A+QtNUp/M9Ry/w2muRAXNJYTvCXxurkFJ0lzYNkkaV/PdPlXVvsC+8xCapJ6b6zl+7xl4fR1wUVVdMsdlStJc2TZJGle2T5I6MaeunlV1PHAusD5we+Ca+QhKkubCtknSuLJ9ktSVOSV+SZ4B/AB4OvAM4OQku85HYJI0W7ZNksaV7ZOkrsy1q+cbgQdV1RUASZYC/0dzorEkdcW2SdK4sn2S1Im5XtVzjYmGq/WbeVimJM2VbZOkcWX7JKkTcz3i960k3wY+0w4/E/jGHJcpSXNl2yRpXNk+SerErBK/JH8PbFxVr0ny/4BHAAFOAg6dx/gkadpsmySNK9snSV2bbdeCDwBXA1TVl6pq76p6Jc0/Vh+Yr+AkaYZsmySNK9snSZ2abeK3rKrOmFxYVSuAZXOKSJJmz7ZJ0riyfZLUqdkmfmuvYtw6s1ymJM2VbZOkcWX7JKlTs724yw+T/FNV/e9gYZI9gFPmHpYkzYptk6RxZfskLRIfftXhXYcwpb3eu9Os551t4vcK4MtJnsONjdVyYC3gqbOORpLmxrZJ0riyfZLUqVklflV1OfDwJI8B7tMWH1FVx8xbZJI0Q7ZNksaV7ZOkrs3pPn5VdSxw7DzFIknzwrZJ0riyfZLUldle3GXOkqyZ5LQkX2+Ht0hycpLzkhyWZK2uYpMkSZKkPuks8QNeDpwzMPwu4P1VtSXwO2CPTqKSJEmSpJ7pJPFLsinwJODAdjjA9sAX2kkOAXbpIjZJkiRJ6puujvh9AHgt8Ld2+I7AlVV1XTt8CXDnYTMm2TPJiiRghCGlAAAgAElEQVQrVq5cufCRSpIkSdIiN/LEL8mTgSuqavCeNRkyaQ2bv6oOqKrlVbV86dKlCxKjJEmSJPXJnK7qOUvbAk9J8kRgbeC2NEcAN0iypD3qtylwaQexSZIkSVLvjPyIX1W9vqo2raplwLOAY6rqOTSXNt61nWx34Kujjk3SLVuSzZIcm+ScJGcleXlbfockR7VXHT4qye27jlWSJGkmuryq52SvA/ZO8jOac/4O6jgeSbc81wGvqqp7Ag8FXprkXsA+wNHtVYePboclSZIWjS66et6gqo4DjmtfXwA8uMt4JN2yVdVlwGXt66uTnENzoamdgUe3kx1C0269roMQJekmkmxAc5X0+9BcH+GFVXVSt1FJGkedJn6SNK6SLAO2AU4GNm6TQqrqsiQbTTHPnsCeAJtvvvloApV0S/dB4FtVtWuStYB1uw5I0ngap66ekjQWkqwHfBF4RVVdNd35vOqwpFFKclvgUbSnx1TVNVV1ZbdRSRpXJn6SNCDJrWiSvkOr6ktt8eVJNmnHbwJc0VV8kjTgrsBK4ONJTktyYJLbTJ7IeyBLAhM/SbpBktD8c35OVb1vYNTXaK42DF51WNL4WAI8APhIVW0D/JEhF5+yN4IkMPGTpEHbAs8Dtk9yevt4IrA/8Lgk5wGPa4clqWuXAJdU1cnt8BdoEkFJuhkv7iJJrar6LpApRu8wylikvvvwqw7vOoRV2uu9O3UdwmpV1a+S/CLJVlX1E5p26uyu45I0nkz8JEmSFq+XAYe2V/S8AHhBx/FIGlMmfpIkSYtUVZ0OLO86Dknjz3P8JEmSJKnnTPwkSZIkqedM/CRJkiSp50z8JEmSJKnnTPwkSZIkqedM/CRJkiSp50z8JEmSJKnnTPwkSZIkqedM/CRJkiSp50z8JEmSJKnnTPwkSZIkqedM/CRJkiSp50z8JEmSJKnnTPwkSZIkqedM/CRJkiSp50z8JEmSJKnnTPwkSZIkqedM/CRJkiSp50z8JEmSJKnnTPwkSZIkqedM/CRJkiSp55Z0HYD6a9sPbdt1CFM68WUnTmu64x+13QJHMnvbnXB81yFIksZAkjWBFcAvq+rJXccjaTx5xE+SJGlxezlwTtdBSBpvJn6SJEmLVJJNgScBB3Ydi6TxZuInSZK0eH0AeC3wt6kmSLJnkhVJVqxcuXJ0kUkaKyZ+kiRJi1CSJwNXVNUpq5quqg6oquVVtXzp0qUjik7SuDHxkyRJWpy2BZ6S5ELgs8D2ST7VbUiSxpWJnyRJ0iJUVa+vqk2rahnwLOCYqnpux2FJGlMmfpIkSZLUc97HT5IkaZGrquOA4zoOQ9IY84ifJEmSJPWciZ8kSZIk9dzIE78kmyU5Nsk5Sc5K8vK2/A5JjkpyXvt8+1HHJkmSJEl91MURv+uAV1XVPYGHAi9Nci9gH+DoqtoSOLodliRJkiTN0cgTv6q6rKpObV9fDZwD3BnYGTiknewQYJdRxyZJkiRJfdTpOX5JlgHbACcDG1fVZdAkh8BG3UUm6ZYoyceSXJHkzIEyu6FLkqRFr7PEL8l6wBeBV1TVVTOYb88kK5KsWLly5cIFKOmW6GBgx0lldkOXJEmLXieJX5Jb0SR9h1bVl9riy5Ns0o7fBLhi2LxVdUBVLa+q5UuXLh1NwJJuEarqBOC3k4rthi5Jkha9Lq7qGeAg4Jyqet/AqK8Bu7evdwe+OurYJGkIu6FLkqRFb0kH69wWeB7w4ySnt2VvAPYHPpdkD+Bi4OkdxCZJs5ZkT2BPgM0337zjaCRJkm408sSvqr4LZIrRO4wyFkmahsuTbFJVl62qGzo0XdGBAwCWL19eowpQkiRpdbo44idphD78qsO7DmFKe713p65DmI6Jbuj7Yzd0SZK0SHV6OwdJGidJPgOcBGyV5JK26/n+wOOSnAc8rh2WJElaVDziJ0mtqtptilF2Q5ckSYuaR/wkSZIkqedM/CRJkiSp50z8JEmSJKnnTPwkSZIkqedM/CRJkiSp50z8JEmSJKnnTPwkSZIkqedM/CRJkiSp50z8JEmSFqEkmyU5Nsk5Sc5K8vKuY5I0vpZ0HYAkSZJm5TrgVVV1apL1gVOSHFVVZ3cdmKTx4xE/SZKkRaiqLquqU9vXVwPnAHfuNipJ48rET5IkaZFLsgzYBjh5yLg9k6xIsmLlypWjDk3SmDDxkyRJWsSSrAd8EXhFVV01eXxVHVBVy6tq+dKlS0cfoKSxYOInSZK0SCW5FU3Sd2hVfanreCSNLxM/SZKkRShJgIOAc6rqfV3HI2m8mfhJkiQtTtsCzwO2T3J6+3hi10FJGk/ezkGSJGkRqqrvAuk6DkmLg0f8JEmSJKnnTPwkSZIkqedM/CRJkiSp50z8JEmSJKnnTPwkSZIkqedM/CRJkiSp50z8JEmSJKnnTPwkSZIkqedM/CRJkiSp50z8JEmSJKnnTPwkSZIkqedM/CRJkiSp50z8JEmSJKnnTPwkSZIkqedM/CRJkiSp50z8JEmSJKnnTPwkSZIkqedM/CRJkiSp50z8JEmSJKnnTPwkSZIkqedM/CRJkiSp58Yu8UuyY5KfJPlZkn26jkeSwLZJ0niybZI0XWOV+CVZE/gv4AnAvYDdktyr26gk3dLZNkkaR7ZNkmZirBI/4MHAz6rqgqq6BvgssHPHMUmSbZOkcWTbJGnaUlVdx3CDJLsCO1bVi9rh5wEPqaq9BqbZE9izHdwK+MkCh7Uh8OsFXsdCsw7jow/1WOg63KWqli7g8mdsOm1TWz7K9sltaXz0oR7WYXrGqn0a07YJ3J7GhXUYH2Ox77RkAQOYjQwpu0lmWlUHAAeMJhxIsqKqlo9qfQvBOoyPPtSjD3WYhdW2TTDa9qkPn0Mf6gD9qId1WLTGrm2CfnwW1mE89KEOMD71GLeunpcAmw0Mbwpc2lEskjTBtknSOLJtkjRt45b4/RDYMskWSdYCngV8reOYJMm2SdI4sm2SNG1j1dWzqq5LshfwbWBN4GNVdVbHYY2sa8QCsg7jow/16EMdZsS2acH0oQ7Qj3pYh0VoTNsm6MdnYR3GQx/qAGNSj7G6uIskSZIkaf6NW1dPSZIkSdI8M/GTJEmSpJ67RSV+Se6Y5PT28askvxwYrvb5zCSfT7JuO8+FSX7cjlsxsKy3JzmjLT8yyd8tYNzXt+v5UZJTkzy8LV+W5M/tuLOTfCLJrQbme3CSE5L8JMm5SQ6cqFc7/qtJTpq0rke167iuvT/QYqzD3u2yzkhydJK7zFc9Jq1nVdvTvknOGthGHtLOc6sk+yc5r93WfpDkCUnWTXJEW8ezkuy/EDG3MVw/EOfpSfZpy49r3+cfJflhkq0H5lkvyf8kOb+N74SBOt0pyWfbcWcn+UaSuyfZOslJA+/DMxeqTn2W5A8Dr5/YbjubJ9kvyauT/NfA92fiu3T6fH5/ZxDrVNvWkiTvbGOfGPfGVcy3LMmjk/w+yWnt9+I9HdRjRu1VO80H27ZgjYGy5ydZOVC/T4yoHk9N89t2jyHx/yjJ95Js1Y57dJKvD1nGXkl+1i5nw1HEPbDuic/hzCSHJ9lgYNy9kxyT5KftdvXmJGnHbZzk620dz07yjYH5vpXkymF11Y1m+x3IGO13DCy/knxyYHhJ+338epIXDHwvr8mN+3v7t9Pu0v5+nduO22VgOQcn+fnA+7TDfMc+zfoN+56fOWS6gyfe3yR3aNvWFyxQTIPf3cF96onys9r3bO9JbeWD0+yLnNduE0ckuW87br/cdD9r4jOact+lHb9N+/48fh7rN2/7f+24f0vyiwz83i+YqrpFPoD9gFcPDP9h4PWhwN7t6wuBDYfMf9uB1/8KfHQBYx2M7fHA8e3rZcCZ7es1gWOA57TDGwMXAQ9rhwPsCmzcDm8A/AI4B9hiYPnLgPsBnwB2XaR1eAywbvv6JcBho9yegIcBJwG3boc3BP6ufb0/cMjAuI2BZwDrAo9py9YCvgM8YaG3p0nlxwHL29cvAI4aGPdZ4N+BNdrhuwJPaj+Tk4B/Hph2a+CRwN2BLduyvwMuAzZY6M+ib4+JzwvYATgfuNvkba4dvuG71HWsQ8r3Bw4G1m6H1wf2W9V8wKOBr7ev1wHOBbYddT2m2161ZWsAFwPfBx49UP584MMdfB6fa9uS/YZtI8CLgUMmv9+TlrFNO9+FDPktHOHncAjwxoHt4XzgH9rhdYFvAi9th/8HePnAvPcbeL0DsNOwuvqY8r1flPsdg3UBTgPWaYefAJw+eRuYvI0D9wd+NhErsEU7fL92+OCJeGn2O87r6LNa5fd8YLqD28/jdjRXg33JiLafwX3qwfKNgP8D3jqw/VwIPHxgmkcAu7Sv92PgN29gmuOYYt+lLfuP9v05eIHqekNczGL/r339UGATpvgNnc/HLeqI3wx8B/j7VU1QVVcNDN6GITdMXSC3BX43JJ7rgR8Ad26LXkrzg35SO76q6gtVdXk7/mnA4TQ79M8aWM6FVXUG8LeFq8KC1+HYqvpTO/h9mvsajdImwK+r6q9tPL+uqkvbf7z+CXjZwLjLq+pzVfWnqjq2LbsGOLWDuAedRPs5JLkb8BDgTVX1N4CquqCqjqD5sbu2qj46MWNVnV5V36mqn1bVeW3ZpcAVwNIR16MXkjwS+F/gSVV1ftfxzMSk7f4vAFV1dVXtN91lVNWfaXbU7ry6aRfAdNsraL4PZwIfAXYbSXRTSLIesC2wBwPt4yRD6zaoqk6rqgvnN7pZuaFNAp4NnFhVRwK07f1ewD7t+E1o7m9HO/6MgddHA1ePIuAe6cN+xzdp/qyE5rv5mWnM82rgnVX1c4D2+d+B1wyZdnD7HJlpfs8HrUfzXny6qj6ykLENGLpPXVVXAHsCe7VH6/ei2X6+NzDNd6vqKzNY100+h3a5u9L8+fYPSdaeVQ2mb8b7f+3r71fVZQscG3AL6+o5HUmW0Pwb9OO2qIAjk5ySZM9J0/5bkl8AzwHesoBhrdMeLj4XOBB4+5C416bZOf9WW3Qf4JRVLHOi4fsMo9lB6aoOe9A0cqN0JLBZmi5I/51ku7b874GLJ/1pcDNpujPtBBy9QPFNfBYTj2FdMHcEJhrbewOntz/yk63uMwKa7hs0RzIXVdIyJm4NfJXmX89zuw5mNYZtWxPb/ap2tgfn+/LkkUluD2wJnLBAcU8Vz0zaK7ixTfoy8OTctBvoMwfquCDdqybZBfhWVf0U+G2SB7Tld2tjOB/YG3jfCGKZkyRr0hypm7g/3b2Z1O60f4isl+S2wH8BByU5Nskbs4CnYvRYH/Y7Bn0WeFYb8/2Ak6cxz822M2BFWz7Z4G/mKE31PZ/K+4DvVtX7Fz60ofvUN1FVF9DkIhvRvK+nrmaRrxxoR4d13Zz8OWwL/LxtH44DnjizGszYnPb/RsHE70brJDmd5kt9MXBQW75tVT2AZsN9aZJHTcxQVW+sqs1oDmPvtYCx/bmqtq6qe9Bs1J9o/8WA9kcc+A3NRnXGlEtpJdmYZiP8bttYXJfkPgsVfGvkdUjyXGA58O75rMjqVNUfgAfS/JO1EjgsyfOnM2/bSH4G+M+2QVwIE5/FxOOwgXGHJrkEeB3woflYWZJNgE8CL5g4YqgZuRb4Hs2fGONuVdsWALnxnJpfJNlsyHxPHZj8kUnOAH5F0y3rV6OoBLNor9LcPPuJwFfaH/eTgX8YWOZhA3X8+AjqsBvNzi7t88SO9vltDHcDXsGY3FtqCusMvNd3AI5qy8PUvWyqqr5N0x39f4F7AKclsbfBzPRhv+MGbYzLaL4H31j11DcYtp1NLnt3kguATwHvnGOYszHV93wqxwA7J9loQaOaep96mAwtTE5Ock6SDw4Uv3+gHf32QPlU+y4zfX/mZC77f6Ni4nejwR2Pl7Xd7Sa6qE0ckv4y8OAh836apgvDgmu7UGzIjV3mzq+qrWka1IcmeUpbfhbNxjfMM4HbAz9PciFNYzidLgLzYhR1SPJY4I3AUyYOq49SVV1fVcdV1b40fwo8jebcgM2TrL+KWQ+gOU/gA6OIc4jn0JzH8Gmaf82h+Rzun4ETsAes6jOi/ff9CJpuot+f51hvKf5Gcx7og5K8oetgZuEm231Vfbz9vv+e5hyhVflOVd0PuC/wkkw6aX8UZtBe7Uhz7syP2zbpEXTU3TPJHYHtgQPbWF5D02ZO3sH6GvAoxtef2/f6LjQ9Bl7alp9F86feDZLcleb8mKsBquq3VfXpqnoezflM41zPsdaH/Y7W14D3ML1unjBkOwMeAJw9MPwamvfhTTTnb43MDL7ngz5L0xX9G6vZF5mrofvUk7Xf2+tpTgU5i+b9BaCqHgK8maZdXZ2b7bu0PQWeBrylfX8+BDxhges9l/2/kTDxW4Ukt5n4kJLchubf2zPb4S0HJn0KzYUHRhHTPWh2ln4zWN72Dd4HeH1b9GFg97RXE2rnfW6SO9HsjOxYVcuqahlNQz2yBnih65BkG5qT+5/SJuwjlWSrSdvH1sBF1ZyHchDwn+3RAZJs0h6ZJMk7aBq4V4w65kFVdS3Nj9hDk9yz7SKxAnjrxD++SbZMsjPNv4e3TvJPE/MneVCS7do6fhn4RFV9fvQ16Y9223ky8Jwki+HI3w0GtvsPt92sJn6Q15rBMn5Kc27N6xYkyFWYQXu1G/CigTZpC5pzStZl9Hal+d7dpY1nM+Dn3Py84UewCLpfV9XvaS6i9uq2++yhwCPaP/hIsg7wnzQXcSDJ9rnxKoLrA3ejOeqgWejDfkfrY8Dbqmpot8Mh3gO8PskyaK6WCbwBeO/gRG1Plg8Ca0zR/XChTPd7fhPtH8tHA1+e2BfpQnsU/qM0F74qmoTt+WmvINuadvs5ed8FeCzwo6rarH1/7gJ8kaZ77IKY7f7fKJn4rdrGwHeT/IjmBOYjqmqiL/v+aS7HegZNQvjyBYzjhvNfgMOA3Wv4+VZfAdZN8shqTqZ+FvCeNJe5PYfmSot3ADanuegJcMMJy1cleUi7034J8HTgf5KctdjqQNO1cz3g8+06v3aztSys9YBD0t5SArgXzVWfoGmUVgJnp7nc8leAlUk2pTlCeS/g1DbuFy1QfJPPw7rZrSOquZjGe2lObgd4EXAn4GdJfkzTherStrF+KvC4tLd6aOt6Kc1RqkfRNOQT6xr5EZu+qKrf0hxVelObdI+jqbatN9Jc1fXMJKfRnOx/CM12Ml0fBR6VZIv5DXmombZX29Fc+fCIiRFV9UfguzTn647abjR/ugz6Is1O68Q5fj+i6Zo22M7skOSSgcfDkvxr+5uwKXBGkgNHUoNJquo04EfAs9r2aWea78JPaM4f+iFN4gFNUrGibX9PAg6sqh8CJPkO8HlurOsod9QXkz7sd9xEVV1SVR9c/ZQ3TH86zZ9Nh6c51/Fw4LVt+eRpC3gH8Nr5incaVvU932rSd/npgxNV1etorrD6yQzvzbNQJrars2iu6Hkk8NY2pl/RHLH89zS3kPkeTXL74SmXNsmkfZep3p9nz7kWU5vx/h9Akv9ovwPrtp/Xfjdb8jxJs61KkiRJkvrKI36SJEmS1HMmfpIkSZLUcyZ+kiRJktRzJn6SJEmS1HMmfpIkSZLUcyZ+6kySjZN8OskFSU5JclKSp3Ydl6RbNtsmSePItklzZeKnTiQJzT1MTqiqu1bVxM1cV3njUUlaSLZNksaRbZPmg4mfurI9cE1VfXSioKouqqoPJVkzybuT/DDJGUleDJDk0UmOS/KFJOcmObRtCEnywCTHt/+AfTvJJh3VS9LiZtskaRzZNmnOlnQdgG6x7g2cOsW4PYDfV9WDktwaODHJke24bdp5LwVOBLZNcjLwIWDnqlqZ5JnAvwEvXNAaSOoj2yZJ48i2SXNm4qexkOS/gEcA1wAXAfdLsms7+nbAlu24H1TVJe08pwPLgCuB+wBHtX9krQlcNsr4JfWTbZOkcWTbpNkw8VNXzgKeNjFQVS9NsiGwArgYeFlVfXtwhiSPBv46UHQ9zTYc4KyqethCBy2p92ybJI0j2ybNmef4qSvHAGsneclA2brt87eBlyS5FUCSuye5zSqW9RNgaZKHtdPfKsm9FyJoSb1n2yT9f/buPEyysrz///sjAyIosg0EQRxUXNC4ZSQoxgVcABdIRAURweCXaBSjuIAmPzUm5ofRBI3rlwA6JIRFgorGNciiBtABkUU0IrIMgjQKKC5s3t8/zmkp2p6ZnumuOtWn36/r6qvrPOecqvvprrrr3HWeeo7GkblJs+YZP3WiqirJXsCRSd4CTAC/BA4DPkkzFOGC9kvIE8Beq7iv29vhDf+S5P40z+v303w6JkkzZm6SNI7MTZoLqaquY5AkSZIkDZFDPSVJkiSp5yz8JEmSJKnnLPzUmSTvTPLvXcchSVOZnySNI3OTZsPCT0OX5KVJlie5Ncl1Sb6Q5CkjfPztk/zGRClpqq7yU5Iz27x0a/vz/WE/pqT5o8tjpyT7JLksyS+T/DDJn4zicTV8zuqpoUpyKHA48Cqa6YZvB3YD9qSZjWoUPgx8a0SPJWmeGIP89NqqOnoEjyNpHukyNyV5FvAe4CXAN4Gthvl4Gi3P+Glo2imC3wW8pqpOrapfVtUdVfXZqnrzNNt/Msn1SW5JcvbgNWWS7JHku0l+keTaJG9q2zdP8rkkNyf5WZKvJbnXwH77ADcDpw+/x5Lmi3HIT5I01Rjkpr8F3lVV51bVb6vq2qq6dhR91/D5BqRhehKwPvCpGW7/BWB7YAvgAuD4gXXHAH9RVfcDHk1zIVOANwIrgMXAlsDbgAJIshFN8nzjrHohqY86zU+t/z/JjUm+keTpa9kPSf3SWW5Ksg6wlObi7pcnWZHkQ0nuM8s+aUxY+GmYNgNurKo7Z7JxVR1bVb+oqtuAdwKPbT/5ArgD2CHJRlV1U1VdMNC+FfCg9hOxr9XdF6f8O+CYqrpmznokqS+6zk+HAQ8GtgaOAj6b5CFz0zVJ81iXuWlLYF1gb+BPgMcBjwf+Zq46p25Z+GmYfgpsnmS13yVNsk6SI9ovEf8cuLJdtXn7+4XAHsBVSc5K8qS2/b3A5cCXk1yR5PD2/h4HPBM4cu66I6lHOstPAFV13uTBWlUtA77R3oekha3L3PTr9vcHq+q6qroR+GfMTb1h4adhOgf4DbDXDLZ9Kc2Xlp8J3B9Y0rYHoKq+VVV70gxl+DRwctv+i6p6Y1U9GHg+cGiSXYGnt/dxdZLrgTcBL0wy+WmXpIWty/w0nZq8P0kLWme5qapuohkCWqiXLPw0NFV1C/B24MNJ9kqyQZJ1k+ye5B+nbH4/4DaaT7o2AP5hckWS9ZLsl+T+VXUH8HPgrnbd85I8NEkG2u+iGTr1EJphCo8DPgb8F/CcIXZZ0jzRZX5KsnGS5yRZP8miJPsBT6WZvU/SAtbxsRPAx4FDkmyRZBPg9cDnhtdjjZKFn4aqqv4ZOJRmfPgEcA3wWppPngYdB1wFXAt8Fzh3yvr9gSvboQyvAl7Wtm8P/DdwK82nZB+pqjOr6ldVdf3kT7v+N1U1Mdd9lDQ/dZWfaL5D8/ftY94IHALsVVVey09Sl7kJmvkRvgX8L3AZ8G3g3XPUNXUsd3/PXJIkSZLUR57xkyRJkqSes/CTJEmSpJ6z8JMkSZKknrPwkyRJkqSeW+3FIcfZ5ptvXkuWLOk6DElz6Pzzz7+xqhZ3HcdsmZ+k/ulDfjI3Sf0z09w0rwu/JUuWsHz58q7DkDSHklzVdQxzwfwk9U8f8pO5SeqfmeYmh3pKkiRJUs9Z+EmSJElSz1n4SZIkSVLPWfhJkiRJUs9Z+EmSJElSz1n4SZIkSVLPWfhJkiRJUs9Z+EmSJElSz1n4SZIkSVLPWfhJkiRJUs8t6jqAufZHbz6u6xBW6fz3vrzrECR1ZJzzk7lJWrjMTdLC4Bk/SZIkSeo5Cz9JkiRJ6jkLP0mSJEnqOQs/SZIkSeo5Cz9JkiRJ6jkLP0mSJEnquaEVfkmOTXJDkksG2t6b5HtJLkryqSQbD6x7a5LLk3w/yXOGFZckrSQ/bZrkK0l+0P7epG1Pkn9p89NFSZ7QXeSSJElrZ5hn/D4B7Dal7SvAo6vqMcD/Am8FSLIDsA/wqHafjyRZZ4ixSVrYPsHv56fDgdOranvg9HYZYHdg+/bnYOCjI4pRkiRpzgyt8Kuqs4GfTWn7clXd2S6eC2zT3t4TOLGqbquqHwGXAzsOKzZJC9t0+YkmDy1rby8D9hpoP64a5wIbJ9lqNJFKkiTNjS6/4/fnwBfa21sD1wysW9G2/Z4kBydZnmT5xMTEkEOUtIBsWVXXAbS/t2jbzU+SJGne66TwS/LXwJ3A8ZNN02xW0+1bVUdV1dKqWrp48eJhhShJk8xPkiRp3ht54ZfkAOB5wH5VNXnwtAJ44MBm2wA/HnVskha0n0wO4Wx/39C2m58kSdK8N9LCL8luwGHAC6rqVwOrTgP2SXLvJNvRTKLwzVHGJmnBOw04oL19APCZgfaXt7N77gTcMjkkVJIkab5YNKw7TnIC8HRg8yQrgHfQzOJ5b+ArSQDOrapXVdWlSU4GvkszBPQ1VXXXsGKTtLCtJD8dAZyc5CDgauBF7eafB/agmXTqV8ArRh6wJEnSLA2t8KuqfadpPmYV278bePew4pGkSSvJTwC7TrNtAa8ZbkSSJEnD1eWsnpIkSZKkEbDwkyRJkqSes/CTJEmSpJ6z8JMkSZKknrPwkyRJkqSes/CTJEmSpJ6z8JMkSRpzSd6Q5NIklyQ5Icn6SbZLcl6SHyQ5Kcl6XccpaXxZ+EmSJI2xJFsDrwOWVtWjgXWAfYD3AEdW1fbATcBB3UUpadxZ+EmSJI2/RcB9kiwCNgCuA3YBTmnXLwP26ig2SfOAhZ8kSdIYq6prgfcBV9MUfLcA5wM3V9Wd7WYrgK2n2z/JwUmWJ1k+MTExipAljSELP0mSpHPxdFcAACAASURBVDGWZBNgT2A74AHAhsDu02xa0+1fVUdV1dKqWrp48eLhBSpprFn4SZIkjbdnAj+qqomqugM4FXgysHE79BNgG+DHXQUoafxZ+EmSJI23q4GdkmyQJMCuwHeBM4C9220OAD7TUXyS5gELP0mSpDFWVefRTOJyAXAxzfHbUcBhwKFJLgc2A47pLEhJY2/R6jeRJElSl6rqHcA7pjRfAezYQTiS5iHP+EmSJElSz1n4SZIkSVLPWfhJkiRJUs9Z+EmSJElSz1n4SZIkSVLPWfhJkiRJUs9Z+EmSJElSz1n4SZIkSVLPWfhJkiRJUs9Z+EmSJElSz1n4SZIkSVLPWfhJkiRJUs9Z+EmSJElSzw2t8EtybJIbklwy0LZpkq8k+UH7e5O2PUn+JcnlSS5K8oRhxSVJkiRJC80wz/h9AthtStvhwOlVtT1wersMsDuwfftzMPDRIcYlSZIkSQvK0Aq/qjob+NmU5j2BZe3tZcBeA+3HVeNcYOMkWw0rNkmSJElaSEb9Hb8tq+o6gPb3Fm371sA1A9utaNt+T5KDkyxPsnxiYmKowUqSJElSH4zL5C6Zpq2m27CqjqqqpVW1dPHixUMOS5IkSZLmv1EXfj+ZHMLZ/r6hbV8BPHBgu22AH484NkmSJEnqpVEXfqcBB7S3DwA+M9D+8nZ2z52AWyaHhEqSJEmSZmeYl3M4ATgHeHiSFUkOAo4AnpXkB8Cz2mWAzwNXAJcD/wr85bDikqRVSfKGJJcmuSTJCUnWT7JdkvPaS9GclGS9ruOUJElaE4uGdcdVte9KVu06zbYFvGZYsUjSTCTZGngdsENV/TrJycA+wB7AkVV1YpKPAQfhZWckSdI8Mi6Tu0jSuFgE3CfJImAD4DpgF+CUdv3gpWgkSZLmBQs/SWpV1bXA+4CraQq+W4DzgZur6s52My83I0mS5h0LP0lqJdkE2BPYDngAsCGw+zSberkZSZI0r1j4SdLdngn8qKomquoO4FTgycDG7dBP8HIzkiRpHrLwk6S7XQ3slGSDJKGZjOq7wBnA3u02g5eikSRJmhcs/CSpVVXn0UzicgFwMU2OPAo4DDg0yeXAZsAxnQUpSZK0FoZ2OQdJmo+q6h3AO6Y0XwHs2EE4kiRJc8IzfpIkSZLUcxZ+kiRJktRzFn6SJEmS1HMWfpIkSZLUcxZ+kiRJktRzFn6SJEmS1HMWfpIkSZLUcxZ+kiRJktRzFn6SJEmS1HMWfpIkSZLUcxZ+kiRJktRzFn6SJEmS1HMWfpIkSZLUcxZ+kiRJYy7JxklOSfK9JJcleVKSTZN8JckP2t+bdB2npPFl4SdJkjT+PgB8saoeATwWuAw4HDi9qrYHTm+XJWlaFn6SJEljLMlGwFOBYwCq6vaquhnYE1jWbrYM2KubCCXNBxZ+kiRJ4+3BwATw8STfTnJ0kg2BLavqOoD29xbT7Zzk4CTLkyyfmJgYXdSSxoqFnyRJ0nhbBDwB+GhVPR74JWswrLOqjqqqpVW1dPHixcOKUdKYs/CTJEkabyuAFVV1Xrt8Ck0h+JMkWwG0v2/oKD5J84CFnyRJ0hirquuBa5I8vG3aFfgucBpwQNt2APCZDsKTNE8s6uJBk7wBeCVQwMXAK4CtgBOBTYELgP2r6vYu4pMkSRozhwDHJ1kPuILm2OlewMlJDgKuBl7UYXySxtzIC78kWwOvA3aoql8nORnYB9gDOLKqTkzyMeAg4KOjjk+SJGncVNWFwNJpVu066lgkzU9dDfVcBNwnySJgA+A6YBeaMevglMSSJEmSNGdGXvhV1bXA+2iGJFwH3AKcD9xcVXe2m60Atp5uf6ckliRJkqQ1M/LCL8kmNBcc3Q54ALAhsPs0m9Z0+zslsSRJkiStmS6Gej4T+FFVTVTVHcCpwJOBjduhnwDbAD/uIDZJkiRJ6p0uZvW8GtgpyQbAr2m+lLwcOAPYm2ZmT6ckliRJ0oxc/a4/7DqEVdr27Rd3HYLUyXf8zqOZxOUCmks53As4CjgMODTJ5cBmwDGjjk2SJEmS+qiT6/hV1TuAd0xpvgLYsYNwJEmSJKnXurqcgyRJkiRpRCz8JEmSJKnnLPwkSZIkqecs/CRJkiSp5yz8JEmSJKnnOpnVU6vmtWik7iTZGDgaeDRQwJ8D3wdOApYAVwIvrqqbOgpRkiRpjXnGT5Lu6QPAF6vqEcBjgcuAw4HTq2p74PR2WZIkad6YUeGXZOeZtEnSKM11bkqyEfBU4BiAqrq9qm4G9gSWtZstA/Za28eQtLB5TCWpKzM94/fBGbZJ0ijNdW56MDABfDzJt5McnWRDYMuqug6g/b3FdDsnOTjJ8iTLJyYmZhGGpB7zmEpSJ1b5Hb8kTwKeDCxOcujAqo2AdYYZmCStzBBz0yLgCcAhVXVekg+wBsM6q+oo4CiApUuX1izikNQzHlNJ6trqzvitB9yX5mDofgM/Pwf2Hm5okrRSw8pNK4AVVXVeu3wKTSH4kyRbAbS/b5jFY0hamDymktSpVZ7xq6qzgLOSfKKqrhpRTJK0SsPKTVV1fZJrkjy8qr4P7Ap8t/05ADii/f2ZuXpMSQuDx1SSujbTyzncO8lRNFOZ/26fqtplGEFJ0gwNIzcdAhyfZD3gCuAVNKMjTk5yEHA18KJZ3L+khc1jKkmdmGnh90ngYzTXtrpreOFI0hqZ89xUVRcCS6dZtetc3L+kBc9jKkmdmGnhd2dVfXSokUjSmjM3SZpvzFuSOjHTyzl8NslfJtkqyaaTP0ONTJJWz9wkab4xb0nqxEzP+B3Q/n7zQFvRXPNKkrpibpI035i3JHViRoVfVW037EAkaU2ZmyTNN+YtSV2ZUeGX5OXTtVfVcXMbjiTNnLlJ0nxj3pLUlZkO9XziwO31aWa3uwAwSUnqkrlJ0nxj3pLUiZkO9TxkcDnJ/YF/G0pEkjRD5iZJ8415S1JXZjqr51S/Arafy0AkaQ6YmyTNN+YtSSMx0+/4fZZmximAdYBHAicPKyhJmglzk6T5xrwlqSsz/Y7f+wZu3wlcVVUrhhCPJK0Jc5Ok+ca8JakTMxrqWVVnAd8D7gdsAtw+zKAkaSbMTZLmG/OWpK7MqPBL8mLgm8CLgBcD5yXZe5iBSdLqmJskzTfmLUldmelQz78GnlhVNwAkWQz8N3DKsAKTpBkwN0mab8xbkjox01k97zWZoFo/XYN9f0+SjZOckuR7SS5L8qQkmyb5SpIftL83Wdv7l7RgzGlukqQRMG9J6sRMz/h9McmXgBPa5ZcAn5/F434A+GJV7Z1kPWAD4G3A6VV1RJLDgcOBw2bxGJL6b65zkyQNm3lLUidWWfgleSiwZVW9OcmfAU8BApwDHL82D5hkI+CpwIEAVXU7cHuSPYGnt5stA87Ewk/SNIaRmyRpmMxbkrq2uqEF7wd+AVBVp1bVoVX1BppPpt6/lo/5YGAC+HiSbyc5OsmGNMnwuvaxrgO2mG7nJAcnWZ5k+cTExFqGIGmeG0ZukqRhMm9J6tTqCr8lVXXR1MaqWg4sWcvHXAQ8AfhoVT0e+CXNsM4ZqaqjqmppVS1dvHjxWoYgaZ4bRm6SpGEyb0nq1OoKv/VXse4+a/mYK4AVVXVeu3wKTSH4kyRbAbS/b1jJ/pI0jNwkScNk3pLUqdUVft9K8n+mNiY5CDh/bR6wqq4Hrkny8LZpV+C7wGnAAW3bAcBn1ub+JS0Ic56bJGnIzFuSOrW6WT1fD3wqyX7cnZSWAusBfzqLxz0EOL6d0fMK4BU0RejJbQK8mubCppI0nWHlJkkallnnrSTrAMuBa6vqeUm2A04ENgUuAPZvJ82TpN+zysKvqn4CPDnJM4BHt83/VVVfnc2DVtWFNMluql1nc7+SFoZh5SZJGpY5ylt/BVwGbNQuvwc4sqpOTPIx4CDgo3MVs6R+mdF1/KrqDOCMIcciSWvE3CRpvlnbvJVkG+C5wLuBQ5ME2AV4abvJMuCdWPhJWonVfcdPkiRJ3Xs/8Bbgt+3yZsDNVXVnu7wC2Hq6Hb0UliSw8JMkSRprSZ4H3FBVg5PAZJpNa7r9vRSWJJjhUE9JkiR1ZmfgBUn2oLksxEY0ZwA3TrKoPeu3DfDjDmOUNOY84ydJkjTGquqtVbVNVS0B9gG+WlX70XxXcO92My+FJWmVLPwkSZLmp8NoJnq5nOY7f8d0HI+kMeZQT0mSpHmiqs4EzmxvXwHs2GU8kuYPCz8Nzc4f3LnrEFbqG4d8o+sQJEmSpJFxqKckSZIk9ZyFnyRJkiT1nIWfJEmSJPWchZ8kSZIk9ZyFnyRJkiT1nIWfJE2RZJ0k307yuXZ5uyTnJflBkpOSrNd1jJIkSWvCwk+Sft9fAZcNLL8HOLKqtgduAg7qJCpJkqS1ZOEnSQOSbAM8Fzi6XQ6wC3BKu8kyYK9uopMkSVo7Fn6SdE/vB94C/LZd3gy4uarubJdXAFtPt2OSg5MsT7J8YmJi+JFKkiTNkIWfJLWSPA+4oarOH2yeZtOabv+qOqqqllbV0sWLFw8lRkmSpLWxqOsApHF21lOf1nUIK/W0s8/qOoQ+2hl4QZI9gPWBjWjOAG6cZFF71m8b4McdxihJkrTGPOMnSa2qemtVbVNVS4B9gK9W1X7AGcDe7WYHAJ/pKERJkqS1YuEnSat3GHBokstpvvN3TMfxSJIkrRGHekrSNKrqTODM9vYVwI5dxiNJkjQbnvGTJEmSpJ6z8JMkSZKknrPwkyRJkqSes/CTJEmSpJ6z8JMkSZKknuus8EuyTpJvJ/lcu7xdkvOS/CDJSUnW6yo2SZIkSeqTLs/4/RVw2cDye4Ajq2p74CbgoE6ikiRJkqSe6aTwS7IN8Fzg6HY5wC7AKe0my4C9uohNkiRJkvqmqzN+7wfeAvy2Xd4MuLmq7myXVwBbdxGYJEmSJPXNyAu/JM8Dbqiq8webp9m0VrL/wUmWJ1k+MTExlBglSZIkqU+6OOO3M/CCJFcCJ9IM8Xw/sHGSRe022wA/nm7nqjqqqpZW1dLFixePIl5JkiRJmtdGXvhV1VurapuqWgLsA3y1qvYDzgD2bjc7APjMqGOTJEmSpD4ap+v4HQYcmuRymu/8HdNxPJIkSZLUC4tWv8nwVNWZwJnt7SuAHbuMR5IkSZL6aJzO+EmSJEmShsDCT5IkSZJ6zsJPkiRJknrOwk+SJEmSes7CT5IkSZJ6zsJPkiRJknrOwk+SJEmSes7CT5IkSZJ6zsJPkiRJknrOwk+SJEmSes7CT5IkSZJ6zsJPkiRJknrOwk+SJEmSes7CT5IkaYwleWCSM5JcluTSJH/Vtm+a5CtJftD+3qTrWCWNLws/SZKk8XYn8MaqeiSwE/CaJDsAhwOnV9X2wOntsiRNy8JPkiRpjFXVdVV1QXv7F8BlwNbAnsCydrNlwF7dRChpPrDwkyRJmieSLAEeD5wHbFlV10FTHAJbrGSfg5MsT7J8YmJiVKFKGjMWfpIkSfNAkvsC/wm8vqp+PtP9quqoqlpaVUsXL148vAAljTULP0mSpDGXZF2aou/4qjq1bf5Jkq3a9VsBN3QVn6TxZ+EnSZI0xpIEOAa4rKr+eWDVacAB7e0DgM+MOjZJ84eFnyS1nDJd0pjaGdgf2CXJhe3PHsARwLOS/AB4VrssSdNa1HUAkjRGJqdMvyDJ/YDzk3wFOJBmyvQjkhxOM2X6YR3GKWkBqaqvA1nJ6l1HGYuk+cvCT+q5D73xs12HsFKv/afndx3CPbSz4k3OkPeLJINTpj+93WwZcCYWfpIkaR5xqKckTWNtpkyXJEkaV57xk6Qppk6Z3syrMKP9DgYOBth2222HF2CHrn7XH3Ydwkpt+/aLuw5Bktbazh/cuesQVukbh3yj6xA0S57xk6QBs5ky3WtlSZKkcWXhJ0ktp0yXJEl95VBPSbrb5JTpFye5sG17G80U6ScnOQi4GnhRR/FJkiStlZEXfkkeCBwH/AHwW+CoqvpAkk2Bk4AlwJXAi6vqplHHJ2nhcsp0SZLUV10M9Zy8TtYjgZ2A1yTZgea6WKdX1fbA6e2yJEmSJGmWRl74VdV1VXVBe/sXwOB1spa1my0D9hp1bJIkSZLUR51O7rI218lKcnCS5UmWT0xMjCpUSZIkSZq3Oiv8pl4na6b7OV26JEmSJK2ZTgq/2VwnS5IkSZK0ZkZe+HmdLEmSJEkarS6u4+d1siRJkiRphEZe+HmdLEmSJEkarS7O+EmSJEnqobOe+rSuQ1ipp5191oy2+9AbPzvkSNbea//p+Wu9b6eXc5AkSZIkDZ+FnyRJkiT1nIWfJEmSJPWc3/GTJC0oO39w565DWKlvHPKNrkOQJPWUZ/wkSZIkqecs/CRJkiSp5yz8JEmSJKnnLPwkSZIkqecs/CRJkiSp5yz8JEmSJKnnLPwkSZIkqecs/CRJkiSp57yAuyRJ88xZT31a1yGs0tPOPmu123zojZ8dQSRr77X/9PyuQ5CkOeUZP0mSJEnqOQs/SZIkSeo5Cz9JkiRJ6jkLP0mSJEnqOQs/SZIkSeo5Cz9JkiRJ6jkLP0mSJEnqOQs/SZIkSeo5Cz9JkiRJ6jkLP0mSJEnqOQs/SZIkSeo5Cz9JkiRJ6jkLP0mSJEnqubEr/JLsluT7SS5PcnjX8UgSmJskjSdzk6SZGqvCL8k6wIeB3YEdgH2T7NBtVJIWOnOTpHFkbpK0Jsaq8AN2BC6vqiuq6nbgRGDPjmOSJHOTpHFkbpI0Y6mqrmP4nSR7A7tV1Svb5f2BP66q1w5sczBwcLv4cOD7Qw5rc+DGIT/GsNmH8dGHfgy7Dw+qqsVDvP81NpPc1LaPMj/5XBoffeiHfZiZscpPY5qbwOfTuLAP42Msjp0WDTGAtZFp2u5RmVbVUcBRowkHkiyvqqWjerxhsA/jow/96EMf1sJqcxOMNj/14f/Qhz5AP/phH+atsctN0I//hX0YD33oA4xPP8ZtqOcK4IEDy9sAP+4oFkmaZG6SNI7MTZJmbNwKv28B2yfZLsl6wD7AaR3HJEnmJknjyNwkacbGaqhnVd2Z5LXAl4B1gGOr6tKOwxrZ0Ighsg/jow/96EMf1oi5aWj60AfoRz/swzw0prkJ+vG/sA/joQ99gDHpx1hN7iJJkiRJmnvjNtRTkiRJkjTHLPwkSZIkqecWXOGX5K4kFya5JMknk2zdLl+Y5Pok1w4srzew/eTP4e39nJlk+cD9Lk1y5oj6sNkqYq4p/dug3efKJBe36wbj/rskF7XtX07ygDmM8w+SnJjkh0m+m+TzSR6W5NdJvp3ksiTfTHLAwD4HJvlQe/teSZYlOTaNK5P858C2eyf5RHt7v7YfFyX5nySPnRLLn7Z/m0fMsk+Tz4fvJLkgyZPb9iVtvy5s+3pcknUH9tsxydlJvp/ke0mOnvzftOs/k+ScKY/11PYx7myv1TRU7XP6OVPaXt/+3y6Z0v7OJG9qb39iFPH1TV+eSyPux6HtfV2U5PQkDxpCPyZ/lgzEeWaSH7T9+68kf9iue2fumX+PaNvPbPv1nSTfSvK4gcf5Ytt+aZKPJVlnDmOfmvdvbX8vGXwNJ/k/bV82ySreA5LsnmR5mlz9vSTvm/K430lywmzjn0G/1ui51W7zgfZ/c6+BtgOTTAz8v44bVuzzXR9e1yPuw6jfr28duP2GJL9Jcv+Btqcn+dzA8t8n+VKSeyc5vu3bJWmOr9adev9DjLuS/NvA8qL2Nfm5dvl3x4BT9rsyyeYDy08f2OcRSc5Jclva45Ihxb6qemBl+X7w2PviJHtOc39Tn5+Pa/tzafuaeMmcdqSqFtQPcOvA7eOBQweW3wm8aWXbT2k/E7ga2L1dXgqc2UF/7hHzyvoHXAlsPs3+Gw3cfh3wsTmKK8A5wKsG2h4H/AlwyUDbg4ELgVe0ywcCH2r3Pwr4D+BeA324CnhUu7w38In29pOBTdrbuwPnTYnnZOBrwDvn8PnzHOCs9vaSyX7RfMH+q8B+7fKWbdxPGvjb7A1s2S5vDFwDXAZsN3D/S4DHAMcBe4/gufQXwMentJ079X829XkHfGIU8fXtpy/PpRH34xnABu3tVwMnDaMfA21b0uSdJw+0PQXYq739u9fBlP3OBJa2t18BfGVg3UYDff5PYJ85/h8M5v1bp/lf7A9cRPt+wEreA4BHAz8EHtEuLwL+cmDbRwIXA9cCG47La6RtuxfN+/O5wNMH2g8EPjSMWPv204fX9Yj7sITRvl8P9u2bNMc3Bw60PR34XHv7r4EzgPu0y3u0/QpwAvDqUT6vgG8PxLI7zTHgZKzTvkaZcgw7pX9bAE8E3s00+XgYf/Mp7Wey8nz/u7iBhwNXzeD5+TBg+/b2A4DrgI3nqh8L7ozfFF8DHjqL/d8L/M0cxTIMq+1fVf18YHFDprnw61p6BnBHVX1s4LEupEmYg49/BXAozQHHoA8AmwEvr6rfDrS/D3jb1Aerqv+pqpvaxXNprmUEQJL7AjsDB9FMdT1XNgJumtpYVXfRJOKt26bXAMuq6px2fVXVKVX1k3b9C4HPAicOxldVV1bVRcBg/4fpFOB5Se4NzaeiNElnxYgefyHry3Np2P04o6p+1S7e43U+JK9t4/yfgRi+XlWfXoP7OIe7+z2YcxcB6zF3OXfSSvN+khcDhwPPrqobp8QD93wPeAvw7qr6XrvdnVX1kYFtXwr8G/Bl4AVz2oPpzfS5Bc37zyXAR4F9RxBb3/Xhdd2XHHsPSR4C3JfmWPT3nutJ3khT6D2/qn7dxvr5tl9F0/dh59GpvgA8t729L03xudaq6oaq+hZwx2wDmwP3yPdTTPscnLquqv63qn7Q3v4xcAOweK4CXLCFX5JFNJ80XLyaTe8z5dTu4CnXc4DbkjxjaIGupWn6V8CXk5yf5OAp2747yTXAfsDb5yiERwPnz3DbC4DBIZgvBf6I5pPwO6dsezLwhCSrKmgPokksk/YCvlhV/wv8LMkTZhjXdCafD98Djgb+buoGSdYH/hj4Ytu0ur/FZOI7gQ4PUqrqpzRvAru1TfsAJ9E8dx4y+DoAXtVRmH3Sl+dSV/2Y+jqfrcFc/6m27VE0+WlV3jCw33OmWb8bcI9CMcmXaN7Mf0HzgcucWM372oNoRlM8u6qun7LfdO8Bq/sfvYQmPwzzubY2zy24+/nzKZoPswaHsr1k4P/1iiHF3Qd9eF33JceuymQ8XwMenmSLgXU707xX715Vt07dsX1d7M89XzujcCKwT/u3fwxw3gz3O2PgGOTooUW3cquqByb9Xr6nifsS4CzuebJoJs/PHWk+IPzh3HRhYRZ+92mfNMtphoIcs5rtf11Vjxv4OWnK+r9nvM76rax/O1fVE2gOCl6T5KmTO1TVX1fVA2mGCL121AHTDDcYdAHNQcqO02x7F82Z1rdOe0dNEX4QcNhA8740iYb292yS9eTz4RE0L/DjkkzG/5D2b/9T4Or2079VSrIlzafzX28L0zuTPHoW8c3WCdz9KeY+3P1J3A8HXwfAx6bdW2uiL8+lkfcjyctohte/dwj9eFxV/elKYjsvzffdPjDQfOTAfl8aaD8+yQqaXPTBwfupqucAWwH3BnaZg9hn8r420a578dQVa/oekOSJwERVXQWcTvNh3CaziH9l1vi5leYi5nsAn27PZp4HPHvgPk8a+H99fAgx90UfXtd9ybGrsg9wYjUjo04FXjSw7nKa46tnT7cj8BHg7Kr62nBDvKf2b72E5ljs82uw6zMGjkFeOYzYVmNV9cBK8z1N3I8G/hD4UDsKbfD+pnt+kmQrmlEVr6h7jnyblYVY+A3+4w6pqttnc2dV9VVgfWCnuQlv1qbtX3u6mKq6geZT0OmKqv+gGcYwFy6lOWs3E4+nGS8/6Xs0BycnJXnUNNv/G/BUYNvBxiSPofnUZM/27BVJNqM5sDo6yZXAm2k+8Z1abK6xdijI5tx9Cv6HbUJ6KLBTksnhT6v6W7wE2AT4URvfEuZ2OOqa+jSwa3tW9D5VtbqzHZoDfXkujaIfSZ5J852VF1TVbXPdhykuBX43QqCq/hj4/4D7r3SPu+0HbEeTVz88dWVV/QY4Ddhz6rq1MJP3tV/RfPD3qiT7reR+Bt8DVvU/2hd4RPv/+SHNMKW5eu+Y1ho8t3aj+f9c3Mb3FMbjzMy81YfXdV9y7KD2mGd74CttPPtwz+f6T2g+BDly6si0JO+g+VscOppof89pNF/dGdrkUCO2ynwPUFU/pPmf7DDNuns8P5NsBPwX8DdVde5cBroQC79heDfN9yHGUpINk9xv8jbNpz+XtMvbD2z6Apqiay58Fbh3kv8zEMcTac7kDca2hObFP/UT8f+hGaLwX0m2nbLuDuBI4PUD97Mtzadd+7efxE3aGziuqh5UVUvaT7V/RHMwMCtpZghdh+YTw8H4rqP5Hs3kWckPAQck+eOBfV+W5A9okvRubWxLaIe4zja2tdUOBzkTOJb+JOSx15fn0rD7keTxwP+lOTi8YcjdgeYN/MC0s621NljZxlO1uepvaA4sH5nkvu2nuJPDMvdg7nLuTOKZoCmM/iHtsNRVvAe8F3hbkoe1290rzeyL96I5q/CYgf/Rngy5uFqD59a+wCsHYtsOeHYGZmXUmunD67ovOXaKfWkmrFvS/jwA2DoDs6K2x0N/Bvx72tkmk7ySZjKRfefyTNIaOhZ4V1Wt7utW88bUfD91fZphuNvRTB40dd3vnp/tqIVP0Ry7fnKu41w013fYQ5NDaCZ9saoOH9ygqj6fZGLEca2JLYFPtSe5FgH/UVWTY7qPSPJwmi8kX8UcfXerqirJnwLvTzPl7W9oZjd6Pc0Qi2/TnCn9BfDB6YbcVNXnkiwGvpjkT6asPoZ7DrF9O81kMB9p+3lnVS2lSYxHTNn3P2m+R7g2wxsGnw8BDqiqu6Y5gfhp4J1J/qSqvpZkH+B97Qv/t8DZNENat6X5MvtkoW7mWwAAIABJREFUn3+U5Oftm85vaV78mwDPT/K3VTXdGdC5dgJNEb0mb2j/N8n729vXVNWT5j6s3unLc2mU/Xg3zUQGn2zv/+qqGtrEIlV1fZrvcbwnydY038u7EXjXGtzHr5P8E/AmmompTkszgdLkbIIjHTbd/j1fAHw+yZ8Bb5nuPaCqLkryeuCEtmgqmk+gnwpcW1XXDtzt2cAOSbZqD6Tnypo+t55Gc0D7FwP9/WWSrwPPn8O4FoI+vK77kmPvof3Q6Daa9+jdp6z+VNv+u+/NVdW30nyf9bT2zN/HaF7r57R/i1OrasY5bS5U1QqaSfymc2CSvQaWVzmiri3Kl9OMPPhtm7d2qHtOXDUXZlIPDOb7g9rmM5LcBawLHF53TxS0sufnvjR5drMkB7brD6xmgsRZS9VcTygmSZIkaa6luU7xv1bVdF/ZkVbJoZ6SJEnSmEvyKppROeM0qaDmEc/4SZIkSVLPecZPkiRJknrOwk+SJEmSes7CT5IkSZJ6zsJPnUmyZZL/SHJFkvOTnNNeAkKSOmNukjSOzE2aLQs/dSLNxWM+DZxdVQ+uqskLoW7TbWSSFjJzk6RxZG7SXLDwU1d2AW6vqt9dvLiqrqqqDyZZJ8l7k3wryUVJ/gIgydOTnJnklCTfS3J8mwhJ8kdJzmo/AftSkq066pek+c3cJGkcmZs0a4u6DkAL1qOAC1ay7iDglqp6YpJ7A99I8uV23ePbfX8MfAPYOcl5wAeBPatqIslLgHcDfz7UHkjqI3OTpHFkbtKsWfhpLCT5MPAU4HbgKuAxSfZuV98f2L5d982qWtHucyGwBLgZeDTwlfaDrHWA60YZv6R+MjdJGkfmJq0NCz915VLghZMLVfWaJJsDy4GrgUOq6kuDOyR5OnDbQNNdNM/hAJdW1ZOGHbSk3jM3SRpH5ibNmt/xU1e+Cqyf5NUDbRu0v78EvDrJugBJHpZkw1Xc1/eBxUme1G6/bpJHDSNoSb1nbpI0jsxNmjXP+KkTVVVJ9gKOTPIWYAL4JXAY8EmaoQgXtF9CngD2WsV93d4Ob/iXJPeneV6/n+bTMUmaMXOTpHFkbtJcSFV1HYMkSZIkaYgc6ilJkiRJPWfhJ0mSJEk9Z+GnziR5Z5J/7zoOSRpkbpI0rsxPmg0LPw1dkpcmWZ7k1iTXJflCkqeM4HFvnfJzV5IPDvtxJc0PHeamJUk+n+SmJNcn+VASJ1uT9Dsd5qdHJvlqkluSXJ7kT4f9mBodCz8NVZJDaWaK+gdgS2Bb4CPAnsN+7Kq67+RP+9i/ppn5StIC12Vuah/nBmAr4HHA04C/HMHjSpoHuspP7QdQnwE+B2wKHAz8e5KHDfNxNToWfhqadorgdwGvqapTq+qXVXVHVX22qt48zfafbD/9viXJ2YPXlEmyR5LvJvlFkmuTvKlt3zzJ55LcnORnSb6WZLrn9d40B1pfG1J3Jc0TY5CbtgNOrqrfVNX1wBcBr6Elqev89AjgAcCRVXVXVX0V+Aaw/0g6r6Gz8NMwPQlYH/jUDLf/ArA9sAVwAXD8wLpjgL+oqvsBj6a5kCnAG4EVwGKaT8XeBkx3jZIDgOPK65dI6j43fQDYJ8kGSbYGdqcp/iSpy/yUae4/7b7qAQs/DdNmwI1VdedMNq6qY6vqF1V1G/BO4LHtJ18AdwA7JNmoqm6qqgsG2rcCHtR+Iva1qcVdkm1phlItm4M+SZr/us5NZ9Gc4fs5zcHXcuDTc9IzSfNdl/npezSjo96cZN0kz6Y5ftpg7rqnLln4aZh+Cmw+k0kLkqyT5IgkP0zyc+DKdtXm7e8XAnsAVyU5K8mT2vb3ApcDX05yRZLDp7n7lwNfr6ofzaYzknqjs9zUDqf6EnAqsGF7P5sA75mbrkma5zrLT1V1B7AX8FzgepozgyfTfEClHrDw0zCdA/yGJomszktpvrT8TOD+wJK2PQBV9a2q2pNmKMOnaRIR7adcb6yqBwPPBw5NsuuU+345nu2TdLcuc9OmwAOBD1XVbVX1U+DjNAdnktTpsVNVXVRVT6uqzarqOcCDgW/OVefULQs/DU1V3QK8Hfhwkr3a77Osm2T3JP84ZfP7AbfRfNK1Ac1MVgAkWS/Jfknu334a9XPgrnbd85I8NEkG2u8a2PfJwNY4m6ekVpe5qapuBH4EvDrJoiQb03wH+TvD7bWk+aDrY6ckj0myfvu4b6IZEvqJoXZaI2Php6Gqqn8GDgX+BpgArgFey+9/n+U44CrgWuC7wLlT1u8PXNkOZXgV8LK2fXvgv4FbaT4l+0hVnTmw3wHAqVX1iznqkqQe6Dg3/RmwW/u4lwN3Am+Yo65Jmuc6zk/7A9fRfNdvV+BZ7fcH1QNxkkNJkiRJ6jfP+EmSJElSz1n4SZIkSVLPWfhJkiRJUs9Z+EmSJElSz6324pDjbPPNN68lS5Z0HYakOXT++effWFWLu45jtsxPUv/0IT+Zm6T+mWlumteF35IlS1i+fHnXYUiaQ0mu6jqGuWB+kvqnD/nJ3CT1z0xzk0M9JUmSJKnnLPwkSZIkqecs/CRJkiSp5yz8JEmSJKnnLPwkSZIkqecs/CRJkiSp5yz8JC14SdZJ8u0kn5tm3b2TnJTk8iTnJVky+gglSZJmx8JPkuCvgMtWsu4g4KaqeihwJPCekUUlSZI0Ryz8JC1oSbYBngscvZJN9gSWtbdPAXZNklHEJkmSNFcWdR3AXPujNx/XdQirdP57X951CJLu6f3AW4D7rWT91sA1AFV1Z5JbgM2AG6dumORg4GCAbbfd9vfuaJzzk7lJWrjMTdLC4Bk/SQtWkucBN1TV+avabJq2mm7DqjqqqpZW1dLFixfPSYySJElzwcJP0kK2M/CCJFcCJwK7JPn3KdusAB4IkGQRcH/gZ6MMUpIkabYs/CQtWFX11qrapqqWAPsAX62ql03Z7DTggPb23u02057xkyRJGle9+46fJM1WkncBy6vqNOAY4N+SXE5zpm+fToOTJElaCxZ+kgRU1ZnAme3ttw+0/wZ4UTdRSZIkzQ2HekqSJElSz1n4SZIkSVLPWfhJkiRJUs9Z+EmSJElSz1n4SZIkSVLPWfhJkiSNsSTHJrkhySVT2g9J8v0klyb5x67ikzQ/WPhJkiSNt08Auw02JHkGsCfwmKp6FPC+DuKSNI9Y+EmSJI2xqjob+NmU5lcDR1TVbe02N4w8MEnzioWfJEnS/PMw4E+SnJfkrCRPXNmGSQ5OsjzJ8omJiRGGKGmcWPhJkiTNP4uATYCdgDcDJyfJdBtW1VFVtbSqli5evHiUMUoaIxZ+kiRJ888K4NRqfBP4LbB5xzFJGmMWfpIkSfPPp4FdAJI8DFgPuLHTiCSNtUVdByBJkqSVS3IC8HRg8yQrgHcAxwLHtpd4uB04oKqquygljTsLP0mSpDFWVfuuZNXLRhqIpHnNoZ6SJEmS1HMWfpIkSZLUcxZ+kiRJktRzFn6SJEmS1HMWfpIkSZLUcxZ+kiRJktRzFn6SFqwk6yf5ZpLvJLk0yd9Os82BSSaSXNj+vLKLWCVJkmbD6/hJWshuA3apqluTrAt8PckXqurcKdudVFWv7SA+SZKkOWHhJ2nBqqoCbm0X121/qruIJEmShsOhnpIWtCTrJLkQuAH4SlWdN81mL0xyUZJTkjxwFfd1cJLlSZZPTEwMLWZJkqQ1ZeEnaUGrqruq6nHANsCOSR49ZZPPAkuq6jHAfwPLVnFfR1XV0qpaunjx4uEFLUmStIYs/CQJqKqbgTOB3aa0/7SqbmsX/xX4oxGHJkmSNGsWfpIWrCSLk2zc3r4P8Ezge1O22Wpg8QXAZaOLUJIkaW50MrlLkjcAr6SZROFi4BXAVsCJwKbABcD+VXV7F/FJWjC2ApYlWYfmg7CTq+pzSd4FLK+q04DXJXkBcCfwM+DAzqKVJElaSyMv/JJsDbwO2KGqfp3kZGAfYA/gyKo6McnHgIOAj446PkkLR1VdBDx+mva3D9x+K/DWUcYlSZI017oa6rkIuE+SRcAGwHXALsAp7fplwF4dxSZJkiRJvTLywq+qrgXeB1xNU/DdApwP3FxVd7abrQC2nm5/p0uXJEmSpDUz8sIvySbAnsB2wAOADYHdp9l02osoO126JEmSJK2ZLoZ6PhP4UVVNVNUdwKnAk4GN26Gf0FxP68cdxCZJkjR2khyb5IYkl0yz7k1JKsnmXcQmaX7oovC7GtgpyQZJAuwKfBc4A9i73eYA4DMdxCZJkjSOPsGU64wCJHkg8Cya4ytJWqkuvuN3Hs0kLhfQXMrhXsBRwGHAoUkuBzYDjhl1bJIkSeOoqs6muaTMVEcCb2ElX5GRpEmdXMevqt4BvGNK8xXAjh2EI0mSNO+01xi9tqq+0wyiWul2BwMHA2y77bYjik7SuOnqcg6SJElaS0k2AP4aePvqtnViPElg4SdJkjQfPYRmhvTvJLmSZmK8C5L8QadRSRpbnQz1lCRJ0tqrqouBLSaX2+JvaVXd2FlQksaaZ/wkSZLGXJITgHOAhydZkeSgrmOSNL94xk+SJGnMVdW+q1m/ZEShSJqnPOMnSZIkST1n4SdJkiRJPWfhJ0mSJEk9Z+EnSZIkST1n4SdJkiRJPWfhJ0mSJEk9Z+EnSZIkST1n4SdpQUuyfpJvJvlOkkuT/O0029w7yUlJLk9yXpIlo49UkiRp7Vn4SVrobgN2qarHAo8Ddkuy05RtDgJuqqqHAkcC7xlxjJIkSbNi4SdpQavGre3iuu1PTdlsT2BZe/sUYNckGVGIkiTp/7V35/GS1OW9xz9fWUTEDTkqAYZxIe4LOq4YRfEaVBSNqHCJAYKZxAsEd1FzkXivuW5RFIjcURQwKCBuaHBBZVHU0WFEtkHFDeaKMm7gQiSjz/2j6mDTc86Zs3b16fN5v17ndbqqfl39VFfX0/V0/apKc7Zl1wFIUteSbAFcDNwHOKGqVvc12Qm4FqCqNia5Abgr8LO++awEVgIsW7ZsocPuxDVveHDXIUxq2dGXdR2CJElDyyN+kpa8qvpDVT0M2Bl4VJIH9TWZ6Ohe/1FBqmpVVa2oqhVjY2MLEaokSdKsWPhJUquqfgWcD+zdN2k9sAtAki2BOwG/GGhwkiRJc2DhJ2lJSzKW5M7t49sBTwGu6mt2NnBQ+3g/4ItVtckRP0mSpGHlOX6SlrodgVPa8/xuA5xZVZ9K8gZgTVWdDZwEfCDJ1TRH+vbvLlxJkqSZs/CTtKRV1aXA7hOMP7rn8X8CzxtkXJIkSfPJrp6SJEmSNOIs/CRJkoZYkvcluT7J5T3j3prkqiSXJvnY+LnKkjQZCz9JkqThdjKbXm34XOBBVfUQ4DvAawYdlKTFxcJPkiRpiFXVhfTdQqaqPldVG9vBr9Hch1SSJmXhJ0mStLj9LfDproOQNNws/CRJkhapJK8DNgKnTdFmZZI1SdZs2LBhcMFJGioWfpIkSYtQkoOAfYADq6oma1dVq6pqRVWtGBsbG1yAkoaK9/GTJElaZJLsDbwaeGJV/a7reCQNP4/4SZIkDbEkHwK+Ctw3yfokhwLHA3cAzk1ySZITOw1S0tDziJ8kSdIQq6oDJhh90sADkbSoecRPkiRJkkachZ8kSZIkjTgLP0mSJEkacRZ+kiRJkjTiLPwkSZIkacRZ+EmSJEnSiLPwkyRJkqQRZ+EnSZIkSSOuk8IvyZ2TnJXkqiTrkjw2yfZJzk3y3fb/XbqITZIkSZJGTVdH/N4JfKaq7gc8FFgHHAV8oap2A77QDkuSJEmS5mjghV+SOwJPAE4CqKqbq+pXwL7AKW2zU4BnDzo2SUtLkl2SnNf2PLgiyZETtNkzyQ1JLmn/ju4iVkmSpLnYsoPXvBewAXh/kocCFwNHAnevqusAquq6JHfrIDZJS8tG4OVVtTbJHYCLk5xbVVf2tftSVe3TQXySJEnzoouunlsCDwfeXVW7A79lBt06k6xMsibJmg0bNixUjJKWgKq6rqrWto9/TdPtfKduo5IkSZp/XRR+64H1VbW6HT6LphD8aZIdAdr/10/05KpaVVUrqmrF2NjYQAKWNPqSLAd2B1ZPMPmxSb6V5NNJHjjFPPxhSpIkDaWBF35V9RPg2iT3bUftBVwJnA0c1I47CPjEoGOTtDQl2Q74CPCSqrqxb/JaYNeqeihwHPDxyebjD1OSJGlYdXGOH8ARwGlJtga+DxxCU4SemeRQ4BrgeR3FJmkJSbIVTdF3WlV9tH96byFYVeck+bckO1TVzwYZpyRJ0lx0UvhV1SXAigkm7TXoWCQtXUlCc4XhdVX19kna3AP4aVVVkkfR/Ej18wGGKUmSNGddHfGTpGGwB/BC4LIkl7TjXgssA6iqE4H9gBcn2QjcBOxfVdVFsJIkSbNl4SdpyaqqLwPZTJvjgeMHE5EkTSzJ+4B9gOur6kHtuO2BM4DlwA+B51fVL7uKUdJws/AbQte84cFdhzClZUdf1nUIkiQtNSfT/Ah1as+4o4AvVNWbkhzVDr+6g9gkLQJd3M5BkiRJM1BVFwK/6Bu9L3BK+/gU4NkDDUrSomLhJ0mStDjdvaquA2j/322iRt5jVBJY+EmSJI007zEqCeZY+CXZYzrjJGmhmY8kLQbznKt+mmTHdh47AtfPJTZJo22uF3c5Dnj4NMZpCdrjuOHd577oiIu6DkHzz3wkaTGYz1x1NnAQ8Kb2/yfmFpqkUTarwi/JY4HHAWNJXtYz6Y7AFvMRmCRNh/lI0mIw11yV5EPAnsAOSdYDr6cp+M5McihwDfC8+Y5b0uiY7RG/rYHt2uffoWf8jTQ3O5ZGwgVPeGLXIUzqiRde0HUIw8J8JGkxmFOuqqoDJpm019xDk7QUzKrwq6oLgAuSnFxVP5rnmCRp2sxHkhYDc5Wkrs31HL/bJlkFLO+dV1U9eY7zlaSZMh9JWgzMVZI6MdfC78PAicB7gT/MPRxJmjXzkaTFwFwlqRNzLfw2VtW75yUSSZob85GkxcBcJakTc72B+yeT/I8kOybZfvxvXiKTpJkxH0laDMxVkjox1yN+B7X/X9kzroB7zXG+kjRT5iNJi4G5SlIn5lT4VdU95ysQSZoL85GkxcBcJakrcyr8kvzNROOr6tS5zFeSZsp8JGkxMFdJ6spcu3o+sufxNjQ3EV0LmLwkDZr5SNJiYK6S1Im5dvU8onc4yZ2AD8wpIkmaBfORpMXAXCWpK3O9qme/3wG7zfM8JWk2zEeSFgNzlaSBmOs5fp+kuRIVwBbA/YEz5xqUJM3UbPJRkl1oulfdA/gjsKqq3tnXJsA7gafT7KAdXFVr5zd6SUuF+06SujLXc/ze1vN4I/Cjqlo/x3lK0mzMJh9tBF5eVWuT3AG4OMm5VXVlT5un0fwavxvwaODd7X9Jmg33nSR1Yk5dPavqAuAq4A7AXYCb5yMoSZqp2eSjqrpu/OhdVf0aWAfs1NdsX+DUanwNuHOSHec1eElLhvtOkroyp8IvyfOBrwPPA54PrE6y33wEJkkzMdd8lGQ5sDuwum/STsC1PcPr2bQ4lKRpcd9JUlfm2tXzdcAjq+p6gCRjwOeBs+YamCTN0KzzUZLtgI8AL6mqG/snT/CUmmAcSVYCKwGWLVs2/cg1UHsct0fXIUzqoiMumla7C57wxAWOZG6eeOEFm21z/Ms/OYBIZu/wf33mQs3afSdJnZhr4Xeb8cTV+jnzf6VQSXMwzDtX87xjNat8lGQrmqLvtKr66ARN1gO79AzvDPx4onlV1SpgFcCKFSsmLA4lLXnuO0nqxFwLv88k+SzwoXb4BcA5c5ynJM3GjPNRe8XOk4B1VfX2SZqdDRye5HSai7rcUFXXzVPMkpYe950kdWJWhV+S+wB3r6pXJvkr4PE03aG+Cpw2j/FJ0pTmmI/2AF4IXJbkknbca4FlAFV1Is0O2dOBq2lu53DIvC+EpJG3UPtOSV4KvIimC/plwCFV9Z/zELKkETPbI37H0uwc0XaN+ihAkhXttAXrGC9JfWadj6rqy0x8Dl9vmwIOm69gJS1Z877vlGQn4B+BB1TVTUnOBPYHTp6nmCWNkNn2KV9eVZf2j6yqNcDyOUUkSTNjPpK0GCxUrtoSuF2SLYFtmeQcZEmabeG3zRTTbjfLeUrSbJiPJC0G856rqur/0dwQ/hrgOppzkD/X3y7JyiRrkqzZsGHDbF5K0giYbeH3jSR/1z8yyaHAxXMLSZJmxHwkaTGY91yV5C7AvsA9gT8Dbp/kr/vbVdWqqlpRVSvGxsZm81KSRsBsz/F7CfCxJAfyp2S1AtgaeM58BCZJ02Q+krQYLESuegrwg6raAJDko8DjgH+fY6ySRtCsCr+q+inwuCRPAh7Ujv6PqvrivEUmSdNgPpK0GCxQrroGeEySbYGbgL2ANXOLVNKomtN9/KrqPOC8eYpFkmbNfCRpMZjPXFVVq5OcBawFNgLfBFbNx7wljZ653sBdkiRJHamq1wOv7zoOScNvthd3kSRJkiQtEhZ+kiRJkjTiOiv8kmyR5JtJPtUO3zPJ6iTfTXJGkq27ik2SJEmSRkmXR/yOBNb1DL8ZeEdV7Qb8Eji0k6gkSZIkacR0Uvgl2Rl4BvDedjjAk4Gz2ianAM/uIjZJkiRJGjVdHfE7FngV8Md2+K7Ar6pqYzu8Htipi8AkSZIkadQMvPBLsg9wfVVd3Dt6gqY1yfNXJlmTZM2GDRsWJEZJkiRJGiVdHPHbA3hWkh8Cp9N08TwWuHOS8fsK7gz8eKInV9WqqlpRVSvGxsYGEa8kSZIkLWoDL/yq6jVVtXNVLQf2B75YVQcC5wH7tc0OAj4x6NgkSZIkaRQN0338Xg28LMnVNOf8ndRxPJIkSZI0ErbcfJOFU1XnA+e3j78PPKrLeCRJkiRpFA3TET9JkiRJ0gKw8JMkSZKkEWfhJ2lJS/K+JNcnuXyS6XsmuSHJJe3f0YOOUZIkaa46PcdPkobAycDxwKlTtPlSVe0zmHAkSZLmn0f8JC1pVXUh8Iuu45AkSVpIFn6StHmPTfKtJJ9O8sDJGiVZmWRNkjUbNmwYZHySJElTsvCTpKmtBXatqocCxwEfn6xhVa2qqhVVtWJsbGxgAUqSJG2OhZ8kTaGqbqyq37SPzwG2SrJDx2FJEgBJ7pzkrCRXJVmX5LFdxyRpOHlxF0maQpJ7AD+tqkryKJofzH7ecViSNO6dwGeqar8kWwPbdh2QpOFk4SdpSUvyIWBPYIck64HXA1sBVNWJwH7Ai5NsBG4C9q+q6ihcSbpFkjsCTwAOBqiqm4Gbu4xJ0vCy8JO0pFXVAZuZfjzN7R4kadjcC9gAvD/JQ4GLgSOr6re9jZKsBFYCLFu2bOBBDsI1b3hw1yFMadnRl222zR7H7TGASGbvoiMu6joEzZHn+EmSJC1OWwIPB95dVbsDvwWO6m/khackgYWfJEnSYrUeWF9Vq9vhs2gKQUnahIWfJEnSIlRVPwGuTXLfdtRewJUdhiRpiHmOnyRJ0uJ1BHBae0XP7wOHdByPpCFl4SdJkrRIVdUlwIqu45A0/OzqKUmSJEkjzsJPkiRJkkachZ8kSZIkjTgLP0mSJEkacRZ+kiRJkjTiLPwkSZIkacRZ+EmSJEnSiLPwkyRJkqQRZ+EnSZIkSSPOwk+SJEmSRpyFnyRJkiSNOAs/SZIkSRpxFn6SJEmSNOIs/CRJkiRpxFn4SVrSkrwvyfVJLp9kepK8K8nVSS5N8vBBxyhJkjRXFn6SlrqTgb2nmP40YLf2byXw7gHEJEmSNK8s/CQtaVV1IfCLKZrsC5xaja8Bd06y42CikyRJmh8WfpI0tZ2Aa3uG17fjJEmSFg0LP0maWiYYVxM2TFYmWZNkzYYNGxY4LElqJNkiyTeTfKrrWCQNLws/SZraemCXnuGdgR9P1LCqVlXViqpaMTY2NpDgJAk4EljXdRCShpuFnyRN7Wzgb9qrez4GuKGqrus6KEkCSLIz8AzgvV3HImm4bdl1AJLUpSQfAvYEdkiyHng9sBVAVZ0InAM8Hbga+B1wSDeRStKEjgVeBdxhsgZJVtJclZhly5YNKCwtVRc84YldhzCpJ154QdchdMrCT9KSVlUHbGZ6AYcNKBxJmrYk+wDXV9XFSfacrF1VrQJWAaxYsWLCc5QljT67ekqSJC1OewDPSvJD4HTgyUn+vduQJA2rgRd+SXZJcl6SdUmuSHJkO377JOcm+W77/y6Djk2SJGmxqKrXVNXOVbUc2B/4YlX9dcdhSRpSXRzx2wi8vKruDzwGOCzJA4CjgC9U1W7AF9phSZIkSdIcDbzwq6rrqmpt+/jXNJcf3gnYFzilbXYK8OxBxyZJkrQYVdX5VbVP13FIGl6dnuOXZDmwO7AauPv4JdLb/3eb5DneIFmSJEmSZqCzwi/JdsBHgJdU1Y3TfZ43SJYkSZKkmemk8EuyFU3Rd1pVfbQd/dMkO7bTdwSu7yI2SZIkSRo1XVzVM8BJwLqqenvPpLOBg9rHBwGfGHRskiRJkjSKuriB+x7AC4HLklzSjnst8CbgzCSHAtcAz+sgNkmSJEkaOQMv/Krqy0AmmbzXIGORJEmSpKWg06t6SpIkSZIWXhddPSVJkiRpKB3/8k92HcKkDv/XZ876uR7xkyRJkqQRZ+EnSZIkSSPOwk+SJEmSRpyFnyRJkiSNOAs/SZIkSRpxFn6SJEmSNOIs/CRJkiRpxFn4SZIkSdKIs/CTtKQl2TvJt5NcneSoCaYfnGRDkkvavxd1EackSdJcbNl1AJLUlSRbACcA/w1YD3wjydlVdWVf0zOq6vCBByhJkjRPPOInaSl7FHB1VX2/qm4GTgf27TgmSZqWJLskOS/JuiRXJDmy65gkDS8LP0lL2U7AtT3D69tx/Z6b5NIkZyXZZbKZJVmZZE2SNRs2bJjvWCWp30bg5VV1f+AxwGFJHtBxTJKGlIWfpKUsE4yrvuFPAsur6iFAdO0IAAASlUlEQVTA54FTJptZVa2qqhVVtWJsbGwew5SkTVXVdVW1tn38a2AdE/94JUkWfpKWtPVA7xG8nYEf9zaoqp9X1e/bwfcAjxhQbJI0bUmWA7sDqyeYZm8ESRZ+kpa0bwC7Jblnkq2B/YGzexsk2bFn8Fk0v6hL0tBIsh3wEeAlVXVj/3R7I0gCr+opaQmrqo1JDgc+C2wBvK+qrkjyBmBNVZ0N/GOSZ9GcS/ML4ODOApakPkm2oin6Tquqj3Ydj6ThZeEnaUmrqnOAc/rGHd3z+DXAawYdlyRtTpIAJwHrqurtXccjabjZ1VOSJGlx2gN4IfDkJJe0f0/vOihJw8kjfpIkSYtQVX2Zia9OLEmb8IifJEmSJI04Cz9JkiRJGnEWfpIkSZI04iz8JEmSJGnEWfhJkiRJ0oiz8JMkSZKkEWfhJ0mSJEkjzsJPkiRJkkachZ8kSZIkjTgLP0mSJEkacRZ+kiRJkjTiLPwkSZIkacRZ+EmSJEnSiLPwkyRJkqQRZ+EnSZIkSSPOwk+SJEmSRpyFnyRJkiSNOAs/SZIkSRpxQ1f4Jdk7ybeTXJ3kqK7jkTTaNpdzktw2yRnt9NVJlg8+SkmamPtNkqZrqAq/JFsAJwBPAx4AHJDkAd1GJWlUTTPnHAr8sqruA7wDePNgo5SkibnfJGkmhqrwAx4FXF1V36+qm4HTgX07jknS6JpOztkXOKV9fBawV5IMMEZJmoz7TZKmLVXVdQy3SLIfsHdVvagdfiHw6Ko6vKfNSmBlO3hf4NsLHNYOwM8W+DUWmsswPEZhORZ6GXatqrEFnP8tpplzLm/brG+Hv9e22eQ9GHB+8rM0PEZhOVyG6RlYfpqO6eSwdrz7TjPnMgyHUVgGGJJ9py0XMIDZmOhX9FtVplW1Clg1mHAgyZqqWjGo11sILsPwGIXlGIVl6LHZnDPNNs3IAeanUVgPo7AMMBrL4TIsWtPKT+47zZzLMBxGYRlgeJZj2Lp6rgd26RneGfhxR7FIGn3TyTm3tEmyJXAn4BcDiU6SpuZ+k6RpG7bC7xvAbknumWRrYH/g7I5jkjS6ppNzzgYOah/vB3yxhqmPvKSlzP0mSdM2VF09q2pjksOBzwJbAO+rqis6DmtgXSMWkMswPEZhOUZhGYDJc06SNwBrqups4CTgA0mupjnSt393Ed/KKKyHUVgGGI3lcBkWoSHdb4LRWBcuw3AYhWWAIVmOobq4iyRJkiRp/g1bV09JkiRJ0jyz8JMkSZKkEbfkCr8kf0hySc/fUe34LZP8S5Lv9kx73RTPW55kzyQ3JPlmkquSvK3D5fpNz+Ont8uxLMkxSV6R5IQ27iuT3NSzHPt1FO/4+/mtJGuTPK4dv7wnviuTnJpkq77nvjPJ/0tym55xByfZ0LNcpw56mdo4npOkktyvHV7e3geuv93J4+99ku3bz9AhCxTT+Ht9eZIPJ9m2b/wV7Xp4Wd97+qgk57efpbVJ/iPJg9tpx7TrYPz9flM7/vwk327n940kD+uLZff2/fnLhVjWxWqy7aGd9udJzklydZJ1Sc5Mcvd22uOTfL3NP1eluVfX+PN619GVSQ5YoNh/0zd8cJLj28f/kOSyNoYvJ3lAO348d45/fj4/VfueeW+y7S+UzW3LSf6uXVeT5tYkz2u3rz8mGfhlvMfXTU9e/Wb7Gfp6koN62t2yznrGnZ9kRZJt223/qnZZ3jSg2Hvz1ieT3LlnWS7va3tMkle0j5Pkn9q89Z0k5yV5YF9789A0JXldu94vbdfHo3vyfO9nfZv2c/Wttv0/98yjt/26vjz1xiTX9ueRBViOTfb9kuzSN+6SJDcmeXP7nB8m2aFnHnsm+VT7+MD2Pbk0yVeSPHQh4+9bljlv1+3jgbz3PbFOuN0meWubXy5N8rHxbb2n3bT3+QaZcxdtfq2qJfUH/GaS8W8CTga2aYfvABwz1fOAPYFPtY9vB1wF7NHlcgF7Ad8D7t0OHwO8oqfdcuDyYVoPwF8CF/THR3Oi+heBA3va3ga4BvgasGfP+IOB44dguc4EvjT+2Zns/W4/a/vR3BrgG8CLB/Renwa8bILxdwM+D/xzO3x34IfA43raPB549kSfq5425wMr2seHAOf2TX9L+/6c3PW6Gqa/KbaHbYDvAs/smf4k4EHAPdpt4eHt+B2Ai4Fn9K8jYDfgRmCrhYy9Hb5lWwTu2DP+WcBn2sd70ubOvudO2L4dnnDbX8B1Mum2DLwQuBTYoaf9Jts6cH+am2Xfsl108bnqjw24F3AJcEj/Outpcz6wAtgWeFI7buv2PXnaoGJvH58CvG6K97n3s344cA6wbTv8VJrvxG162puHprcOHgt8FbhtO7wD8GcTfZ5p7ie4Xft4K2A18Jjez1L7eHvgl8DW7fBjgB3788hCfp6maPNg4Fpgx3b4h33b+C15C3gccJf28dOA1QNcL3Pergf53k8UazvuGOAV7Ta6ZTvuzcCbe9rMaJ+PAebc+VgPdJBfl9wRv4mkOQLyd8ARVfWfAFX166o6ZrrzqKqbaFb0TgsS5DQk+QvgPTQ7ft/rKo5ZuCPNF8GtVNUfgK9z6/f0ScDlwLuBBTmCMVtJtgP2AA5leld+3A74NPDBqnr3QsbW40vAffpHVtX1wErg8CSh2Xk6paq+0tPmy1X18Rm81lfpWXftfPejSYJPTbLNrJZg9PVuD/8d+GpVfXJ8YlWdV1WXA4fR7Liubcf/DHgVcFT/DKvqu8DvgLsscOz9r3tjz+DtmeTG99NsP7Btf6ptOcnzad7jp7bv+aSqal1VfXvBAp2lqvo+8DLgH6fR9ndVdV77+GZgLc294gbpVrlkM15N813+O4Cq+hzwFeBAMA/N0I7Az6rq99DkmKqa8B6B1Rg/crRV+zfR9r4d8FvgD+3zvlZV18175DPUfg5OAw6bTjxV9ZWqGs/TX2Pw28QmZrJdt+2H4r2vqs9V1cZ2sP+9nFHeH4acO+z5dahu5zAgt0tySc/w/wHWAddU1a+n+bwfVNVzeicmuQvNr+oXzmu003db4BM0v4hc1VEMMzH+fm5D8+Xy5P4GbSJ+NHBkz+gDgA/RLOu/JNmqqv6rnfaCJI9vH7+zqt6/YNFP7Nk0Ryi+k+QXSR7O1Df6fjvw3qp6xyCCS3Pz8acBn5loelV9v+1KcTfggTS/sk/lpUn+un386qr6bN/0vYHeQnEPmm3ne0nOB54OfHRmSzGyJtseHkRzFG8iE62jNe34W2k/i99tC/z51p9Tt6fnPmJJDqP5EtyaW2/nf9HzvA9X1Rs3036qbX++TbYt7wocD+xeVT9ZoNcelLXA/XqGe/MnTPADUdsF65nAOxc4tt7X3IKmJ8tJPaPv3feZuwfwtiR3BG4/wQ+fvduFeWj6PgccneQ7ND1CzqiqC9pppyW5qX28V1X9vF1XF9N8dk6oqtU98zotye9p9pNe0v6wO0ib7PtV1Rk9w28BLqrmFj69zksyHut2ND27+h1K8yPuMJjxdj1k/hboXS/DvM83laHNr0vxiN9NVfWwnr8z+hskOaTtM3xtkl0meF5v0fcXSS4FfkLTBaCrnYH/ovlV89COXn+mxt/P+9EUCKe2v8TCn77Uf05TkF8KkObmtE8HPt4eGVhN00Vg3Bk966iLBHAAcHr7+HQ2/+vUF4F9k9xtQaP60xfeGpouEydN0TYTjkxWt33XexPSO3re796i77Qk62l+eT+uZ/xM35+lZKrtYTJh4l/Ue8e9NMm3abaVY+Yl0k3dKqcCR98qmKoTqureNJ+Hf+qZ9KWe571xqvbT2Pbn22Sf1Q0029DzF/C1B6X/83VG33pcc6vGzQ9HHwLe1f6ivdBu1/M9sD1wbs+07/XFeuJm5tW7rZiHpqk9gvcImt4gG4AzkhzcTj6wZx38vG3/h3Z97Aw8KsmDemZ3YFU9BFgGvCLJrgNbkMak+35JngY8BXj5BM97Us/n7EX9E5M8iWa/69ULFfgMzWi7HqDJenvcMj7NdTU20hx5XQz7fFMZ2vy6FAu/iVwNLEtyB4Cqen+7Ym6gOc9sKl9qk9mDgRen72IWA/RHmp2RRyZ5bUcxzEpVfZXm3IGxdtT32vf/PsBjkjyrHb83zTlxlyX5Ic05Z0PxpZ3krjRHJ97bxvZK4AVMUki1TqfpvnDO+GdvgfR+4R3RdifYRJJ70XS/uR64Anj4+LSqejTwP2ne/805ELgn8EHghHbeWwDPpfn1+Ic0BeHTFni5F6W+7eEKmh2viVxBc45Ar0cAV/YMv6Oq7kvzWTy1425tp9McSZtN+4Ft+5vZln9Hc9T8H5IcuBCvP0C70/R2ma5VNEeNj12gePrd1H4P7Epz9PewzT2h3Tn8bZvLej0cuNI8NHNtMXd+Vb2e5hSA507jOb+iOYdp7wmmbaA5GvLoeQ51VpKMAf+XpjD93Qyf+xDgvcC+48XvEJjpdj0oP2fTUw22B34G0F4MZR+a9TBeDA7tPt80DG1+tfCj6WNLcxTk+PEdo/YLYusZzOM7NN1GO/vVp12OfYADkyyWI3+kuWreFjSJ4RZt3/OjgNe0ow4AXlRVy6tqOU1x8dT2HM2u7QecWlW7tvHtAvyAzfTVbjfyLwAfa3/d6kT75XcizQnIRVOwHZyeq0vSnIQ8LW1XjH+iKdzvT/Nr6reqapf2/dkV+AgzKwSWhL7t4YPA45I8o2f63mmurjq+jh7Wjr8rzYnxb+mfZ1V9lOYXxoP6py2kJLv1DD6D5kI1s2k/yG1/ym253XHdm6bb0aK8KmSS5cDbuPUR+ana/2+aHbCXLFxUE6uqG2jOlXlF+q7wPIm3Au9KcjuAJE+h2WH8IOahGUly375t8mHAjyZpO5Y/XXn1djTv9SbdItttdneaC+4Mg/cBx1XVN2fypCTLaLoIv7Dd/+vcTLfrQWqPHl+XZC9ormZOk0e/nGRvmn3nZ/UV38O8zzepYc+vnuPXnMdxFPA64H8Blyf5NXATzfkzE57IPIkTab6c7llVP5i3iGegqn7RbkQXJpnywgMd610PAQ6qqj9M0Lvt48AxSZ5Ic7XDvx+fUFW/TfJlmj7RXTuA5sqwvT4CvBa4b9v1cdxLextV1auTvB/4QJIDquqPCxvqLcbXwVY03Ss+QHPeIVX1kyQvAN6cZCeao4A/A94w3ZlX1U1J/pXmql1bAB/ra/IR4MXt6y51E24PwE1J9gGOTXIsTZfuS4Ejq+qnac6xfE97xCLAsdVzIZg+bwA+mOQ9A/yMHd7ueP8XzQVrNld4btK+/ZKfatvfpLv+HE21LY+//g/angjnJPmruvW5TLdI8hyaL/8x4D+SXFJVXRWL907yTZrzSH9Ns7O72e5RSXam+X68Cljb5ujjq+q9Cxlsr6r6ZpJv0Vxo50ubaX4czZGFy9Kcm/UTmiMyN6W5pYl5aPq2A45rC7qNNL2jVgJnTdB2R+CU9kfz2wBnVtWneqaPnxN4W5qLUl0MkOQtNBex2rb9nnxvzeDCejOwyb4fzXlj+9D0+Oo9gn9uVb1yM/M7Grgr8G/tNrGxqgZ+yxZmuV3DQN/7cX8DnNDuF0BzFfHvJfkszefi3Pa9/BrNed4z3ufrMOcumvyaPx1RlSRJkiSNIrt6SpIkSdKIs/CTJEmSpBFn4SdJkiRJI87CT5IkSZJGnIWfJEmSJI04Cz91Jsndk3wwyfeTXJzkq+2leCWpM+YmScPI3KS5svBTJ9LcrOTjwIVVda+qegTNPZqmvOG5JC0kc5OkYWRu0nyw8FNXngzcXFUnjo+oqh9V1XFJtkjy1iTfSHJpkr8HSLJnkvOTnJXkqiSntYmQJI9IckH7C9hnk+zY0XJJWtzMTZKGkblJc7Zl1wFoyXogsHaSaYcCN1TVI5PcFrgoyefaabu3z/0xcBGwR5LVwHHAvlW1IckLgDcCf7ugSyBpFJmbJA0jc5PmzMJPQyHJCcDjgZuBHwEPSbJfO/lOwG7ttK9X1fr2OZcAy4FfAQ8Czm1/yNoCuG6Q8UsaTeYmScPI3KTZsPBTV64Anjs+UFWHJdkBWANcAxxRVZ/tfUKSPYHf94z6A81nOMAVVfXYhQ5a0sgzN0kaRuYmzZnn+KkrXwS2SfLinnHbtv8/C7w4yVYASf48ye2nmNe3gbEkj23bb5XkgQsRtKSRZ26SNIzMTZozj/ipE1VVSZ4NvCPJq4ANwG+BVwMfpumKsLY9CXkD8Owp5nVz273hXUnuRPO5Ppbm1zFJmjZzk6RhZG7SfEhVdR2DJEmSJGkB2dVTkiRJkkachZ8kSZIkjTgLP0mSJEkacRZ+kiRJkjTiLPwkSZIkacRZ+EmSJEnSiLPwkyRJkqQR9/8BmCMlSgxnAMIAAAAASUVORK5CYII=\n",
      "text/plain": [
       "<Figure size 1080x1080 with 9 Axes>"
      ]
     },
     "metadata": {
      "needs_background": "light"
     },
     "output_type": "display_data"
    }
   ],
   "source": [
    "# check the top occuring Gene in each class\n",
    "import matplotlib.pyplot as plt\n",
    "import seaborn as sns\n",
    "fig, axs = plt.subplots(ncols=3, nrows=3, figsize=(15,15))\n",
    "fig.suptitle('Gene count per class', fontsize=20)\n",
    "train_df['Count']=1\n",
    "\n",
    "for i in range(3):\n",
    "    for j in range(3):\n",
    "        gene_count_grp = train_df[train_df[\"Class\"]==((i*3+j)+1)].groupby('Gene')[\"Count\"].count().reset_index()\n",
    "        sorted_gene_group = gene_count_grp.sort_values('Count', ascending=False)\n",
    "        sorted_gene_group_top_5 = sorted_gene_group[:5]\n",
    "        ax = sns.barplot(x=\"Gene\", y=\"Count\", data=sorted_gene_group_top_5, ax=axs[i][j]).set_title('Class'+str((i*3+j)+1))\n",
    "        \n",
    "train_df.drop(['Count'], axis=1, inplace=True)\n",
    "\n",
    "# gene maybe could help to differentiate some of the classes such as between class 1 and 2."
   ]
  },
  {
   "cell_type": "code",
   "execution_count": 10,
   "metadata": {},
   "outputs": [
    {
     "data": {
      "text/html": [
       "<div>\n",
       "<style scoped>\n",
       "    .dataframe tbody tr th:only-of-type {\n",
       "        vertical-align: middle;\n",
       "    }\n",
       "\n",
       "    .dataframe tbody tr th {\n",
       "        vertical-align: top;\n",
       "    }\n",
       "\n",
       "    .dataframe thead th {\n",
       "        text-align: right;\n",
       "    }\n",
       "</style>\n",
       "<table border=\"1\" class=\"dataframe\">\n",
       "  <thead>\n",
       "    <tr style=\"text-align: right;\">\n",
       "      <th></th>\n",
       "      <th>Text</th>\n",
       "      <th>Gene</th>\n",
       "      <th>Variation</th>\n",
       "      <th>Class</th>\n",
       "      <th>Text_count</th>\n",
       "    </tr>\n",
       "  </thead>\n",
       "  <tbody>\n",
       "    <tr>\n",
       "      <th>1613</th>\n",
       "      <td>The case of a 40-year-old woman with severe ed...</td>\n",
       "      <td>VHL</td>\n",
       "      <td>L158Q</td>\n",
       "      <td>4</td>\n",
       "      <td>53</td>\n",
       "    </tr>\n",
       "    <tr>\n",
       "      <th>648</th>\n",
       "      <td>The p16 gene is located in chromosome 9p21, a ...</td>\n",
       "      <td>CDKN2A</td>\n",
       "      <td>Q50*</td>\n",
       "      <td>4</td>\n",
       "      <td>103</td>\n",
       "    </tr>\n",
       "    <tr>\n",
       "      <th>1583</th>\n",
       "      <td>HEREDITARY nonpolyposis colorectal cancer (HNP...</td>\n",
       "      <td>PMS1</td>\n",
       "      <td>Q233*</td>\n",
       "      <td>4</td>\n",
       "      <td>114</td>\n",
       "    </tr>\n",
       "    <tr>\n",
       "      <th>941</th>\n",
       "      <td>Chronic myelomonocytic leukemia (CMML) is a my...</td>\n",
       "      <td>PDGFRB</td>\n",
       "      <td>ATF7IP-PDGFRB Fusion</td>\n",
       "      <td>2</td>\n",
       "      <td>116</td>\n",
       "    </tr>\n",
       "    <tr>\n",
       "      <th>3512</th>\n",
       "      <td>Hereditary nonpolyposis colon cancer (HN-PCC) ...</td>\n",
       "      <td>MSH2</td>\n",
       "      <td>R621*</td>\n",
       "      <td>4</td>\n",
       "      <td>134</td>\n",
       "    </tr>\n",
       "  </tbody>\n",
       "</table>\n",
       "</div>"
      ],
      "text/plain": [
       "                                                   Text    Gene  \\\n",
       "1613  The case of a 40-year-old woman with severe ed...     VHL   \n",
       "648   The p16 gene is located in chromosome 9p21, a ...  CDKN2A   \n",
       "1583  HEREDITARY nonpolyposis colorectal cancer (HNP...    PMS1   \n",
       "941   Chronic myelomonocytic leukemia (CMML) is a my...  PDGFRB   \n",
       "3512  Hereditary nonpolyposis colon cancer (HN-PCC) ...    MSH2   \n",
       "\n",
       "                 Variation  Class  Text_count  \n",
       "1613                 L158Q      4          53  \n",
       "648                   Q50*      4         103  \n",
       "1583                 Q233*      4         114  \n",
       "941   ATF7IP-PDGFRB Fusion      2         116  \n",
       "3512                 R621*      4         134  "
      ]
     },
     "execution_count": 10,
     "metadata": {},
     "output_type": "execute_result"
    }
   ],
   "source": [
    "# create a text count column\n",
    "\n",
    "train_df['Text_count']  = train_df[\"Text\"].apply(lambda x: len(x.split()))\n",
    "# maybe text count is useful\n",
    "\n",
    "new_df = train_df.sort_values(by='Text_count',ascending = True)\n",
    "new_df.head(5)\n",
    "# the text count seems fine"
   ]
  },
  {
   "cell_type": "code",
   "execution_count": 11,
   "metadata": {},
   "outputs": [
    {
     "name": "stdout",
     "output_type": "stream",
     "text": [
      "   Class    Text_count\n",
      "0      1   9624.943939\n",
      "1      2   9142.855131\n",
      "2      3   6713.802083\n",
      "3      4   8974.249333\n",
      "4      5   7520.655431\n",
      "5      6   7186.749153\n",
      "6      7  11575.486230\n",
      "7      8  12273.380952\n",
      "8      9  12477.720930\n"
     ]
    },
    {
     "data": {
      "text/plain": [
       "<matplotlib.axes._subplots.AxesSubplot at 0x22cee045898>"
      ]
     },
     "execution_count": 11,
     "metadata": {},
     "output_type": "execute_result"
    },
    {
     "data": {
      "image/png": "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\n",
      "text/plain": [
       "<Figure size 864x432 with 1 Axes>"
      ]
     },
     "metadata": {
      "needs_background": "light"
     },
     "output_type": "display_data"
    }
   ],
   "source": [
    "# check the average average word count per class\n",
    "train_df_text = train_df[['Class','Text_count']].groupby('Class').agg(np.mean).reset_index()\n",
    "print(train_df_text)\n",
    "\n",
    "# plot the word counts per class\n",
    "textcount_df = train_df.copy()\n",
    "textcount_df.drop(['Text','Gene','Variation'], axis=1, inplace=True)\n",
    "textcount_df.boxplot(by='Class',figsize=(12,6))\n",
    "\n",
    "#text count may help to differentiate the classes with lower text vs those with higher text count"
   ]
  },
  {
   "cell_type": "markdown",
   "metadata": {},
   "source": [
    "Summary of the EDA:\n",
    "\n",
    "- Genes can be useful to differentiate the Classes when their top genes are not the same. However, some classes such as 5 and 6 have similar top genes, so other features will be needed differentiate them.\n",
    "\n",
    "- Variation is almost different for every row in the train dataset (3305 unique values out of 3688 rows), so probably not useful to differentiate the classes.\n",
    "\n",
    "- Therefore, text features will likely to help with the classification of the cell class. "
   ]
  },
  {
   "cell_type": "markdown",
   "metadata": {},
   "source": [
    "# Part 2-The approach for the problem\n",
    "1) 'Gene', 'Variation' columns: give dummy variables\n",
    "\n",
    "2) 'Text' column: TfidfVectorizer\n",
    "\n",
    "3) Train test split: test size = 0.2 , stratify = y\n",
    "\n",
    "4) Resampling: SMOTE\n",
    "\n",
    "5) Model\n",
    "\n",
    "6) Evaluation"
   ]
  },
  {
   "cell_type": "code",
   "execution_count": 12,
   "metadata": {},
   "outputs": [
    {
     "name": "stdout",
     "output_type": "stream",
     "text": [
      "(4668, 5)\n"
     ]
    },
    {
     "data": {
      "text/html": [
       "<div>\n",
       "<style scoped>\n",
       "    .dataframe tbody tr th:only-of-type {\n",
       "        vertical-align: middle;\n",
       "    }\n",
       "\n",
       "    .dataframe tbody tr th {\n",
       "        vertical-align: top;\n",
       "    }\n",
       "\n",
       "    .dataframe thead th {\n",
       "        text-align: right;\n",
       "    }\n",
       "</style>\n",
       "<table border=\"1\" class=\"dataframe\">\n",
       "  <thead>\n",
       "    <tr style=\"text-align: right;\">\n",
       "      <th></th>\n",
       "      <th>Class</th>\n",
       "      <th>Gene</th>\n",
       "      <th>Text</th>\n",
       "      <th>Text_count</th>\n",
       "      <th>Variation</th>\n",
       "    </tr>\n",
       "  </thead>\n",
       "  <tbody>\n",
       "    <tr>\n",
       "      <th>0</th>\n",
       "      <td>1.0</td>\n",
       "      <td>FAM58A</td>\n",
       "      <td>Cyclin-dependent kinases (CDKs) regulate a var...</td>\n",
       "      <td>6089</td>\n",
       "      <td>Truncating Mutations</td>\n",
       "    </tr>\n",
       "    <tr>\n",
       "      <th>1</th>\n",
       "      <td>2.0</td>\n",
       "      <td>CBL</td>\n",
       "      <td>Abstract Background  Non-small cell lung canc...</td>\n",
       "      <td>5722</td>\n",
       "      <td>W802*</td>\n",
       "    </tr>\n",
       "  </tbody>\n",
       "</table>\n",
       "</div>"
      ],
      "text/plain": [
       "   Class    Gene                                               Text  \\\n",
       "0    1.0  FAM58A  Cyclin-dependent kinases (CDKs) regulate a var...   \n",
       "1    2.0     CBL   Abstract Background  Non-small cell lung canc...   \n",
       "\n",
       "   Text_count             Variation  \n",
       "0        6089  Truncating Mutations  \n",
       "1        5722                 W802*  "
      ]
     },
     "execution_count": 12,
     "metadata": {},
     "output_type": "execute_result"
    }
   ],
   "source": [
    "# create text count column for test_df\n",
    "test_df['Text_count']  = test_df['Text'].apply(lambda x: len(x.split()))\n",
    "\n",
    "# To make sure the features are the same for modelling and prediction\n",
    "df_new = pd.concat([train_df, test_df]).reset_index(drop=True)\n",
    "print(df_new.shape)\n",
    "df_new.head(2)"
   ]
  },
  {
   "cell_type": "markdown",
   "metadata": {},
   "source": [
    "### 1) 'Gene', 'Variation' columns: give dummy variables"
   ]
  },
  {
   "cell_type": "code",
   "execution_count": 13,
   "metadata": {},
   "outputs": [
    {
     "name": "stdout",
     "output_type": "stream",
     "text": [
      "(4668, 4318)\n"
     ]
    },
    {
     "data": {
      "text/html": [
       "<div>\n",
       "<style scoped>\n",
       "    .dataframe tbody tr th:only-of-type {\n",
       "        vertical-align: middle;\n",
       "    }\n",
       "\n",
       "    .dataframe tbody tr th {\n",
       "        vertical-align: top;\n",
       "    }\n",
       "\n",
       "    .dataframe thead th {\n",
       "        text-align: right;\n",
       "    }\n",
       "</style>\n",
       "<table border=\"1\" class=\"dataframe\">\n",
       "  <thead>\n",
       "    <tr style=\"text-align: right;\">\n",
       "      <th></th>\n",
       "      <th>Class</th>\n",
       "      <th>Text</th>\n",
       "      <th>Text_count</th>\n",
       "      <th>Gene_ABCC6</th>\n",
       "      <th>Gene_ABL1</th>\n",
       "      <th>Gene_ACVR1</th>\n",
       "      <th>Gene_ADAMTS13</th>\n",
       "      <th>Gene_ADGRG1</th>\n",
       "      <th>Gene_AGO2</th>\n",
       "      <th>Gene_AGXT</th>\n",
       "      <th>...</th>\n",
       "      <th>Variation_YAP1-TFE3 Fusion</th>\n",
       "      <th>Variation_YWHAE-ROS1 Fusion</th>\n",
       "      <th>Variation_ZC3H7B-BCOR Fusion</th>\n",
       "      <th>Variation_ZNF198-FGFR1 Fusion</th>\n",
       "      <th>Variation_null1313Y</th>\n",
       "      <th>Variation_null189Y</th>\n",
       "      <th>Variation_null262Q</th>\n",
       "      <th>Variation_null267R</th>\n",
       "      <th>Variation_null399R</th>\n",
       "      <th>Variation_p61BRAF</th>\n",
       "    </tr>\n",
       "  </thead>\n",
       "  <tbody>\n",
       "    <tr>\n",
       "      <th>0</th>\n",
       "      <td>1.0</td>\n",
       "      <td>Cyclin-dependent kinases (CDKs) regulate a var...</td>\n",
       "      <td>6089</td>\n",
       "      <td>0</td>\n",
       "      <td>0</td>\n",
       "      <td>0</td>\n",
       "      <td>0</td>\n",
       "      <td>0</td>\n",
       "      <td>0</td>\n",
       "      <td>0</td>\n",
       "      <td>...</td>\n",
       "      <td>0</td>\n",
       "      <td>0</td>\n",
       "      <td>0</td>\n",
       "      <td>0</td>\n",
       "      <td>0</td>\n",
       "      <td>0</td>\n",
       "      <td>0</td>\n",
       "      <td>0</td>\n",
       "      <td>0</td>\n",
       "      <td>0</td>\n",
       "    </tr>\n",
       "    <tr>\n",
       "      <th>1</th>\n",
       "      <td>2.0</td>\n",
       "      <td>Abstract Background  Non-small cell lung canc...</td>\n",
       "      <td>5722</td>\n",
       "      <td>0</td>\n",
       "      <td>0</td>\n",
       "      <td>0</td>\n",
       "      <td>0</td>\n",
       "      <td>0</td>\n",
       "      <td>0</td>\n",
       "      <td>0</td>\n",
       "      <td>...</td>\n",
       "      <td>0</td>\n",
       "      <td>0</td>\n",
       "      <td>0</td>\n",
       "      <td>0</td>\n",
       "      <td>0</td>\n",
       "      <td>0</td>\n",
       "      <td>0</td>\n",
       "      <td>0</td>\n",
       "      <td>0</td>\n",
       "      <td>0</td>\n",
       "    </tr>\n",
       "  </tbody>\n",
       "</table>\n",
       "<p>2 rows × 4318 columns</p>\n",
       "</div>"
      ],
      "text/plain": [
       "   Class                                               Text  Text_count  \\\n",
       "0    1.0  Cyclin-dependent kinases (CDKs) regulate a var...        6089   \n",
       "1    2.0   Abstract Background  Non-small cell lung canc...        5722   \n",
       "\n",
       "   Gene_ABCC6  Gene_ABL1  Gene_ACVR1  Gene_ADAMTS13  Gene_ADGRG1  Gene_AGO2  \\\n",
       "0           0          0           0              0            0          0   \n",
       "1           0          0           0              0            0          0   \n",
       "\n",
       "   Gene_AGXT  ...  Variation_YAP1-TFE3 Fusion  Variation_YWHAE-ROS1 Fusion  \\\n",
       "0          0  ...                           0                            0   \n",
       "1          0  ...                           0                            0   \n",
       "\n",
       "   Variation_ZC3H7B-BCOR Fusion  Variation_ZNF198-FGFR1 Fusion  \\\n",
       "0                             0                              0   \n",
       "1                             0                              0   \n",
       "\n",
       "   Variation_null1313Y  Variation_null189Y  Variation_null262Q  \\\n",
       "0                    0                   0                   0   \n",
       "1                    0                   0                   0   \n",
       "\n",
       "   Variation_null267R  Variation_null399R  Variation_p61BRAF  \n",
       "0                   0                   0                  0  \n",
       "1                   0                   0                  0  \n",
       "\n",
       "[2 rows x 4318 columns]"
      ]
     },
     "execution_count": 13,
     "metadata": {},
     "output_type": "execute_result"
    }
   ],
   "source": [
    "# create dummies for 'Gene' and 'Variation'\n",
    "dummies = pd.get_dummies(df_new[['Gene','Variation']], drop_first = True) \n",
    "\n",
    "df_new = df_new.merge(dummies, left_index = True, right_index = True,how = 'outer')\n",
    "df_new = df_new.drop([ 'Gene', 'Variation'], axis = 1)\n",
    "\n",
    "print(df_new.shape)\n",
    "df_new.head(2)"
   ]
  },
  {
   "cell_type": "markdown",
   "metadata": {},
   "source": [
    "### 2) 'Text' column: TfidfVectorizer"
   ]
  },
  {
   "cell_type": "code",
   "execution_count": 14,
   "metadata": {},
   "outputs": [
    {
     "name": "stdout",
     "output_type": "stream",
     "text": [
      "(4668, 4318)\n"
     ]
    },
    {
     "data": {
      "text/html": [
       "<div>\n",
       "<style scoped>\n",
       "    .dataframe tbody tr th:only-of-type {\n",
       "        vertical-align: middle;\n",
       "    }\n",
       "\n",
       "    .dataframe tbody tr th {\n",
       "        vertical-align: top;\n",
       "    }\n",
       "\n",
       "    .dataframe thead th {\n",
       "        text-align: right;\n",
       "    }\n",
       "</style>\n",
       "<table border=\"1\" class=\"dataframe\">\n",
       "  <thead>\n",
       "    <tr style=\"text-align: right;\">\n",
       "      <th></th>\n",
       "      <th>Class</th>\n",
       "      <th>Text_count</th>\n",
       "      <th>Gene_ABCC6</th>\n",
       "      <th>Gene_ABL1</th>\n",
       "      <th>Gene_ACVR1</th>\n",
       "      <th>Gene_ADAMTS13</th>\n",
       "      <th>Gene_ADGRG1</th>\n",
       "      <th>Gene_AGO2</th>\n",
       "      <th>Gene_AGXT</th>\n",
       "      <th>Gene_AKAP9</th>\n",
       "      <th>...</th>\n",
       "      <th>Variation_YWHAE-ROS1 Fusion</th>\n",
       "      <th>Variation_ZC3H7B-BCOR Fusion</th>\n",
       "      <th>Variation_ZNF198-FGFR1 Fusion</th>\n",
       "      <th>Variation_null1313Y</th>\n",
       "      <th>Variation_null189Y</th>\n",
       "      <th>Variation_null262Q</th>\n",
       "      <th>Variation_null267R</th>\n",
       "      <th>Variation_null399R</th>\n",
       "      <th>Variation_p61BRAF</th>\n",
       "      <th>clean_text</th>\n",
       "    </tr>\n",
       "  </thead>\n",
       "  <tbody>\n",
       "    <tr>\n",
       "      <th>0</th>\n",
       "      <td>1.0</td>\n",
       "      <td>6089</td>\n",
       "      <td>0</td>\n",
       "      <td>0</td>\n",
       "      <td>0</td>\n",
       "      <td>0</td>\n",
       "      <td>0</td>\n",
       "      <td>0</td>\n",
       "      <td>0</td>\n",
       "      <td>0</td>\n",
       "      <td>...</td>\n",
       "      <td>0</td>\n",
       "      <td>0</td>\n",
       "      <td>0</td>\n",
       "      <td>0</td>\n",
       "      <td>0</td>\n",
       "      <td>0</td>\n",
       "      <td>0</td>\n",
       "      <td>0</td>\n",
       "      <td>0</td>\n",
       "      <td>cyclin-dependent kinases cdks regulate variety...</td>\n",
       "    </tr>\n",
       "    <tr>\n",
       "      <th>1</th>\n",
       "      <td>2.0</td>\n",
       "      <td>5722</td>\n",
       "      <td>0</td>\n",
       "      <td>0</td>\n",
       "      <td>0</td>\n",
       "      <td>0</td>\n",
       "      <td>0</td>\n",
       "      <td>0</td>\n",
       "      <td>0</td>\n",
       "      <td>0</td>\n",
       "      <td>...</td>\n",
       "      <td>0</td>\n",
       "      <td>0</td>\n",
       "      <td>0</td>\n",
       "      <td>0</td>\n",
       "      <td>0</td>\n",
       "      <td>0</td>\n",
       "      <td>0</td>\n",
       "      <td>0</td>\n",
       "      <td>0</td>\n",
       "      <td>abstract background non-small cell lung cancer...</td>\n",
       "    </tr>\n",
       "  </tbody>\n",
       "</table>\n",
       "<p>2 rows × 4318 columns</p>\n",
       "</div>"
      ],
      "text/plain": [
       "   Class  Text_count  Gene_ABCC6  Gene_ABL1  Gene_ACVR1  Gene_ADAMTS13  \\\n",
       "0    1.0        6089           0          0           0              0   \n",
       "1    2.0        5722           0          0           0              0   \n",
       "\n",
       "   Gene_ADGRG1  Gene_AGO2  Gene_AGXT  Gene_AKAP9  ...  \\\n",
       "0            0          0          0           0  ...   \n",
       "1            0          0          0           0  ...   \n",
       "\n",
       "   Variation_YWHAE-ROS1 Fusion  Variation_ZC3H7B-BCOR Fusion  \\\n",
       "0                            0                             0   \n",
       "1                            0                             0   \n",
       "\n",
       "   Variation_ZNF198-FGFR1 Fusion  Variation_null1313Y  Variation_null189Y  \\\n",
       "0                              0                    0                   0   \n",
       "1                              0                    0                   0   \n",
       "\n",
       "   Variation_null262Q  Variation_null267R  Variation_null399R  \\\n",
       "0                   0                   0                   0   \n",
       "1                   0                   0                   0   \n",
       "\n",
       "   Variation_p61BRAF                                         clean_text  \n",
       "0                  0  cyclin-dependent kinases cdks regulate variety...  \n",
       "1                  0  abstract background non-small cell lung cancer...  \n",
       "\n",
       "[2 rows x 4318 columns]"
      ]
     },
     "execution_count": 14,
     "metadata": {},
     "output_type": "execute_result"
    }
   ],
   "source": [
    "# Do some cleaning 'text' column and manually define some stop words \n",
    "def textClean(text):\n",
    "    text = re.sub(r\"[^A-Za-z0-9^,!.\\/'+-=]\", \" \", text)\n",
    "    text = text.lower().split()\n",
    "    stops = {'so', 'his', 't', 'y', 'ours', 'herself', \n",
    "             'your', 'all', 'some', 'they', 'i', 'of', 'didn', \n",
    "             'them', 'when', 'will', 'that', 'its', 'because', \n",
    "             'while', 'those', 'my', 'don', 'again', 'her', 'if',\n",
    "             'further', 'now', 'does', 'against', 'won', 'same', \n",
    "             'a', 'during', 'who', 'here', 'have', 'in', 'being', \n",
    "             'it', 'other', 'once', 'itself', 'hers', 'after', 're',\n",
    "             'just', 'their', 'himself', 'theirs', 'whom', 'then', 'd', \n",
    "             'out', 'm', 'mustn', 'where', 'below', 'about', 'isn',\n",
    "             'shouldn', 'wouldn', 'these', 'me', 'to', 'doesn', 'into',\n",
    "             'the', 'until', 'she', 'am', 'under', 'how', 'yourself',\n",
    "             'couldn', 'ma', 'up', 'than', 'from', 'themselves', 'yourselves',\n",
    "             'off', 'above', 'yours', 'having', 'mightn', 'needn', 'on', \n",
    "             'too', 'there', 'an', 'and', 'down', 'ourselves', 'each',\n",
    "             'hadn', 'ain', 'such', 've', 'did', 'be', 'or', 'aren', 'he', \n",
    "             'should', 'for', 'both', 'doing', 'this', 'through', 'do', 'had',\n",
    "             'own', 'but', 'were', 'over', 'not', 'are', 'few', 'by', \n",
    "             'been', 'most', 'no', 'as', 'was', 'what', 's', 'is', 'you', \n",
    "             'shan', 'between', 'wasn', 'has', 'more', 'him', 'nor',\n",
    "             'can', 'why', 'any', 'at', 'myself', 'very', 'with', 'we', \n",
    "             'which', 'hasn', 'weren', 'haven', 'our', 'll', 'only',\n",
    "             'o', 'before'}\n",
    "\n",
    "    text = [word for word in text if not word in stops]    \n",
    "    text = \" \".join(text)\n",
    "    text = text.replace(\".\",\" \").replace(\",\",\" \")\n",
    "    return(text)\n",
    "\n",
    "import re\n",
    "cleanText = []\n",
    "for words in df_new['Text']:\n",
    "    newtext = textClean(words)\n",
    "    cleanText.append(newtext)\n",
    "    \n",
    "df_new['clean_text']=cleanText\n",
    "\n",
    "df_new.drop(['Text'], axis=1, inplace=True)\n",
    "print(df_new.shape)\n",
    "df_new.head(2)"
   ]
  },
  {
   "cell_type": "code",
   "execution_count": 15,
   "metadata": {},
   "outputs": [
    {
     "name": "stdout",
     "output_type": "stream",
     "text": [
      "    00       000  0001       001        01   05        10     10 11       100  \\\n",
      "0  0.0  0.057077   0.0  0.011073  0.004964  0.0  0.050307  0.005149  0.006218   \n",
      "1  0.0  0.009315   0.0  0.006325  0.000000  0.0  0.025711  0.002941  0.014208   \n",
      "\n",
      "   104  ...  wild type p53  wnt     women      work        wt  www        xl  \\\n",
      "0  0.0  ...            0.0  0.0  0.000000  0.008713  0.042417  0.0  0.000000   \n",
      "1  0.0  ...            0.0  0.0  0.006936  0.000000  0.013216  0.0  0.004315   \n",
      "\n",
      "       year     years     yeast  \n",
      "0  0.000000  0.000000  0.024217  \n",
      "1  0.006173  0.002465  0.000000  \n",
      "\n",
      "[2 rows x 2000 columns]\n"
     ]
    },
    {
     "data": {
      "text/plain": [
       "<matplotlib.axes._subplots.AxesSubplot at 0x22ccbb4ae48>"
      ]
     },
     "execution_count": 15,
     "metadata": {},
     "output_type": "execute_result"
    },
    {
     "data": {
      "image/png": "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\n",
      "text/plain": [
       "<Figure size 432x288 with 1 Axes>"
      ]
     },
     "metadata": {
      "needs_background": "light"
     },
     "output_type": "display_data"
    }
   ],
   "source": [
    "# TfidfVectorizer for the cleaned text\n",
    "from sklearn.feature_extraction.text import CountVectorizer, TfidfVectorizer\n",
    "from sklearn.feature_extraction import stop_words\n",
    "\n",
    "TfidfV=TfidfVectorizer(stop_words='english',min_df=2,ngram_range=(1,3),max_features=2000,)\n",
    "X_text=TfidfV.fit_transform(df_new['clean_text'])\n",
    "\n",
    "X_df=pd.DataFrame(X_text.todense(),columns=TfidfV.get_feature_names())\n",
    "print(X_df.head(2))\n",
    "\n",
    "pd.DataFrame(X_text.todense(),columns=TfidfV.get_feature_names()).apply(sum).sort_values(ascending=False).head(20).plot.bar()\n",
    "\n",
    "# some of the NLP features do not seems useful"
   ]
  },
  {
   "cell_type": "markdown",
   "metadata": {},
   "source": [
    "### 3) Train test split: test size = 0.2 , stratify = y"
   ]
  },
  {
   "cell_type": "code",
   "execution_count": 16,
   "metadata": {},
   "outputs": [
    {
     "name": "stdout",
     "output_type": "stream",
     "text": [
      "(4668, 6316)\n",
      "   Text_count  Gene_ABCC6  Gene_ABL1  Gene_ACVR1  Gene_ADAMTS13  Gene_ADGRG1  \\\n",
      "0        6089           0          0           0              0            0   \n",
      "1        5722           0          0           0              0            0   \n",
      "\n",
      "   Gene_AGO2  Gene_AGXT  Gene_AKAP9  Gene_AKT1  ...  wild type p53  wnt  \\\n",
      "0          0          0           0          0  ...            0.0  0.0   \n",
      "1          0          0           0          0  ...            0.0  0.0   \n",
      "\n",
      "      women      work        wt  www        xl      year     years     yeast  \n",
      "0  0.000000  0.008713  0.042417  0.0  0.000000  0.000000  0.000000  0.024217  \n",
      "1  0.006936  0.000000  0.013216  0.0  0.004315  0.006173  0.002465  0.000000  \n",
      "\n",
      "[2 rows x 6316 columns]\n",
      "(4668,)\n",
      "0    1.0\n",
      "1    2.0\n",
      "Name: Class, dtype: float64\n"
     ]
    }
   ],
   "source": [
    "# set up X and y dataset\n",
    "all_features = pd.concat([df_new,X_df], axis=1, sort=False)\n",
    "y=all_features['Class']\n",
    "X = all_features.drop(['Class','clean_text'], axis = 1)\n",
    "\n",
    "print(X.shape)\n",
    "print(X.head(2))\n",
    "print(y.shape)\n",
    "print(y.head(2))"
   ]
  },
  {
   "cell_type": "code",
   "execution_count": 17,
   "metadata": {},
   "outputs": [
    {
     "name": "stdout",
     "output_type": "stream",
     "text": [
      "(3682,)\n",
      "3680    4.0\n",
      "3681    4.0\n",
      "Name: Class, dtype: float64\n",
      "(986,)\n",
      "3682   NaN\n",
      "3683   NaN\n",
      "Name: Class, dtype: float64\n",
      "(3682, 6316)\n",
      "      Text_count  Gene_ABCC6  Gene_ABL1  Gene_ACVR1  Gene_ADAMTS13  \\\n",
      "3677        6749           0          0           0              0   \n",
      "3678        5284           0          0           0              0   \n",
      "3679        3373           0          0           0              0   \n",
      "3680        6068           0          0           0              0   \n",
      "3681       17983           0          0           0              0   \n",
      "\n",
      "      Gene_ADGRG1  Gene_AGO2  Gene_AGXT  Gene_AKAP9  Gene_AKT1  ...  \\\n",
      "3677            0          0          0           0          0  ...   \n",
      "3678            0          0          0           0          0  ...   \n",
      "3679            0          0          0           0          0  ...   \n",
      "3680            0          0          0           0          0  ...   \n",
      "3681            0          0          0           0          0  ...   \n",
      "\n",
      "      wild type p53  wnt  women      work        wt       www        xl  \\\n",
      "3677            0.0  0.0    0.0  0.000000  0.000000  0.002088  0.000000   \n",
      "3678            0.0  0.0    0.0  0.000000  0.000000  0.050381  0.008935   \n",
      "3679            0.0  0.0    0.0  0.005331  0.000000  0.011582  0.000000   \n",
      "3680            0.0  0.0    0.0  0.013469  0.080471  0.000000  0.000000   \n",
      "3681            0.0  0.0    0.0  0.002397  0.035013  0.011721  0.000000   \n",
      "\n",
      "          year     years     yeast  \n",
      "3677  0.000000  0.000000  0.000000  \n",
      "3678  0.000000  0.035727  0.000000  \n",
      "3679  0.000000  0.021120  0.000000  \n",
      "3680  0.004176  0.000000  0.000000  \n",
      "3681  0.001487  0.000000  0.014993  \n",
      "\n",
      "[5 rows x 6316 columns]\n",
      "(986, 6316)\n",
      "      Text_count  Gene_ABCC6  Gene_ABL1  Gene_ACVR1  Gene_ADAMTS13  \\\n",
      "3682        4965           0          0           0              0   \n",
      "3683       10245           0          0           0              0   \n",
      "3684        8549           0          0           0              0   \n",
      "3685        6169           0          0           0              0   \n",
      "3686        3262           0          0           0              0   \n",
      "\n",
      "      Gene_ADGRG1  Gene_AGO2  Gene_AGXT  Gene_AKAP9  Gene_AKT1  ...  \\\n",
      "3682            0          0          0           0          0  ...   \n",
      "3683            0          0          0           0          0  ...   \n",
      "3684            0          0          0           0          0  ...   \n",
      "3685            0          0          0           0          0  ...   \n",
      "3686            0          0          0           0          0  ...   \n",
      "\n",
      "      wild type p53       wnt     women      work       wt       www  \\\n",
      "3682            0.0  0.000000  0.165226  0.000000  0.00000  0.000000   \n",
      "3683            0.0  0.493052  0.000000  0.000000  0.00000  0.005463   \n",
      "3684            0.0  0.000000  0.015619  0.000000  0.01488  0.000000   \n",
      "3685            0.0  0.012175  0.000000  0.003073  0.00000  0.000000   \n",
      "3686            0.0  0.000000  0.000000  0.007780  0.00000  0.000000   \n",
      "\n",
      "            xl      year     years     yeast  \n",
      "3682  0.000000  0.023526  0.042276  0.000000  \n",
      "3683  0.000000  0.000000  0.007471  0.000000  \n",
      "3684  0.009717  0.000000  0.027754  0.007788  \n",
      "3685  0.000000  0.003811  0.006088  0.000000  \n",
      "3686  0.000000  0.009649  0.007706  0.000000  \n",
      "\n",
      "[5 rows x 6316 columns]\n"
     ]
    }
   ],
   "source": [
    "# split up the original train and test dataset\n",
    "y_train_df=y.loc[:(train_df.shape[0]-1), ] \n",
    "print(y_train_df.shape)\n",
    "print(y_train_df.tail(2))\n",
    "\n",
    "y_test_df=y.loc[train_df.shape[0]:, ] \n",
    "print(y_test_df.shape)\n",
    "print(y_test_df.head(2)) # no class values in original test set\n",
    "\n",
    "X_train_df=X.loc[:(train_df.shape[0]-1),: ] \n",
    "print(X_train_df.shape)\n",
    "print(X_train_df.tail())\n",
    "\n",
    "X_test_df=X.loc[train_df.shape[0]:,: ] \n",
    "print(X_test_df.shape)\n",
    "print(X_test_df.head())"
   ]
  },
  {
   "cell_type": "code",
   "execution_count": 18,
   "metadata": {},
   "outputs": [],
   "source": [
    "from sklearn.model_selection import train_test_split\n",
    "\n",
    "#Train test split to create a holdout set for testing at the end\n",
    "X_train, X_test, y_train, y_test = train_test_split(X_train_df, y_train_df, test_size=0.20, stratify =y_train_df)"
   ]
  },
  {
   "cell_type": "code",
   "execution_count": 19,
   "metadata": {},
   "outputs": [
    {
     "name": "stdout",
     "output_type": "stream",
     "text": [
      "7.0    842\n",
      "4.0    600\n",
      "1.0    528\n",
      "2.0    397\n",
      "6.0    236\n",
      "5.0    214\n",
      "3.0     77\n",
      "9.0     34\n",
      "8.0     17\n",
      "dtype: int64\n"
     ]
    },
    {
     "data": {
      "text/plain": [
       "<matplotlib.axes._subplots.AxesSubplot at 0x22cc98c2198>"
      ]
     },
     "execution_count": 19,
     "metadata": {},
     "output_type": "execute_result"
    },
    {
     "data": {
      "image/png": "iVBORw0KGgoAAAANSUhEUgAAAXoAAAECCAYAAADw0Rw8AAAABHNCSVQICAgIfAhkiAAAAAlwSFlzAAALEgAACxIB0t1+/AAAADl0RVh0U29mdHdhcmUAbWF0cGxvdGxpYiB2ZXJzaW9uIDMuMC4yLCBodHRwOi8vbWF0cGxvdGxpYi5vcmcvOIA7rQAAFQBJREFUeJzt3X+QXedd3/H3N1JsYiex/GMtjH6whoiQtB0LszgCMxCiFCw7RG4nah06WHiUbhgMCaRTELQzGWaAURgGY8+0LpooQabBiePGI4FNiJFjOrTI8cpWbCc2aOMIaZEibbAsk4gQlHz7x3m2vqzX2rPS3T13H96vmTv3nOc899zvnnv3s2efe849kZlIkur1iq4LkCTNL4Nekipn0EtS5Qx6SaqcQS9JlTPoJalyBr0kVc6gl6TKGfSSVLmlXRcAcNlll+Xw8HDXZUjSorJv374vZ+bQbP0GIuiHh4cZGxvrugxJWlQi4q/b9HPoRpIqZ9BLUuUMekmqnEEvSZUz6CWpcga9JFXOoJekyhn0klQ5g16SKjcQZ8a2Mbz1/r6t6+C2G/q2LkkadO7RS1LlDHpJqpxBL0mVM+glqXIGvSRVrlXQR8QvRMTnIuKpiLg7Ir4lIq6MiEci4kBEfCwizit9zy/z42X58Hz+AJKkM5s16CNiBfAeYCQz/yWwBLgJ+ABwW2auAU4AW8pDtgAnMvN1wG2lnySpI22HbpYCr4qIpcAFwFHgLcC9ZflO4MYyvbHMU5avj4joT7mSpLmaNegz82+A3wIO0QT8SWAf8Hxmni7dJoAVZXoFcLg89nTpf2l/y5YktdVm6OZimr30K4FvAy4ENszQNacecoZlvesdjYixiBibnJxsX7EkaU7aDN28FfhiZk5m5j8CnwB+AFhWhnIAVgJHyvQEsAqgLL8IeG76SjNze2aOZObI0NCsFzGXJJ2lNkF/CFgXEReUsfb1wOeBTwPvKH02A7vK9O4yT1n+UGa+ZI9ekrQw2ozRP0LzoepjwJPlMduBXwLeFxHjNGPwO8pDdgCXlvb3AVvnoW5JUkutvr0yM98PvH9a87PANTP0/Rqw6dxLkyT1g2fGSlLlDHpJqpxBL0mVM+glqXIGvSRVzqCXpMoZ9JJUOYNekipn0EtS5Qx6SaqcQS9JlTPoJalyBr0kVc6gl6TKGfSSVDmDXpIq1+bi4K+PiP09txci4ucj4pKIeDAiDpT7i0v/iIg7ImI8Ip6IiKvn/8eQJL2cNpcS/MvMXJuZa4HvBU4B99FcInBPZq4B9vDiJQM3AGvKbRS4cz4KlyS1M9ehm/XAFzLzr4GNwM7SvhO4sUxvBO7Kxl5gWURc0ZdqJUlzNtegvwm4u0wvz8yjAOX+8tK+Ajjc85iJ0iZJ6kDroI+I84C3Ax+fresMbTnD+kYjYiwixiYnJ9uWIUmao7ns0W8AHsvMY2X+2NSQTLk/XtongFU9j1sJHJm+sszcnpkjmTkyNDQ098olSa3MJejfyYvDNgC7gc1lejOwq6f95nL0zTrg5NQQjyRp4S1t0ykiLgD+NfDunuZtwD0RsQU4BGwq7Q8A1wPjNEfo3NK3aiVJc9Yq6DPzFHDptLa/pTkKZ3rfBG7tS3WSpHPmmbGSVDmDXpIqZ9BLUuUMekmqnEEvSZUz6CWpcga9JFXOoJekyhn0klQ5g16SKmfQS1LlDHpJqpxBL0mVM+glqXIGvSRVzqCXpMq1CvqIWBYR90bEMxHxdER8f0RcEhEPRsSBcn9x6RsRcUdEjEfEExFx9fz+CJKkM2m7R3878MnM/G7gKuBpYCuwJzPXAHvKPDQXEV9TbqPAnX2tWJI0J7MGfUS8FvghYAdAZn49M58HNgI7S7edwI1leiNwVzb2Assi4oq+Vy5JaqXNNWO/A5gEPhwRVwH7gPcCyzPzKEBmHo2Iy0v/FcDhnsdPlLajvSuNiFGaPX5Wr159Lj9Dp4a33t+X9RzcdkNf1iNJ07UZulkKXA3cmZnfA3yVF4dpZhIztOVLGjK3Z+ZIZo4MDQ21KlaSNHdtgn4CmMjMR8r8vTTBf2xqSKbcH+/pv6rn8SuBI/0pV5I0V7MGfWZ+CTgcEa8vTeuBzwO7gc2lbTOwq0zvBm4uR9+sA05ODfFIkhZemzF6gJ8DPhIR5wHPArfQ/JG4JyK2AIeATaXvA8D1wDhwqvSVJHWkVdBn5n5gZIZF62fom8Ct51iXJKlPPDNWkipn0EtS5Qx6SaqcQS9JlTPoJalyBr0kVc6gl6TKGfSSVDmDXpIqZ9BLUuUMekmqnEEvSZVr++2VWkS86pWkXu7RS1LlDHpJqlyroI+IgxHxZETsj4ix0nZJRDwYEQfK/cWlPSLijogYj4gnIuLq+fwBJElnNpc9+h/JzLWZOXUBkq3AnsxcA+zhxQuGbwDWlNsocGe/ipUkzd25DN1sBHaW6Z3AjT3td2VjL7Bs6iLikqSF1zboE/hUROyLiNHStnzqot/l/vLSvgI43PPYidImSepA28Mrr83MIxFxOfBgRDxzhr4xQ1u+pFPzB2MUYPXq1S3LkCTNVas9+sw8Uu6PA/cB1wDHpoZkyv3x0n0CWNXz8JXAkRnWuT0zRzJzZGho6Ox/AknSGc0a9BFxYUS8Zmoa+FHgKWA3sLl02wzsKtO7gZvL0TfrgJNTQzySpIXXZuhmOXBfREz1/4PM/GREPArcExFbgEPAptL/AeB6YBw4BdzS96olSa3NGvSZ+Sxw1Qztfwusn6E9gVv7Up0k6Zx5ZqwkVc6gl6TKGfSSVDmDXpIqZ9BLUuUMekmqnEEvSZUz6CWpcga9JFXOoJekyhn0klQ5g16SKmfQS1LlDHpJqpxBL0mVM+glqXKtgz4ilkTE4xHxR2X+yoh4JCIORMTHIuK80n5+mR8vy4fnp3RJUhtz2aN/L/B0z/wHgNsycw1wAthS2rcAJzLzdcBtpZ8kqSOtgj4iVgI3AB8s8wG8Bbi3dNkJ3FimN5Z5yvL1pb8kqQNt9+h/B/hF4Jtl/lLg+cw8XeYngBVlegVwGKAsP1n6S5I6MOvFwSPibcDxzNwXEW+eap6ha7ZY1rveUWAUYPXq1a2K1eI1vPX+vq3r4LYb+rYu6Z+DNnv01wJvj4iDwEdphmx+B1gWEVN/KFYCR8r0BLAKoCy/CHhu+kozc3tmjmTmyNDQ0Dn9EJKklzdr0GfmL2fmyswcBm4CHsrM/wB8GnhH6bYZ2FWmd5d5yvKHMvMle/SSpIVxLsfR/xLwvogYpxmD31HadwCXlvb3AVvPrURJ0rmYdYy+V2Y+DDxcpp8Frpmhz9eATX2oTZLUB54ZK0mVM+glqXIGvSRVzqCXpMoZ9JJUOYNekipn0EtS5Qx6SaqcQS9JlTPoJalyBr0kVc6gl6TKGfSSVDmDXpIqZ9BLUuVmDfqI+JaI+ExEfDYiPhcRv1rar4yIRyLiQER8LCLOK+3nl/nxsnx4fn8ESdKZtNmj/wfgLZl5FbAWuC4i1gEfAG7LzDXACWBL6b8FOJGZrwNuK/0kSR1pc83YzMyvlNlXllvSXCT83tK+E7ixTG8s85Tl6yMi+laxJGlOWo3RR8SSiNgPHAceBL4APJ+Zp0uXCWBFmV4BHAYoy0/SXFNWktSBVkGfmd/IzLXASprrxL5hpm7lfqa995zeEBGjETEWEWOTk5Nt65UkzdGcjrrJzOdpLg6+DlgWEVMXF18JHCnTE8AqgLL8IuC5Gda1PTNHMnNkaGjo7KqXJM2qzVE3QxGxrEy/Cngr8DTwaeAdpdtmYFeZ3l3mKcsfysyX7NFLkhbG0tm7cAWwMyKW0PxhuCcz/ygiPg98NCJ+DXgc2FH67wB+PyLGafbkb5qHuiVJLc0a9Jn5BPA9M7Q/SzNeP739a8CmvlQnSTpnnhkrSZUz6CWpcga9JFXOoJekyhn0klQ5g16SKmfQS1LlDHpJqpxBL0mVM+glqXIGvSRVrs2XmklVGt56f9/WdXDbDX1bl9Rv7tFLUuUMekmqnEEvSZUz6CWpcrN+GBsRq4C7gG8Fvglsz8zbI+IS4GPAMHAQ+HeZeSIiArgduB44BfxUZj42P+VLdfEDYs2HNnv0p4H/lJlvoLko+K0R8UZgK7AnM9cAe8o8wAZgTbmNAnf2vWpJUmuzBn1mHp3aI8/Mv6O5MPgKYCOws3TbCdxYpjcCd2VjL7AsIq7oe+WSpFbmNEYfEcM01499BFiemUeh+WMAXF66rQAO9zxsorRJkjrQOugj4tXA/wJ+PjNfOFPXGdpyhvWNRsRYRIxNTk62LUOSNEetgj4iXkkT8h/JzE+U5mNTQzLl/nhpnwBW9Tx8JXBk+jozc3tmjmTmyNDQ0NnWL0maxaxBX46i2QE8nZm/3bNoN7C5TG8GdvW03xyNdcDJqSEeSdLCa/NdN9cCPwk8GRH7S9uvANuAeyJiC3AI2FSWPUBzaOU4zeGVt/S1YknSnMwa9Jn558w87g6wfob+Cdx6jnVJkvrEM2MlqXIGvSRVzqCXpMoZ9JJUOYNekipn0EtS5Qx6SaqcQS9JlTPoJalyBr0kVc6gl6TKGfSSVDmDXpIqZ9BLUuUMekmqnEEvSZVrcynBD0XE8Yh4qqftkoh4MCIOlPuLS3tExB0RMR4RT0TE1fNZvCRpdm326H8PuG5a21ZgT2auAfaUeYANwJpyGwXu7E+ZkqSzNWvQZ+b/Bp6b1rwR2FmmdwI39rTflY29wLKIuKJfxUqS5u5sx+iXZ+ZRgHJ/eWlfARzu6TdR2l4iIkYjYiwixiYnJ8+yDEnSbPr9YexMFxHPmTpm5vbMHMnMkaGhoT6XIUmacrZBf2xqSKbcHy/tE8Cqnn4rgSNnX54k6VydbdDvBjaX6c3Arp72m8vRN+uAk1NDPJKkbiydrUNE3A28GbgsIiaA9wPbgHsiYgtwCNhUuj8AXA+MA6eAW+ahZknSHMwa9Jn5zpdZtH6Gvgnceq5FSZL6Z9agl6Thrff3ZT0Ht93Ql/VobvwKBEmqnEEvSZUz6CWpcga9JFXOoJekyhn0klQ5g16SKmfQS1LlDHpJqpxBL0mV8ysQJC1Kfi1De+7RS1LlDHpJqpxBL0mVm5cx+oi4DrgdWAJ8MDO3zcfzSNIg6dfnBtDfzw76vkcfEUuA/wZsAN4IvDMi3tjv55EktTMfQzfXAOOZ+Wxmfh34KLBxHp5HktTCfAT9CuBwz/xEaZMkdSCay7z2cYURm4Afy8x3lfmfBK7JzJ+b1m8UGC2zrwf+sk8lXAZ8uU/r6hdrasea2hvEuqypnX7W9O2ZOTRbp/n4MHYCWNUzvxI4Mr1TZm4Htvf7ySNiLDNH+r3ec2FN7VhTe4NYlzW100VN8zF08yiwJiKujIjzgJuA3fPwPJKkFvq+R5+ZpyPiZ4E/oTm88kOZ+bl+P48kqZ15OY4+Mx8AHpiPdbfQ9+GgPrCmdqypvUGsy5raWfCa+v5hrCRpsPgVCJJUOYNekipn0EtS5Rb9hUciYjnNmbcJHMnMYx2XBEBEXAJkZp7oupZBNoivnzXNzaC91wd1W3W5nRbth7ERsRb4H8BFwN+U5pXA88DPZOZjHdS0GvhNYH2pI4DXAg8BWzPz4ELX1GuQfgEG9PWzpvZ1Ddx7fRC31cBsp8xclDdgP/CmGdrXAZ/tqKa/AP49sKSnbQnNSWN7O9xWa4G9wNPAn5bbM6Xtal8/azqLugbuvT6I22pQttNi3qM/kJlrXmbZeGa+bsBqetll8y0i9gPvzsxHprWvA343M6/qoKbF9vpZ0z997oF7rw/ithqU7bSYx+j/OCLuB+7ixW/LXAXcDHyyo5r2RcR/B3ZOq2kz8HhHNQFcOD3kATJzb0Rc2EVBDObrZ03tDeJ7fRC31UBsp0W7Rw8QERtovut+Bc3Y1wSwO5szc7uo5zxgy7SaDgN/COzIzH/oqK47gO9k5l+AL2bmz3ZU10C9ftY0p5oG9b0+UNtqULbTog56tTdovwCSFk6Vx9GX77ofKBHxti6fPzP/ODN/OjN/PDPfVqYHMuQH9PWzppa6fq/PZBC31UJupyqDnmaPddB8X9cFzGQQfwEYzNfPmtobxPf6IG6rBdtOi3boJiLeA9yXmYdn7dyhiLgrM2/uuo6XExHvzszf7ei5v5tmKOmRzPxKT/t1mbngH55FxJuApzPzhYh4FbAVuBr4PPAbmXlyoWuaLiJ+kOa6zE9l5qc6ruUamhOAHo2INwLXAc90/NnBdwL/huYzqNPAAeDurl67nmtyHMnMP42InwB+gOZQ5+2Z+Y8LUsciDvqTwFeBLwB3Ax/PzMmOa5p+gZUAfoTm5Agy8+0LXtQsIuKWzPxwB8/7HuBWmjf8WuC9mbmrLHssM6/uoKbPAVdlc02F7cAp4F6ak12uysx/20FNn8nMa8r0f6TZZvcBPwr8YWZuW+iaSi3vBzbQHLn3IPAm4GHgrcCfZOavd1DTe4AfB/4MuJ7muPoTNMH/M5n5cAc1fYRmG11Ac8LUq4FP0LynyMyfWpBCujiJoB83mkOTXkHzht8BTNIcQrUZeE1HNT0G/E/gzcAPl/ujZfqHu95mL1PzoY6e90ng1WV6GBijCXuAxzuq6ene13Lasv0d1fR4z/SjwFCZvhB4ssP3zZM0J/5cALwAvLa0vwp4osuayvQFwMNlenWH76knyv1S4FhPfbGQ22kxH0efmflN4FPApyLilTR7GO8EfguY9YK582AEeC/wX4D/nJn7I+LvM/PPOqjl/4uIJ15uEbB8IWvpsSTLcE1mHoyINwP3RsS309146lM9/+F8NiJGMnMsIr4LWJB/sWfwioi4mGanJrL815qZX42I0x3VBHA6M78BnIqIL2TmC6Wuv4+Ib3ZY11LgG8D5wGtKTYdKPnThFWX45kKaPz4XAc+V+haspsUc9P8kDLIZ69oN7C7jqwuu/OG5LSI+Xu6PMRjbeDnwYzT/xvYK4P8ufDkAfCki1mbmfoDM/Eo5CuFDwL/qqKZ3AbdHxH8Fvgz8RUQcpjnu+V0d1XQRsI/mtcqI+NbM/FJEvJpuP2D8ekRckJmngO+daoyIi4Cugv6DwKMRsRf4IeADpaYhmnDtwg6arxtZQrMD+PGIeJbmaxk+ulBFLOYx+u/KzL/quo4ziYgbgGsz81c6rmMH8OHM/PMZlv1BZv5EBzWtpNkr/NIMy67NzP+z0DX1PP9rgO+g+SM9kQPy7Ye9IuICYHlmfrGj5z8/ZzjZJyIuA67IzCc7KIuI+BfAG2g+rH6mixqmi4hvA8jMIxGxjOZzjEOZ+ZkFq2GxBr0kqZ1aj6OXJBUGvSRVzqCXpMoZ9JJUOYNekir3/wDIxG2mcDdCPwAAAABJRU5ErkJggg==\n",
      "text/plain": [
       "<Figure size 432x288 with 1 Axes>"
      ]
     },
     "metadata": {
      "needs_background": "light"
     },
     "output_type": "display_data"
    }
   ],
   "source": [
    "# Take a look at the classes in y_train\n",
    "import matplotlib.pyplot as plt\n",
    "import pandas as pd\n",
    "\n",
    "CountStatus = pd.value_counts(y_train.values, sort=True)\n",
    "print(CountStatus)\n",
    "\n",
    "CountStatus.plot.bar()"
   ]
  },
  {
   "cell_type": "code",
   "execution_count": 20,
   "metadata": {},
   "outputs": [
    {
     "name": "stdout",
     "output_type": "stream",
     "text": [
      "7.0    211\n",
      "4.0    150\n",
      "1.0    132\n",
      "2.0    100\n",
      "6.0     59\n",
      "5.0     53\n",
      "3.0     19\n",
      "9.0      9\n",
      "8.0      4\n",
      "dtype: int64\n"
     ]
    },
    {
     "data": {
      "text/plain": [
       "<matplotlib.axes._subplots.AxesSubplot at 0x22ccd6e2dd8>"
      ]
     },
     "execution_count": 20,
     "metadata": {},
     "output_type": "execute_result"
    },
    {
     "data": {
      "image/png": "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\n",
      "text/plain": [
       "<Figure size 432x288 with 1 Axes>"
      ]
     },
     "metadata": {
      "needs_background": "light"
     },
     "output_type": "display_data"
    }
   ],
   "source": [
    "# Take a look at the classes in the validate set y_test\n",
    "import matplotlib.pyplot as plt\n",
    "import pandas as pd\n",
    "\n",
    "CountStatus = pd.value_counts(y_test.values, sort=True)\n",
    "print(CountStatus)\n",
    "\n",
    "CountStatus.plot.bar()"
   ]
  },
  {
   "cell_type": "markdown",
   "metadata": {},
   "source": [
    "### 4) Resampling: SMOTE"
   ]
  },
  {
   "cell_type": "code",
   "execution_count": 21,
   "metadata": {},
   "outputs": [
    {
     "data": {
      "image/png": "iVBORw0KGgoAAAANSUhEUgAAAX0AAAD8CAYAAACb4nSYAAAABHNCSVQICAgIfAhkiAAAAAlwSFlzAAALEgAACxIB0t1+/AAAADl0RVh0U29mdHdhcmUAbWF0cGxvdGxpYiB2ZXJzaW9uIDMuMC4yLCBodHRwOi8vbWF0cGxvdGxpYi5vcmcvOIA7rQAAGP9JREFUeJzt3X+QVXWe3vH3Q/Oj8RfqCgMCuw3GNU65nVHvuutOOZUdAlLr2lgxNaF2syNJjEltCEhFE63JGIupZGaCu8jWWElw1x1MrEGXcbV7yW6rxE2s0rG4iLaDiGBndmloQiuhRxkaaPjkjz7N3r5c6HPpH+fePs+rqos+n/M9936a6n769Pd87z2KCMzMLB8mZd2AmZmNH4e+mVmOOPTNzHLEoW9mliMOfTOzHHHom5nliEPfzCxHHPpmZjni0Dczy5HJWTdQ7pprrommpqas2zAzqys7duz4JCJmDjeu5kK/qamJYrGYdRtmZnVF0l+lGefpHTOzHHHom5nliEPfzCxHHPpmZjni0DczyxGHvplZjjj0zcxyxKFvZpYjNffiLLOxdmznYX7a/hNOHz1Bw5XTuOLOJi69eVbWbZmNC4e+5cqxnYc5+uJe4tQZAE4fPcHRF/cCOPgtFzy9Y7ny0/afnA38QXHqDD9t/0k2DZmNM4e+5crpoyeqqptNNA59y5WGK6dVVTebaBz6litX3NmEpgz9tteUSVxxZ1M2DZmNM1/ItVwZvFjr1TuWVw59y51Lb57lkLfc8vSOmVmOpAp9SUsl7ZG0T9IjFfavkNQj6d3k4/6SfT8v6RVJuyV9IKlp9No3M7NqDDu9I6kBeApYDHQB2yW1RsQHZUOfj4iVFR7iWeA/RMSrki4DzlQYY2Zm4yDNmf5twL6I6IyIk8BmYFmaB5f0RWByRLwKEBGfR8TPLrpbMzMbkTShPxfYX7LdldTK3SupQ9IWSfOT2i8CRyW9KGmnpHXJXw5DSHpAUlFSsaenp+ovwszM0kkT+qpQi7LtNqApIpqB14BNSX0ycAfwEPDLwEJgxTkPFrExIgoRUZg5c2bK1s3MrFppQr8LmF+yPQ84WDogIj6NiMHXsT8N3Fpy7M5kaqgfeAm4ZWQtm5nZxUoT+tuB6yUtkDQVWA60lg6QNKdkswXYXXLsVZIGT9+/CpRfADYzs3Ey7OqdiOiXtBJoBxqAZyJil6S1QDEiWoFVklqAfuAIyRRORJyW9BCwTZKAHQz8JWBmZhlQRPn0fLYKhUIUi8Ws2zAzqyuSdkREYbhxfkXuBNbb1sbery5i941fZO9XF9Hb1pZ1S2aWMb/3zgTV29ZG9zcfI/r6AOg/eJDubz4GwIy7786yNTPLkM/0J6jD6588G/iDoq+Pw+ufzKgjM6sFDv0Jqr+7u6q6meWDQ3+CmjxnTlV1M8sHh/4ENWvNg6ixcUhNjY3MWvNgRh2ZWS3whdwJavBi7eH1T9Lf3c3kOXOYteZBX8Q1yzmH/gQ24+67HfJmNoSnd8zMcsShb2aWIw59M7McceibmeWIQ9/MLEcc+mZmOeLQNzPLEYe+mVmOOPTNzHIkVehLWippj6R9kh6psH+FpB5J7yYf95fsO11Sby0/1szMxs+wb8MgqQF4ClgMdAHbJbVGRPkNzp+PiJUVHuJ4RHxp5K2amdlIpTnTvw3YFxGdEXES2AwsG9u2zMxsLKQJ/bnA/pLtrqRW7l5JHZK2SJpfUm+UVJT0I0n3VHoCSQ8kY4o9PT3puzczs6qkCX1VqEXZdhvQFBHNwGvAppJ9P5/cof23gCclXXfOg0VsjIhCRBRmzpyZsnUzM6tWmtDvAkrP3OcBB0sHRMSnEXEi2XwauLVk38Hk307gL4GbR9CvmZmNQJrQ3w5cL2mBpKnAcmDIKhxJpffgawF2J/WrJE1LPr8G+DJQfgHYzMzGybCrdyKiX9JKoB1oAJ6JiF2S1gLFiGgFVklqAfqBI8CK5PAbgf8q6QwDv2C+U2HVj5mZjRNFlE/PZ6tQKESxWMy6DTOzuiJpR3L99IL8ilwzsxxx6JuZ5YhD38wsRxz6ZmY54tA3M8sRh76ZWY449M3McmTYF2eZWXodHR1s27aN3t5eZsyYwaJFi2hubs66LbOzHPpmo6Sjo4O2tjZOnToFQG9vL21tbQAOfqsZnt4xGyXbtm07G/iDTp06xbZt2zLqyOxcDn2zUdLb21tV3SwLDn2zUTJjxoyq6mZZcOibjZJFixYxZcqUIbUpU6awaNGijDoyO5cv5JqNksGLtV69Y7XMoW82ipqbmx3yVtM8vWNmliMOfTOzHEkV+pKWStojaZ+kRyrsXyGpR9K7ycf9ZfuvkHRA0vdGq3EzM6vesHP6khqAp4DFQBewXVJrhXvdPh8RK8/zMN8C/teIOjUzsxFLc6Z/G7AvIjoj4iSwGViW9gkk3Qp8AXjl4lo0M7PRkib05wL7S7a7klq5eyV1SNoiaT6ApEnA7wEPj7hTMzMbsTShrwq1KNtuA5oiohl4DdiU1H8X+B8RsZ8LkPSApKKkYk9PT4qWzMzsYqRZp98FzC/ZngccLB0QEZ+WbD4NfDf5/HbgDkm/C1wGTJX0eUQ8Unb8RmAjQKFQKP+FYmZmoyRN6G8Hrpe0ADgALAd+q3SApDkR0Z1stgC7ASLit0vGrAAK5YFvZmbjZ9jQj4h+SSuBdqABeCYidklaCxQjohVYJakF6AeOACvGsGczM7tIiqit2ZRCoRDFYjHrNszM6oqkHRFRGG6cX5FrZpYjDn0zsxxx6JuZ5YhD38wsRxz6ZmY54tA3M8sRh76ZWY449M3McsShb2aWIw59M7McceibmeWIQ9/MLEcc+mZmOeLQNzPLEYe+mVmOOPTNzHLEoW9mliOpQl/SUkl7JO2TdM49biWtkNQj6d3k4/6k/guSdiS1XZL+xWh/AWZmlt6w98iV1AA8BSwGuoDtkloj4oOyoc9HxMqyWjfwaxFxQtJlwI+TYw+ORvNmZladNGf6twH7IqIzIk4Cm4FlaR48Ik5GxIlkc1rK5zMzszGSJoTnAvtLtruSWrl7JXVI2iJp/mBR0nxJHcljfNdn+WZm2UkT+qpQi7LtNqApIpqB14BNZwdG7E/qfwu4T9IXznkC6QFJRUnFnp6e9N2bmVlV0oR+FzC/ZHseMORsPSI+LZnGeRq4tfxBkjP8XcAdFfZtjIhCRBRmzpyZtnczM6tSmtDfDlwvaYGkqcByoLV0gKQ5JZstwO6kPk/S9OTzq4AvA3tGo3EzM6vesKt3IqJf0kqgHWgAnomIXZLWAsWIaAVWSWoB+oEjwIrk8BuB35MUDEwTPRER74/B12FmZikoonx6PluFQiGKxWLWbZiZ1RVJOyKiMNw4L6E0M8sRh76ZWY449M3McsShb2aWIw59M7McceibmeWIQ9/MLEcc+mZmOTLsK3LrxUs7D7CufQ8Hjx7n2iun8/CdN3DPzZXeDNTMLL8mROi/tPMAj774PsdPnQbgwNHjPPriwLs9OPjNzP7GhJjeWde+52zgDzp+6jTr2v3ebmZmpSZE6B88eryquplZXk2I0L/2yulV1c3M8mpChP7Dd97A9CkNQ2rTpzTw8J03ZNSRmVltmhAXcgcv1nr1jpnZhU2I0IeB4B+zkO94Abathd4umDEPFj0GzV8bm+cyMxtDEyb0x0zHC9C2Ck4lF4V79w9sg4PfzOpOqjl9SUsl7ZG0T9IjFfavkNQj6d3k4/6k/iVJb0naJalD0j8c7S9gzG1b+zeBP+jU8YG6mVmdGfZMX1ID8BSwGOgCtktqjYgPyoY+HxEry2o/A74eEXslXQvskNQeEUdHo/lx0dtVXd3MrIalOdO/DdgXEZ0RcRLYDCxL8+AR8VFE7E0+PwgcBmZebLOZmDGvunqVtnZuZcmWJTRvambJliVs7dw6Ko9rZlZJmtCfC+wv2e5KauXuTaZwtkiaX75T0m3AVODji+o0K4segyll6/2nTB+oj9DWzq08/ubjdB/rJgi6j3Xz+JuPO/jNbMykCX1VqEXZdhvQFBHNwGvApiEPIM0B/hvwjyPizDlPID0gqSip2NPTk67z8dL8Nbj7D2DGfEAD/979B6NyEXfDOxvoO903pNZ3uo8N72wY8WOb5UbHC7D+Jnj8yoF/O17IuqOalmb1ThdQeuY+DzhYOiAiPi3ZfBr47uCGpCuArcC/i4gfVXqCiNgIbAQoFArlv1Cy1/y1MVmpc+jYoarqZlbGq+uqluZMfztwvaQFkqYCy4HW0gHJmfygFmB3Up8K/CnwbET8yei0PHHMvnR2VXUzK+PVdVUbNvQjoh9YCbQzEOYvRMQuSWsltSTDViXLMt8DVgErkvrXgK8AK0qWc35p1L+KOrX6ltU0NjQOqTU2NLL6ltUZdWRWZ7y6rmqKqK3ZlEKhEMViMes2xs3Wzq1seGcDh44dYvals1l9y2ruWnhX1m2Z1Yf1Nw1M6ZSbMR/W/Hj8+8mQpB0RURhunF+Rm7G7Ft7lkLea8MNDR/h2ZzcHTpxi7rQpPLpwDvfOvjrrti5s0WND5/Rh1FbXTVQOfTPjh4eO8NCe/Rw/M/CXf9eJUzy0Z+AMuqaDf/Bird8bKzWHvpnx7c7us4E/6PiZ4Nud3bUd+jBmq+smqgnxfvpmNjIHTpyqqm71y6FvZsydNqWqutUvh76Z8ejCOUyfNPTF99MniUcXzjnPEVavPKdvZmfn7etu9Y5VzaFvZsBA8DvkJz5P75iZ5YhD38wsRxz6ZmY54tA3M8sRh76ZWY449M3McsShb2aWIw59M7McceibmeVIqtCXtFTSHkn7JD1SYf8KST0lt0S8v2TfX0g6KunPRrNxMzOr3rBvwyCpAXgKWAx0AdsltUbEB2VDn4+IlRUeYh1wCfDPR9qsmZmNTJoz/duAfRHRGREngc3AsrRPEBHbgM8usj8zs8xs7dzKki1LaN7UzJItS9jauTXrlkYszRuuzQVK7zzcBfxKhXH3SvoK8BGwJiIq3K3YzPLopZ0HWNe+h4NHj3PtldN5+M4buOfmuVm3dUFbO7fy+JuP03e6D4DuY908/ubjAHV9X+s0Z/qqUIuy7TagKSKagdeATdU0IekBSUVJxZ6enmoONbMa99LOAzz64vscOHqcAA4cPc6jL77PSzsPZN3aBW14Z8PZwB/Ud7qPDe9syKij0ZEm9LuA+SXb84CDpQMi4tOIOJFsPg3cWk0TEbExIgoRUZg5c2Y1h5pZjVvXvofjp04PqR0/dZp17Xsy6iidQ8cOVVWvF2lCfztwvaQFkqYCy4HW0gGSSm+v0wLsHr0WzayeHTx6vKp6rZh96eyq6vVi2NCPiH5gJdDOQJi/EBG7JK2V1JIMWyVpl6T3gFXAisHjJb0B/AmwSFKXpDtH+4sws9p17ZXTq6rXitW3rKaxoXFIrbGhkdW3rM6oo9GhiPLp+WwVCoUoFotZt2Fmo2RwTr90imf6lAa+/fd/qS4u5m54ZwOHjh1i9qWzWX3L6pq9iCtpR0QUhhvn2yWa2ZgaDPZ6W70DA6t0ajXkL5ZD38zG3D03z62LkM8Dv/eOmVmOOPTNzHLEoW9mliMOfTOzHHHom5nliFfvmNWJ7kMv0/nxE/Sd6KZx2hwWXvcQc2anfsNbM8Chb1YXug+9zIcffoMzZwbeuqDvxEE+/PAbAA5+q4qnd8zqQOfHT5wN/EFnzhyn8+MnMurI6pVD36wO9J3orqpudj4OfbM60DhtTlV1s/Nx6JvVgYXXPcSkSUPflXLSpOksvO6hjDqyeuULuVaTdr/xOm9sfpbPPv2Ey3/uGu5Y/nVuvOPXs24rM4MXa716x0bKoW81Z/cbr/PKxu/Rf3LgZmyffdLDKxu/B5D74HfI20h5esdqzhubnz0b+IP6T57gjc3PZtSR2cTh0Lea89mnn1RVN7P0HPpWcy7/uWuqqptZeqlCX9JSSXsk7ZP0SIX9KyT1SHo3+bi/ZN99kvYmH/eNZvM2Md2x/OtMnjptSG3y1GncsfzrGXVkNnEMeyFXUgPwFLAY6AK2S2qNiA/Khj4fESvLjr0a+PdAAQhgR3Ls/xuV7m1CGrxY69U7NpH1trVxeP2T9Hd3M3nOHGateZAZd9895s+bZvXObcC+iOgEkLQZWAaUh34ldwKvRsSR5NhXgaXADy6uXcuLG+/4dYe8TVi9bW10f/Mxoq8PgP6DB+n+5mMAYx78aaZ35gL7S7a7klq5eyV1SNoiaX41x0p6QFJRUrGnpydl62Zm9enw+ifPBv6g6Ovj8Ponx/y504S+KtSibLsNaIqIZuA1YFMVxxIRGyOiEBGFmTNnpmjJzKx+9XdXfs+k89VHU5rQ7wLml2zPAw6WDoiITyNicGH108CtaY81M8ubyXMqv2fS+eqjKU3obweul7RA0lRgOdBaOkBSaactwO7k83ZgiaSrJF0FLElqZma5NWvNg6ixcUhNjY3MWvPgmD/3sBdyI6Jf0koGwroBeCYidklaCxQjohVYJakF6AeOACuSY49I+hYDvzgA1g5e1DUzy6vBi7VZrN5RxDlT7JkqFApRLBazbsPMrK5I2hERheHG+RW5ZmY54tA3M8sRh76ZWY449M3McsShb2aWIw59M7McceibmeWIQ9/MLEcc+mZmOeLQNzPLEYe+mVmOOPTNzHLEoW9mliMOfTOzHHHom5nliEPfzCxHHPpmZjmSKvQlLZW0R9I+SY9cYNw/kBSSCsn2VEl/LOl9Se9J+ruj1LeZmV2EYe+RK6kBeApYDHQB2yW1RsQHZeMuB1YBb5eU/xlARPySpFnAn0v65Yg4M1pfgGXno7cP8dbLH/P5kRNcdvU0bl92Hb/4K7OzbsvMLiDNmf5twL6I6IyIk8BmYFmFcd8C/hPQV1L7IrANICIOA0eBYe/haLXvo7cP8fpzH/L5kRMAfH7kBK8/9yEfvX0o487M7ELShP5cYH/JdldSO0vSzcD8iPizsmPfA5ZJmixpAXArML/8CSQ9IKkoqdjT01PVF2DZeOvlj+k/OfQPtv6TZ3jr5Y8z6sjM0hh2egdQhVqc3SlNAtYDKyqMewa4ESgCfwW8CfSf82ARG4GNAIVCIcr3W+0ZPMNPWzez2pAm9LsYenY+DzhYsn05cBPwl5IAZgOtkloiogisGRwo6U1g70ibtuxddvW0igF/2dXTMujGzNJKM72zHbhe0gJJU4HlQOvgzojojYhrIqIpIpqAHwEtEVGUdImkSwEkLQb6yy8AW326fdl1TJ469Ntn8tRJ3L7suow6MrM0hj3Tj4h+SSuBdqABeCYidklaCxQjovUCh88C2iWdAQ4AvzMaTVv2BlfpePWOWX1RRG1NoRcKhSgWi1m3YWZWVyTtiIhhV0f6FblmZjni0DczyxGHvplZjjj0zcxyxKFvZpYjDn0zsxxx6JuZ5UjNrdOX1MPA+/TUomuAT7Ju4iLUa99Qv73Xa99Qv73nve9fiIiZww2qudCvZZKKaV78UGvqtW+o397rtW+o397ddzqe3jEzyxGHvplZjjj0q7Mx6wYuUr32DfXbe732DfXbu/tOwXP6ZmY54jN9M7McceinIGm+pNcl7Za0S9LqrHuqhqQGSTslld/DuGZJulLSFkkfJv/vt2fdU1qS1iTfJz+W9ANJjVn3VImkZyQdlvTjktrVkl6VtDf596osezyf8/S+Lvl+6ZD0p5KuzLLHSir1XbLvIUkh6Zqx7MGhn04/8K8j4kbgV4F/KemLGfdUjdXA7qybqNIG4C8i4m8Df4c66V/SXGAVUIiImxi48dDybLs6r+8DS8tqjwDbIuJ6YFuyXYu+z7m9vwrcFBHNwEfAo+PdVArf59y+kTQfWAz89Vg34NBPISK6I+Kd5PPPGAigudl2lY6kecBdwB9m3Utakq4AvgL8EUBEnIyIo9l2VZXJwHRJk4FLGHpP6ZoREf8bOFJWXgZsSj7fBNwzrk2lVKn3iHglIvqTzR8xcD/vmnKe/3OA9cC/Acb8IqtDv0qSmoCbgbez7SS1Jxn4ZjqTdSNVWAj0AH+cTEv94eC9lmtdRBwAnmDgjK0b6I2IV7LtqipfiIhuGDjZYeCWp/XonwB/nnUTaUhqAQ5ExHvj8XwO/SpIugz4IfBgRPw0636GI+k3gcMRsSPrXqo0GbgF+M8RcTNwjNqdZhgimQNfBiwArgUulfSPsu0qXyR9g4Ep2eey7mU4ki4BvgE8Nl7P6dBPSdIUBgL/uYh4Met+Uvoy0CLpJ8Bm4KuS/nu2LaXSBXRFxOBfU1sY+CVQD/4e8H8ioiciTgEvAr+WcU/V+L+S5gAk/x7OuJ+qSLoP+E3gt6M+1qNfx8AJwnvJz+k84B1Js8fqCR36KUgSA/PLuyPi97PuJ62IeDQi5kVEEwMXE/9nRNT8WWdEHAL2S7ohKS0CPsiwpWr8NfCrki5Jvm8WUScXoROtwH3J5/cBL2fYS1UkLQX+LdASET/Lup80IuL9iJgVEU3Jz2kXcEvyMzAmHPrpfBn4HQbOlN9NPn4j66YmuH8FPCepA/gS8B8z7ieV5K+TLcA7wPsM/IzV5CtFJf0AeAu4QVKXpH8KfAdYLGkvA6tJvpNlj+dznt6/B1wOvJr8jP6XTJus4Dx9j28P9fEXkJmZjQaf6ZuZ5YhD38wsRxz6ZmY54tA3M8sRh76ZWY449M3McsShb2aWIw59M7Mc+f9wbN+5DSNJpAAAAABJRU5ErkJggg==\n",
      "text/plain": [
       "<Figure size 432x288 with 1 Axes>"
      ]
     },
     "metadata": {
      "needs_background": "light"
     },
     "output_type": "display_data"
    }
   ],
   "source": [
    "from imblearn.over_sampling import SMOTE\n",
    "from sklearn.ensemble import RandomForestClassifier\n",
    "from sklearn.metrics import recall_score\n",
    "from sklearn.metrics import accuracy_score\n",
    "from sklearn.metrics import classification_report\n",
    "import matplotlib.pyplot as plt\n",
    "from imblearn.pipeline import Pipeline\n",
    "\n",
    "rfc = RandomForestClassifier(random_state=620)\n",
    "\n",
    "for k in range(1,15):\n",
    "    sm = SMOTE(ratio = 'all', k_neighbors=k, random_state=240)\n",
    "    X_smote, y_smote = sm.fit_sample(X_train, y_train)\n",
    "    rfc.fit(X_smote,y_smote)\n",
    "    smote_predict = rfc.predict(X_test)\n",
    "    recall = recall_score(y_test, smote_predict,average='macro')\n",
    "#     print ('Accuracy for Minority Class for k=',k, ':', recall)\n",
    "    plt.scatter(k, recall)"
   ]
  },
  {
   "cell_type": "code",
   "execution_count": 22,
   "metadata": {},
   "outputs": [
    {
     "name": "stdout",
     "output_type": "stream",
     "text": [
      "(7578, 6316)\n"
     ]
    }
   ],
   "source": [
    "sm = SMOTE(ratio='all',k_neighbors=12, random_state=240)\n",
    "X_smote, y_smote = sm.fit_sample(X_train, y_train)\n",
    "print(X_smote.shape)"
   ]
  },
  {
   "cell_type": "code",
   "execution_count": 23,
   "metadata": {},
   "outputs": [
    {
     "name": "stdout",
     "output_type": "stream",
     "text": [
      "3.0    842\n",
      "8.0    842\n",
      "9.0    842\n",
      "6.0    842\n",
      "7.0    842\n",
      "2.0    842\n",
      "1.0    842\n",
      "5.0    842\n",
      "4.0    842\n",
      "dtype: int64\n"
     ]
    }
   ],
   "source": [
    "import matplotlib.pyplot as plt\n",
    "import pandas as pd\n",
    "\n",
    "CountStatus = pd.value_counts(y_smote, sort=True)\n",
    "print(CountStatus)\n",
    "# all class is balanced to same ratio"
   ]
  },
  {
   "cell_type": "markdown",
   "metadata": {},
   "source": [
    "### 5a) Model:  Logistic Regression"
   ]
  },
  {
   "cell_type": "code",
   "execution_count": 24,
   "metadata": {},
   "outputs": [
    {
     "name": "stdout",
     "output_type": "stream",
     "text": [
      "Fitting 5 folds for each of 10 candidates, totalling 50 fits\n"
     ]
    },
    {
     "name": "stderr",
     "output_type": "stream",
     "text": [
      "[Parallel(n_jobs=3)]: Using backend LokyBackend with 3 concurrent workers.\n",
      "[Parallel(n_jobs=3)]: Done  12 tasks      | elapsed:   57.1s\n",
      "[Parallel(n_jobs=3)]: Done  50 out of  50 | elapsed:  2.6min finished\n"
     ]
    },
    {
     "data": {
      "text/plain": [
       "GridSearchCV(cv=5, error_score='raise-deprecating',\n",
       "       estimator=LogisticRegression(C=1.0, class_weight=None, dual=False, fit_intercept=True,\n",
       "          intercept_scaling=1, max_iter=100, multi_class='warn',\n",
       "          n_jobs=None, penalty='l2', random_state=None, solver='warn',\n",
       "          tol=0.0001, verbose=0, warm_start=False),\n",
       "       fit_params=None, iid='warn', n_jobs=3,\n",
       "       param_grid={'C': array([ 1.,  2.,  3.,  4.,  5.,  6.,  7.,  8.,  9., 10.])},\n",
       "       pre_dispatch='2*n_jobs', refit=True, return_train_score='warn',\n",
       "       scoring=None, verbose=5)"
      ]
     },
     "execution_count": 24,
     "metadata": {},
     "output_type": "execute_result"
    }
   ],
   "source": [
    "# Log Reg, no SMOTE\n",
    "from sklearn.model_selection import GridSearchCV\n",
    "from sklearn.linear_model import LogisticRegression\n",
    "\n",
    "parameters = {\n",
    "    'C': np.linspace(1, 10, 10)\n",
    "             }\n",
    "lr = LogisticRegression()\n",
    "clf = GridSearchCV(lr, parameters, cv=5, verbose=5, n_jobs=3)\n",
    "clf.fit(X_train, y_train.ravel())"
   ]
  },
  {
   "cell_type": "code",
   "execution_count": 25,
   "metadata": {},
   "outputs": [
    {
     "data": {
      "text/plain": [
       "{'C': 6.0}"
      ]
     },
     "execution_count": 25,
     "metadata": {},
     "output_type": "execute_result"
    }
   ],
   "source": [
    "clf.best_params_"
   ]
  },
  {
   "cell_type": "code",
   "execution_count": 26,
   "metadata": {},
   "outputs": [
    {
     "name": "stdout",
     "output_type": "stream",
     "text": [
      "[LibLinear]log loss: 1.2484222210843492\n",
      "              precision    recall  f1-score   support\n",
      "\n",
      "         1.0       0.68      0.55      0.61       132\n",
      "         2.0       0.59      0.42      0.49       100\n",
      "         3.0       0.00      0.00      0.00        19\n",
      "         4.0       0.68      0.74      0.71       150\n",
      "         5.0       0.48      0.40      0.43        53\n",
      "         6.0       0.66      0.59      0.62        59\n",
      "         7.0       0.64      0.88      0.74       211\n",
      "         8.0       1.00      0.50      0.67         4\n",
      "         9.0       1.00      0.56      0.71         9\n",
      "\n",
      "   micro avg       0.64      0.64      0.64       737\n",
      "   macro avg       0.64      0.51      0.55       737\n",
      "weighted avg       0.63      0.64      0.63       737\n",
      "\n"
     ]
    }
   ],
   "source": [
    "from sklearn.metrics import classification_report, log_loss\n",
    "\n",
    "lr1 = LogisticRegression(C=7,penalty='l1', verbose=5)\n",
    "lr1.fit(X_train, y_train.ravel())\n",
    "y_predict = lr1.predict(X_test)\n",
    "yhat_pp = lr1.predict_proba(X_test)\n",
    "\n",
    "print('log loss:', log_loss(y_test, yhat_pp))\n",
    "print(classification_report(y_test, y_predict))"
   ]
  },
  {
   "cell_type": "code",
   "execution_count": 27,
   "metadata": {},
   "outputs": [
    {
     "name": "stdout",
     "output_type": "stream",
     "text": [
      "Fitting 5 folds for each of 10 candidates, totalling 50 fits\n"
     ]
    },
    {
     "name": "stderr",
     "output_type": "stream",
     "text": [
      "[Parallel(n_jobs=3)]: Using backend LokyBackend with 3 concurrent workers.\n",
      "[Parallel(n_jobs=3)]: Done  12 tasks      | elapsed:  1.2min\n",
      "[Parallel(n_jobs=3)]: Done  50 out of  50 | elapsed:  4.5min finished\n"
     ]
    },
    {
     "data": {
      "text/plain": [
       "GridSearchCV(cv=5, error_score='raise-deprecating',\n",
       "       estimator=LogisticRegression(C=1.0, class_weight=None, dual=False, fit_intercept=True,\n",
       "          intercept_scaling=1, max_iter=100, multi_class='warn',\n",
       "          n_jobs=None, penalty='l2', random_state=None, solver='warn',\n",
       "          tol=0.0001, verbose=0, warm_start=False),\n",
       "       fit_params=None, iid='warn', n_jobs=3,\n",
       "       param_grid={'C': array([ 1.,  2.,  3.,  4.,  5.,  6.,  7.,  8.,  9., 10.])},\n",
       "       pre_dispatch='2*n_jobs', refit=True, return_train_score='warn',\n",
       "       scoring=None, verbose=5)"
      ]
     },
     "execution_count": 27,
     "metadata": {},
     "output_type": "execute_result"
    }
   ],
   "source": [
    "# Log Reg, SMOTE\n",
    "parameters = {\n",
    "    'C': np.linspace(1, 10, 10)\n",
    "             }\n",
    "lr = LogisticRegression()\n",
    "clf = GridSearchCV(lr, parameters, cv=5, verbose=5, n_jobs=3)\n",
    "clf.fit(X_smote, y_smote.ravel())"
   ]
  },
  {
   "cell_type": "code",
   "execution_count": 28,
   "metadata": {},
   "outputs": [
    {
     "data": {
      "text/plain": [
       "{'C': 6.0}"
      ]
     },
     "execution_count": 28,
     "metadata": {},
     "output_type": "execute_result"
    }
   ],
   "source": [
    "clf.best_params_"
   ]
  },
  {
   "cell_type": "code",
   "execution_count": 29,
   "metadata": {},
   "outputs": [
    {
     "name": "stdout",
     "output_type": "stream",
     "text": [
      "[LibLinear]log loss: 1.1828369248639428\n",
      "              precision    recall  f1-score   support\n",
      "\n",
      "         1.0       0.69      0.54      0.60       132\n",
      "         2.0       0.57      0.46      0.51       100\n",
      "         3.0       0.12      0.05      0.07        19\n",
      "         4.0       0.70      0.71      0.70       150\n",
      "         5.0       0.47      0.53      0.50        53\n",
      "         6.0       0.61      0.59      0.60        59\n",
      "         7.0       0.66      0.84      0.74       211\n",
      "         8.0       1.00      0.50      0.67         4\n",
      "         9.0       1.00      0.56      0.71         9\n",
      "\n",
      "   micro avg       0.64      0.64      0.64       737\n",
      "   macro avg       0.65      0.53      0.57       737\n",
      "weighted avg       0.64      0.64      0.63       737\n",
      "\n"
     ]
    }
   ],
   "source": [
    "lr2 = LogisticRegression(C=3,penalty='l1', verbose=5)\n",
    "lr2.fit(X_smote, y_smote.ravel())\n",
    "\n",
    "smote_predict = lr2.predict(X_test)\n",
    "\n",
    "yhat_pp = lr2.predict_proba(X_test)\n",
    "print('log loss:', log_loss(y_test, yhat_pp))\n",
    "\n",
    "print(classification_report(y_test, smote_predict))\n",
    "# SMOTE did not improve Logistic Regression results"
   ]
  },
  {
   "cell_type": "markdown",
   "metadata": {},
   "source": [
    "### 5b) Model: Random forest Classifier"
   ]
  },
  {
   "cell_type": "code",
   "execution_count": 30,
   "metadata": {},
   "outputs": [
    {
     "name": "stdout",
     "output_type": "stream",
     "text": [
      "log loss: 3.7357317289072496\n",
      "              precision    recall  f1-score   support\n",
      "\n",
      "         1.0       0.56      0.56      0.56       132\n",
      "         2.0       0.45      0.45      0.45       100\n",
      "         3.0       0.31      0.26      0.29        19\n",
      "         4.0       0.63      0.69      0.66       150\n",
      "         5.0       0.52      0.45      0.48        53\n",
      "         6.0       0.80      0.63      0.70        59\n",
      "         7.0       0.68      0.74      0.71       211\n",
      "         8.0       1.00      0.25      0.40         4\n",
      "         9.0       1.00      0.33      0.50         9\n",
      "\n",
      "   micro avg       0.61      0.61      0.61       737\n",
      "   macro avg       0.66      0.48      0.53       737\n",
      "weighted avg       0.61      0.61      0.60       737\n",
      "\n"
     ]
    }
   ],
   "source": [
    "# RFC, no SMOTE\n",
    "from sklearn.ensemble import RandomForestClassifier\n",
    "from sklearn.metrics import classification_report\n",
    "\n",
    "rfc1 = RandomForestClassifier()\n",
    "rfc1.fit(X_train, y_train)\n",
    "\n",
    "y_pred = rfc1.predict(X_test)\n",
    "\n",
    "yhat_pp = rfc1.predict_proba(X_test)\n",
    "print('log loss:', log_loss(y_test, yhat_pp))\n",
    "\n",
    "print(classification_report(y_test, y_pred,))"
   ]
  },
  {
   "cell_type": "code",
   "execution_count": 31,
   "metadata": {},
   "outputs": [
    {
     "name": "stdout",
     "output_type": "stream",
     "text": [
      "log loss: 4.173067480185359\n",
      "              precision    recall  f1-score   support\n",
      "\n",
      "         1.0       0.50      0.53      0.52       132\n",
      "         2.0       0.41      0.56      0.47       100\n",
      "         3.0       0.28      0.37      0.32        19\n",
      "         4.0       0.69      0.64      0.66       150\n",
      "         5.0       0.52      0.57      0.54        53\n",
      "         6.0       0.67      0.63      0.65        59\n",
      "         7.0       0.74      0.61      0.67       211\n",
      "         8.0       0.33      0.25      0.29         4\n",
      "         9.0       0.83      0.56      0.67         9\n",
      "\n",
      "   micro avg       0.58      0.58      0.58       737\n",
      "   macro avg       0.55      0.52      0.53       737\n",
      "weighted avg       0.61      0.58      0.59       737\n",
      "\n"
     ]
    }
   ],
   "source": [
    "# RFC, SMOTE\n",
    "\n",
    "rfc2 = RandomForestClassifier()\n",
    "rfc2.fit(X_smote, y_smote)\n",
    "\n",
    "y_pred = rfc2.predict(X_test)\n",
    "\n",
    "\n",
    "yhat_pp = rfc2.predict_proba(X_test)\n",
    "print('log loss:', log_loss(y_test, yhat_pp))\n",
    "\n",
    "print(classification_report(y_test, y_pred,))\n",
    "# SMOTE did not improve RFC results"
   ]
  },
  {
   "cell_type": "markdown",
   "metadata": {},
   "source": [
    "### 5c) Model:  XGBoost"
   ]
  },
  {
   "cell_type": "code",
   "execution_count": 32,
   "metadata": {},
   "outputs": [
    {
     "name": "stdout",
     "output_type": "stream",
     "text": [
      "log loss: 0.9252806054668317\n",
      "              precision    recall  f1-score   support\n",
      "\n",
      "         1.0       0.63      0.61      0.62       132\n",
      "         2.0       0.69      0.54      0.61       100\n",
      "         3.0       0.38      0.26      0.31        19\n",
      "         4.0       0.67      0.73      0.70       150\n",
      "         5.0       0.54      0.49      0.51        53\n",
      "         6.0       0.81      0.58      0.67        59\n",
      "         7.0       0.71      0.87      0.78       211\n",
      "         8.0       1.00      0.25      0.40         4\n",
      "         9.0       1.00      0.56      0.71         9\n",
      "\n",
      "   micro avg       0.68      0.68      0.68       737\n",
      "   macro avg       0.72      0.54      0.59       737\n",
      "weighted avg       0.68      0.68      0.67       737\n",
      "\n"
     ]
    }
   ],
   "source": [
    "# XGBoost, no SMOTE\n",
    "import xgboost as xgb\n",
    "\n",
    "model=xgb.XGBClassifier(random_state=1,learning_rate=0.1)\n",
    "model.fit(X_train,y_train)\n",
    "model.score(X_test,y_test)\n",
    "\n",
    "y_pred = model.predict(X_test)\n",
    "\n",
    "yhat_pp = model.predict_proba(X_test)\n",
    "print('log loss:', log_loss(y_test, yhat_pp))\n",
    "print(classification_report( y_test,y_pred))"
   ]
  },
  {
   "cell_type": "code",
   "execution_count": 33,
   "metadata": {},
   "outputs": [
    {
     "data": {
      "text/html": [
       "<div>\n",
       "<style scoped>\n",
       "    .dataframe tbody tr th:only-of-type {\n",
       "        vertical-align: middle;\n",
       "    }\n",
       "\n",
       "    .dataframe tbody tr th {\n",
       "        vertical-align: top;\n",
       "    }\n",
       "\n",
       "    .dataframe thead th {\n",
       "        text-align: right;\n",
       "    }\n",
       "</style>\n",
       "<table border=\"1\" class=\"dataframe\">\n",
       "  <thead>\n",
       "    <tr style=\"text-align: right;\">\n",
       "      <th></th>\n",
       "      <th>Text_count</th>\n",
       "      <th>Gene_ABCC6</th>\n",
       "      <th>Gene_ABL1</th>\n",
       "      <th>Gene_ACVR1</th>\n",
       "      <th>Gene_ADAMTS13</th>\n",
       "      <th>Gene_ADGRG1</th>\n",
       "      <th>Gene_AGO2</th>\n",
       "      <th>Gene_AGXT</th>\n",
       "      <th>Gene_AKAP9</th>\n",
       "      <th>Gene_AKT1</th>\n",
       "      <th>...</th>\n",
       "      <th>wild type p53</th>\n",
       "      <th>wnt</th>\n",
       "      <th>women</th>\n",
       "      <th>work</th>\n",
       "      <th>wt</th>\n",
       "      <th>www</th>\n",
       "      <th>xl</th>\n",
       "      <th>year</th>\n",
       "      <th>years</th>\n",
       "      <th>yeast</th>\n",
       "    </tr>\n",
       "  </thead>\n",
       "  <tbody>\n",
       "    <tr>\n",
       "      <th>0</th>\n",
       "      <td>8484.0</td>\n",
       "      <td>0.0</td>\n",
       "      <td>0.0</td>\n",
       "      <td>0.0</td>\n",
       "      <td>0.0</td>\n",
       "      <td>0.0</td>\n",
       "      <td>0.0</td>\n",
       "      <td>0.0</td>\n",
       "      <td>0.0</td>\n",
       "      <td>0.0</td>\n",
       "      <td>...</td>\n",
       "      <td>0.0</td>\n",
       "      <td>0.000000</td>\n",
       "      <td>0.000000</td>\n",
       "      <td>0.000000</td>\n",
       "      <td>0.000000</td>\n",
       "      <td>0.000000</td>\n",
       "      <td>0.0</td>\n",
       "      <td>0.006623</td>\n",
       "      <td>0.010580</td>\n",
       "      <td>0.000000</td>\n",
       "    </tr>\n",
       "    <tr>\n",
       "      <th>1</th>\n",
       "      <td>13007.0</td>\n",
       "      <td>0.0</td>\n",
       "      <td>0.0</td>\n",
       "      <td>0.0</td>\n",
       "      <td>0.0</td>\n",
       "      <td>0.0</td>\n",
       "      <td>0.0</td>\n",
       "      <td>0.0</td>\n",
       "      <td>0.0</td>\n",
       "      <td>0.0</td>\n",
       "      <td>...</td>\n",
       "      <td>0.0</td>\n",
       "      <td>0.007875</td>\n",
       "      <td>0.001847</td>\n",
       "      <td>0.009276</td>\n",
       "      <td>0.000000</td>\n",
       "      <td>0.000000</td>\n",
       "      <td>0.0</td>\n",
       "      <td>0.001643</td>\n",
       "      <td>0.009188</td>\n",
       "      <td>0.000000</td>\n",
       "    </tr>\n",
       "    <tr>\n",
       "      <th>2</th>\n",
       "      <td>2602.0</td>\n",
       "      <td>0.0</td>\n",
       "      <td>0.0</td>\n",
       "      <td>0.0</td>\n",
       "      <td>0.0</td>\n",
       "      <td>0.0</td>\n",
       "      <td>0.0</td>\n",
       "      <td>0.0</td>\n",
       "      <td>0.0</td>\n",
       "      <td>0.0</td>\n",
       "      <td>...</td>\n",
       "      <td>0.0</td>\n",
       "      <td>0.000000</td>\n",
       "      <td>0.000000</td>\n",
       "      <td>0.008867</td>\n",
       "      <td>0.000000</td>\n",
       "      <td>0.019266</td>\n",
       "      <td>0.0</td>\n",
       "      <td>0.000000</td>\n",
       "      <td>0.008783</td>\n",
       "      <td>0.012323</td>\n",
       "    </tr>\n",
       "    <tr>\n",
       "      <th>3</th>\n",
       "      <td>6068.0</td>\n",
       "      <td>0.0</td>\n",
       "      <td>0.0</td>\n",
       "      <td>0.0</td>\n",
       "      <td>0.0</td>\n",
       "      <td>0.0</td>\n",
       "      <td>0.0</td>\n",
       "      <td>0.0</td>\n",
       "      <td>0.0</td>\n",
       "      <td>0.0</td>\n",
       "      <td>...</td>\n",
       "      <td>0.0</td>\n",
       "      <td>0.000000</td>\n",
       "      <td>0.000000</td>\n",
       "      <td>0.013469</td>\n",
       "      <td>0.080471</td>\n",
       "      <td>0.000000</td>\n",
       "      <td>0.0</td>\n",
       "      <td>0.004176</td>\n",
       "      <td>0.000000</td>\n",
       "      <td>0.000000</td>\n",
       "    </tr>\n",
       "    <tr>\n",
       "      <th>4</th>\n",
       "      <td>4708.0</td>\n",
       "      <td>0.0</td>\n",
       "      <td>0.0</td>\n",
       "      <td>0.0</td>\n",
       "      <td>0.0</td>\n",
       "      <td>0.0</td>\n",
       "      <td>0.0</td>\n",
       "      <td>0.0</td>\n",
       "      <td>0.0</td>\n",
       "      <td>0.0</td>\n",
       "      <td>...</td>\n",
       "      <td>0.0</td>\n",
       "      <td>0.000000</td>\n",
       "      <td>0.000000</td>\n",
       "      <td>0.000000</td>\n",
       "      <td>0.000000</td>\n",
       "      <td>0.000000</td>\n",
       "      <td>0.0</td>\n",
       "      <td>0.000000</td>\n",
       "      <td>0.000000</td>\n",
       "      <td>0.000000</td>\n",
       "    </tr>\n",
       "  </tbody>\n",
       "</table>\n",
       "<p>5 rows × 6316 columns</p>\n",
       "</div>"
      ],
      "text/plain": [
       "   Text_count  Gene_ABCC6  Gene_ABL1  Gene_ACVR1  Gene_ADAMTS13  Gene_ADGRG1  \\\n",
       "0      8484.0         0.0        0.0         0.0            0.0          0.0   \n",
       "1     13007.0         0.0        0.0         0.0            0.0          0.0   \n",
       "2      2602.0         0.0        0.0         0.0            0.0          0.0   \n",
       "3      6068.0         0.0        0.0         0.0            0.0          0.0   \n",
       "4      4708.0         0.0        0.0         0.0            0.0          0.0   \n",
       "\n",
       "   Gene_AGO2  Gene_AGXT  Gene_AKAP9  Gene_AKT1  ...  wild type p53       wnt  \\\n",
       "0        0.0        0.0         0.0        0.0  ...            0.0  0.000000   \n",
       "1        0.0        0.0         0.0        0.0  ...            0.0  0.007875   \n",
       "2        0.0        0.0         0.0        0.0  ...            0.0  0.000000   \n",
       "3        0.0        0.0         0.0        0.0  ...            0.0  0.000000   \n",
       "4        0.0        0.0         0.0        0.0  ...            0.0  0.000000   \n",
       "\n",
       "      women      work        wt       www   xl      year     years     yeast  \n",
       "0  0.000000  0.000000  0.000000  0.000000  0.0  0.006623  0.010580  0.000000  \n",
       "1  0.001847  0.009276  0.000000  0.000000  0.0  0.001643  0.009188  0.000000  \n",
       "2  0.000000  0.008867  0.000000  0.019266  0.0  0.000000  0.008783  0.012323  \n",
       "3  0.000000  0.013469  0.080471  0.000000  0.0  0.004176  0.000000  0.000000  \n",
       "4  0.000000  0.000000  0.000000  0.000000  0.0  0.000000  0.000000  0.000000  \n",
       "\n",
       "[5 rows x 6316 columns]"
      ]
     },
     "execution_count": 33,
     "metadata": {},
     "output_type": "execute_result"
    }
   ],
   "source": [
    "# XGboost need features header and convert X columns to df\n",
    "Smote_df=pd.DataFrame(data=X_smote[0:,0:])\n",
    "Smote_df.columns=X_test.columns\n",
    "Smote_df.head()"
   ]
  },
  {
   "cell_type": "code",
   "execution_count": 35,
   "metadata": {},
   "outputs": [
    {
     "name": "stdout",
     "output_type": "stream",
     "text": [
      "log loss: 0.9716624103061946\n",
      "              precision    recall  f1-score   support\n",
      "\n",
      "         1.0       0.65      0.58      0.61       132\n",
      "         2.0       0.56      0.54      0.55       100\n",
      "         3.0       0.35      0.47      0.40        19\n",
      "         4.0       0.74      0.71      0.72       150\n",
      "         5.0       0.43      0.57      0.49        53\n",
      "         6.0       0.72      0.66      0.69        59\n",
      "         7.0       0.73      0.77      0.75       211\n",
      "         8.0       0.50      0.25      0.33         4\n",
      "         9.0       1.00      0.67      0.80         9\n",
      "\n",
      "   micro avg       0.66      0.66      0.66       737\n",
      "   macro avg       0.63      0.58      0.60       737\n",
      "weighted avg       0.67      0.66      0.66       737\n",
      "\n"
     ]
    }
   ],
   "source": [
    "# XGBoost, SMOTE\n",
    "\n",
    "model2=xgb.XGBClassifier(random_state=1,learning_rate=0.1)\n",
    "model2.fit(Smote_df,y_smote)\n",
    "model2.score(X_test,y_test)\n",
    "\n",
    "y_pred2 = model2.predict(X_test)\n",
    "\n",
    "yhat_pp2 = model2.predict_proba(X_test)\n",
    "print('log loss:', log_loss(y_test, yhat_pp2))\n",
    "print(classification_report( y_test,y_pred2))\n",
    "\n",
    "# SMOTE did not improve XGBoost results"
   ]
  },
  {
   "cell_type": "markdown",
   "metadata": {},
   "source": [
    "# 6) Evaluation"
   ]
  },
  {
   "cell_type": "code",
   "execution_count": 36,
   "metadata": {},
   "outputs": [
    {
     "data": {
      "text/html": [
       "<div>\n",
       "<style scoped>\n",
       "    .dataframe tbody tr th:only-of-type {\n",
       "        vertical-align: middle;\n",
       "    }\n",
       "\n",
       "    .dataframe tbody tr th {\n",
       "        vertical-align: top;\n",
       "    }\n",
       "\n",
       "    .dataframe thead th {\n",
       "        text-align: right;\n",
       "    }\n",
       "</style>\n",
       "<table border=\"1\" class=\"dataframe\">\n",
       "  <thead>\n",
       "    <tr style=\"text-align: right;\">\n",
       "      <th></th>\n",
       "      <th>pred_1</th>\n",
       "      <th>pred_2</th>\n",
       "      <th>pred_3</th>\n",
       "      <th>pred_4</th>\n",
       "      <th>pred_5</th>\n",
       "      <th>pred_6</th>\n",
       "      <th>pred_7</th>\n",
       "      <th>pred_8</th>\n",
       "      <th>pred_9</th>\n",
       "    </tr>\n",
       "  </thead>\n",
       "  <tbody>\n",
       "    <tr>\n",
       "      <th>1</th>\n",
       "      <td>81</td>\n",
       "      <td>1</td>\n",
       "      <td>0</td>\n",
       "      <td>29</td>\n",
       "      <td>10</td>\n",
       "      <td>3</td>\n",
       "      <td>8</td>\n",
       "      <td>0</td>\n",
       "      <td>0</td>\n",
       "    </tr>\n",
       "    <tr>\n",
       "      <th>2</th>\n",
       "      <td>2</td>\n",
       "      <td>54</td>\n",
       "      <td>1</td>\n",
       "      <td>5</td>\n",
       "      <td>1</td>\n",
       "      <td>1</td>\n",
       "      <td>36</td>\n",
       "      <td>0</td>\n",
       "      <td>0</td>\n",
       "    </tr>\n",
       "    <tr>\n",
       "      <th>3</th>\n",
       "      <td>3</td>\n",
       "      <td>1</td>\n",
       "      <td>5</td>\n",
       "      <td>3</td>\n",
       "      <td>0</td>\n",
       "      <td>0</td>\n",
       "      <td>7</td>\n",
       "      <td>0</td>\n",
       "      <td>0</td>\n",
       "    </tr>\n",
       "    <tr>\n",
       "      <th>4</th>\n",
       "      <td>22</td>\n",
       "      <td>5</td>\n",
       "      <td>1</td>\n",
       "      <td>109</td>\n",
       "      <td>3</td>\n",
       "      <td>2</td>\n",
       "      <td>8</td>\n",
       "      <td>0</td>\n",
       "      <td>0</td>\n",
       "    </tr>\n",
       "    <tr>\n",
       "      <th>5</th>\n",
       "      <td>9</td>\n",
       "      <td>2</td>\n",
       "      <td>0</td>\n",
       "      <td>5</td>\n",
       "      <td>26</td>\n",
       "      <td>2</td>\n",
       "      <td>9</td>\n",
       "      <td>0</td>\n",
       "      <td>0</td>\n",
       "    </tr>\n",
       "    <tr>\n",
       "      <th>6</th>\n",
       "      <td>8</td>\n",
       "      <td>1</td>\n",
       "      <td>1</td>\n",
       "      <td>7</td>\n",
       "      <td>3</td>\n",
       "      <td>34</td>\n",
       "      <td>5</td>\n",
       "      <td>0</td>\n",
       "      <td>0</td>\n",
       "    </tr>\n",
       "    <tr>\n",
       "      <th>7</th>\n",
       "      <td>2</td>\n",
       "      <td>13</td>\n",
       "      <td>5</td>\n",
       "      <td>2</td>\n",
       "      <td>5</td>\n",
       "      <td>0</td>\n",
       "      <td>184</td>\n",
       "      <td>0</td>\n",
       "      <td>0</td>\n",
       "    </tr>\n",
       "    <tr>\n",
       "      <th>8</th>\n",
       "      <td>1</td>\n",
       "      <td>1</td>\n",
       "      <td>0</td>\n",
       "      <td>0</td>\n",
       "      <td>0</td>\n",
       "      <td>0</td>\n",
       "      <td>1</td>\n",
       "      <td>1</td>\n",
       "      <td>0</td>\n",
       "    </tr>\n",
       "    <tr>\n",
       "      <th>9</th>\n",
       "      <td>1</td>\n",
       "      <td>0</td>\n",
       "      <td>0</td>\n",
       "      <td>2</td>\n",
       "      <td>0</td>\n",
       "      <td>0</td>\n",
       "      <td>1</td>\n",
       "      <td>0</td>\n",
       "      <td>5</td>\n",
       "    </tr>\n",
       "  </tbody>\n",
       "</table>\n",
       "</div>"
      ],
      "text/plain": [
       "   pred_1  pred_2  pred_3  pred_4  pred_5  pred_6  pred_7  pred_8  pred_9\n",
       "1      81       1       0      29      10       3       8       0       0\n",
       "2       2      54       1       5       1       1      36       0       0\n",
       "3       3       1       5       3       0       0       7       0       0\n",
       "4      22       5       1     109       3       2       8       0       0\n",
       "5       9       2       0       5      26       2       9       0       0\n",
       "6       8       1       1       7       3      34       5       0       0\n",
       "7       2      13       5       2       5       0     184       0       0\n",
       "8       1       1       0       0       0       0       1       1       0\n",
       "9       1       0       0       2       0       0       1       0       5"
      ]
     },
     "execution_count": 36,
     "metadata": {},
     "output_type": "execute_result"
    }
   ],
   "source": [
    "# confusion matrix of best model XGBoost \n",
    "from sklearn.metrics import confusion_matrix\n",
    "\n",
    "xg_confusion = pd.DataFrame(np.array(confusion_matrix(y_test, y_pred)),\n",
    "                         index = ['1', '2','3', '4','5', '6','7', '8','9'],\n",
    "                        columns=['pred_1', 'pred_2','pred_3', 'pred_4','pred_5', 'pred_6','pred_7', 'pred_8','pred_9'])\n",
    "xg_confusion"
   ]
  },
  {
   "cell_type": "code",
   "execution_count": 37,
   "metadata": {},
   "outputs": [
    {
     "data": {
      "image/png": "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\n",
      "text/plain": [
       "<Figure size 576x432 with 2 Axes>"
      ]
     },
     "metadata": {
      "needs_background": "light"
     },
     "output_type": "display_data"
    }
   ],
   "source": [
    "# confusion matrix of individual class fraction \n",
    "import seaborn as sns\n",
    "conf_mat=pd.DataFrame(np.array(confusion_matrix(y_test,y_pred)),\n",
    "                         index = ['1', '2','3', '4','5', '6','7', '8','9'],\n",
    "                        columns=['1', '2','3', '4','5', '6','7', '8','9'])\n",
    "fig, ax = plt.subplots(figsize=(8,6))\n",
    "sns.heatmap(conf_mat.apply(lambda x: x/x.sum(),axis=1), annot=True, cmap = 'Blues')\n",
    "plt.ylabel('Actual')\n",
    "plt.xlabel('Predicted')\n",
    "plt.show()"
   ]
  },
  {
   "cell_type": "code",
   "execution_count": 38,
   "metadata": {},
   "outputs": [
    {
     "data": {
      "image/png": "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\n",
      "text/plain": [
       "<Figure size 432x288 with 1 Axes>"
      ]
     },
     "metadata": {
      "needs_background": "light"
     },
     "output_type": "display_data"
    }
   ],
   "source": [
    "from xgboost import plot_importance\n",
    "from matplotlib import pyplot\n",
    "\n",
    "# plot feature importance - top 10\n",
    "plot_importance(model,max_num_features=10)\n",
    "pyplot.show()"
   ]
  },
  {
   "cell_type": "code",
   "execution_count": 39,
   "metadata": {},
   "outputs": [
    {
     "name": "stdout",
     "output_type": "stream",
     "text": [
      "Index(['Text_count', 'Gene_ABCC6', 'Gene_ABL1', 'Gene_ACVR1', 'Gene_ADAMTS13',\n",
      "       'Gene_ADGRG1', 'Gene_AGO2', 'Gene_AGXT', 'Gene_AKAP9', 'Gene_AKT1',\n",
      "       ...\n",
      "       'Variation_YAP1-TFE3 Fusion', 'Variation_YWHAE-ROS1 Fusion',\n",
      "       'Variation_ZC3H7B-BCOR Fusion', 'Variation_ZNF198-FGFR1 Fusion',\n",
      "       'Variation_null1313Y', 'Variation_null189Y', 'Variation_null262Q',\n",
      "       'Variation_null267R', 'Variation_null399R', 'Variation_p61BRAF'],\n",
      "      dtype='object', length=4316)\n",
      "Index(['Text_count', 'Gene_ABCC6', 'Gene_ABL1', 'Gene_ACVR1', 'Gene_ADAMTS13',\n",
      "       'Gene_ADGRG1', 'Gene_AGO2', 'Gene_AGXT', 'Gene_AKAP9', 'Gene_AKT1',\n",
      "       ...\n",
      "       'Variation_YAP1-TFE3 Fusion', 'Variation_YWHAE-ROS1 Fusion',\n",
      "       'Variation_ZC3H7B-BCOR Fusion', 'Variation_ZNF198-FGFR1 Fusion',\n",
      "       'Variation_null1313Y', 'Variation_null189Y', 'Variation_null262Q',\n",
      "       'Variation_null267R', 'Variation_null399R', 'Variation_p61BRAF'],\n",
      "      dtype='object', length=4316)\n"
     ]
    }
   ],
   "source": [
    "# model with just gene and variation, no text features\n",
    "X_train_noText=X_train.iloc[:,:4316]\n",
    "print(X_train_noText.columns)\n",
    "X_test_noText=X_test.iloc[:,:4316]\n",
    "print(X_test_noText.columns)"
   ]
  },
  {
   "cell_type": "code",
   "execution_count": 40,
   "metadata": {},
   "outputs": [
    {
     "name": "stdout",
     "output_type": "stream",
     "text": [
      "log loss: 1.2693134910216002\n",
      "              precision    recall  f1-score   support\n",
      "\n",
      "         1.0       0.66      0.46      0.54       132\n",
      "         2.0       0.66      0.27      0.38       100\n",
      "         3.0       0.30      0.16      0.21        19\n",
      "         4.0       0.73      0.48      0.58       150\n",
      "         5.0       0.49      0.42      0.45        53\n",
      "         6.0       0.78      0.54      0.64        59\n",
      "         7.0       0.48      0.91      0.62       211\n",
      "         8.0       0.00      0.00      0.00         4\n",
      "         9.0       1.00      0.56      0.71         9\n",
      "\n",
      "   micro avg       0.56      0.56      0.56       737\n",
      "   macro avg       0.57      0.42      0.46       737\n",
      "weighted avg       0.61      0.56      0.54       737\n",
      "\n"
     ]
    },
    {
     "name": "stderr",
     "output_type": "stream",
     "text": [
      "C:\\Users\\lj\\Anaconda3\\lib\\site-packages\\sklearn\\metrics\\classification.py:1143: UndefinedMetricWarning: Precision and F-score are ill-defined and being set to 0.0 in labels with no predicted samples.\n",
      "  'precision', 'predicted', average, warn_for)\n",
      "C:\\Users\\lj\\Anaconda3\\lib\\site-packages\\sklearn\\metrics\\classification.py:1143: UndefinedMetricWarning: Precision and F-score are ill-defined and being set to 0.0 in labels with no predicted samples.\n",
      "  'precision', 'predicted', average, warn_for)\n",
      "C:\\Users\\lj\\Anaconda3\\lib\\site-packages\\sklearn\\metrics\\classification.py:1143: UndefinedMetricWarning: Precision and F-score are ill-defined and being set to 0.0 in labels with no predicted samples.\n",
      "  'precision', 'predicted', average, warn_for)\n"
     ]
    }
   ],
   "source": [
    "import xgboost as xgb\n",
    "\n",
    "model=xgb.XGBClassifier(random_state=1,learning_rate=0.1)\n",
    "model.fit(X_train_noText,y_train)\n",
    "model.score(X_test_noText,y_test)\n",
    "\n",
    "y_pred = model.predict(X_test_noText)\n",
    "\n",
    "yhat_pp = model.predict_proba(X_test_noText)\n",
    "print('log loss:', log_loss(y_test, yhat_pp))\n",
    "print(classification_report( y_test,y_pred))\n",
    "# score is worse without text features, so text are useful"
   ]
  },
  {
   "cell_type": "markdown",
   "metadata": {},
   "source": [
    "# Insights\n",
    "- Some gene variation in test dataset is not found in train dataset\n",
    "- Texts can improve cell class prediction\n",
    "- A portion 0.35 of class 2 is predict as class 7, maybe some features are similar for the two classes.\n",
    "- Limitation: class 3,5,8 (minority) are predicted very poorly"
   ]
  },
  {
   "cell_type": "markdown",
   "metadata": {},
   "source": [
    "# Next steps\n",
    "- Better cleaning and features reduction: Text NLP – add more stopwords, TfidfVectorizer + TruncatedSVD\n",
    "\n",
    "- Improved resampling: Optimise SMOTE, try SMOTEENN, SMOTETomek\n",
    "\n",
    "- Try other models: LightGBM, Neural Network, LSTM\n",
    "\n",
    "- Deployment: API, flask\n"
   ]
  },
  {
   "cell_type": "markdown",
   "metadata": {},
   "source": [
    "# Outlook\n",
    "Machine learning models can help predict the cell classes base on clinical evidence. \n",
    "\n",
    "This enables more efficient clinical report analysis and personalise cancer treatment.\n",
    "\n",
    "![](image/Capture3.PNG)"
   ]
  }
 ],
 "metadata": {
  "kernelspec": {
   "display_name": "Python 3",
   "language": "python",
   "name": "python3"
  },
  "language_info": {
   "codemirror_mode": {
    "name": "ipython",
    "version": 3
   },
   "file_extension": ".py",
   "mimetype": "text/x-python",
   "name": "python",
   "nbconvert_exporter": "python",
   "pygments_lexer": "ipython3",
   "version": "3.6.8"
  }
 },
 "nbformat": 4,
 "nbformat_minor": 2
}
